{
 "cells": [
  {
   "cell_type": "markdown",
   "metadata": {
    "collapsed": true
   },
   "source": [
    "Some operations and conversions on images and pictures.\n",
    "# Images \n",
    "## From svg to png\n",
    "Use [inkscape](https://inkscape.org/en/)"
   ]
  },
  {
   "cell_type": "code",
   "execution_count": null,
   "metadata": {
    "collapsed": true
   },
   "outputs": [],
   "source": [
    "inkscape -z input.svg -e output.png"
   ]
  },
  {
   "cell_type": "markdown",
   "metadata": {},
   "source": [
    "## svg to pdf"
   ]
  },
  {
   "cell_type": "code",
   "execution_count": null,
   "metadata": {
    "collapsed": true
   },
   "outputs": [],
   "source": [
    "inkscape --file=mySVGinputFile.svg --export-area-drawing --without-gui --export-pdf=output.pdf"
   ]
  },
  {
   "cell_type": "markdown",
   "metadata": {},
   "source": [
    "## From pdf to jpg"
   ]
  },
  {
   "cell_type": "code",
   "execution_count": null,
   "metadata": {
    "collapsed": true
   },
   "outputs": [],
   "source": [
    "convert -colorspace RGB -interlace none -density 300x300 -quality 100 in.pdf out.jpg"
   ]
  },
  {
   "cell_type": "markdown",
   "metadata": {},
   "source": [
    "## Montage"
   ]
  },
  {
   "cell_type": "code",
   "execution_count": null,
   "metadata": {
    "collapsed": true
   },
   "outputs": [],
   "source": [
    "montage -tile 2x2 -geometry 1900x2600+5+5 *.JPG out2.JPG "
   ]
  },
  {
   "cell_type": "markdown",
   "metadata": {},
   "source": [
    "## Mosaic\n",
    "Use `metapixel` tool.\n",
    "1. Prepare the tiles: indicate directory storing the images, the ouput directory and optionaly the size of the tiles.\n",
    "2. Apply the tool by indicating the *background image* and optionaly the scale factor."
   ]
  },
  {
   "cell_type": "code",
   "execution_count": null,
   "metadata": {
    "collapsed": true
   },
   "outputs": [],
   "source": [
    "metapixel-prepare -r ../CLQ49/ 7-Mosaic/ --width 128 --height 85\n",
    "metapixel --library 7-Mosaic/ --metapixel ./colloquium_logo3.png --scale 4 5.jpg"
   ]
  },
  {
   "cell_type": "markdown",
   "metadata": {},
   "source": [
    "# Movies\n",
    "## MP4 from image sequence"
   ]
  },
  {
   "cell_type": "code",
   "execution_count": null,
   "metadata": {
    "collapsed": true
   },
   "outputs": [],
   "source": [
    "ffmpeg -framerate 12 -i img_%06d.JPG -c:v libx264 -crf 20 out.mp4\n",
    "ffmpeg -i img%04d.JPG -c:v libx264 -vf fps=15 -pix_fmt yuv420p out.mp4\n",
    "ffmpeg -r 24 -i north_sea%02d.png -filter:v fps=6 -vcodec libx264 -y -an -r 24 video2.mp4"
   ]
  },
  {
   "cell_type": "markdown",
   "metadata": {},
   "source": [
    "## Renaming files"
   ]
  },
  {
   "cell_type": "code",
   "execution_count": null,
   "metadata": {},
   "outputs": [],
   "source": [
    "a=1\n",
    "for i in *.jpg; do\n",
    "  new=$(printf \"img%04d.JPG\" \"$a\") #04 pad to length of 4\n",
    "  echo ${new}\n",
    "  mv -i -- \"$i\" \"$new\"\n",
    "  let a=a+1\n",
    "done"
   ]
  },
  {
   "cell_type": "markdown",
   "metadata": {},
   "source": [
    "## Merge two (or more) video files"
   ]
  },
  {
   "cell_type": "code",
   "execution_count": null,
   "metadata": {
    "collapsed": true
   },
   "outputs": [],
   "source": [
    "mkvmerge -o 12.mp4 output1.mp4 \\+ output2.mp4"
   ]
  },
  {
   "cell_type": "markdown",
   "metadata": {},
   "source": [
    "# Animated gif's"
   ]
  },
  {
   "cell_type": "markdown",
   "metadata": {},
   "source": [
    "## Adding text (optional)\n",
    "Here we add text in the northwest corner with a black, transparent color (defined by its RGB code)."
   ]
  },
  {
   "cell_type": "code",
   "execution_count": 1,
   "metadata": {},
   "outputs": [
    {
     "name": "stdout",
     "output_type": "stream",
     "text": [
      "convert-im6.q16: unable to open image `input.jog': No such file or directory @ error/blob.c/OpenBlob/2874.\n",
      "convert-im6.q16: no decode delegate for this image format `JOG' @ error/constitute.c/ReadImage/560.\n",
      "convert-im6.q16: no images defined `output.jpg' @ error/convert.c/ConvertImageCommand/3258.\n"
     ]
    },
    {
     "ename": "",
     "evalue": "1",
     "output_type": "error",
     "traceback": []
    }
   ],
   "source": [
    "convert input.jpg -gravity Northwest -fill rgba\\(0,0,0,0.4\\) -pointsize 200 -annotate +50+50 'the text' output.jpg"
   ]
  },
  {
   "cell_type": "markdown",
   "metadata": {},
   "source": [
    "Create the animation\n",
    "- increase `delay` to slow it down\n",
    "- loop = 0 means repeat the animation an infinite number of times."
   ]
  },
  {
   "cell_type": "code",
   "execution_count": 2,
   "metadata": {},
   "outputs": [
    {
     "name": "stdout",
     "output_type": "stream",
     "text": [
      "convert-im6.q16: unable to open image `files*.jpg': No such file or directory @ error/blob.c/OpenBlob/2874.\n",
      "convert-im6.q16: no images defined `anim.gif' @ error/convert.c/ConvertImageCommand/3258.\n"
     ]
    },
    {
     "ename": "",
     "evalue": "1",
     "output_type": "error",
     "traceback": []
    }
   ],
   "source": [
    "convert -delay 30 -loop 0 files*.jpg anim.gif"
   ]
  },
  {
   "cell_type": "code",
   "execution_count": null,
   "metadata": {},
   "outputs": [],
   "source": []
  }
 ],
 "metadata": {
  "@webio": {
   "lastCommId": "8AB13B35788C466D86247AF1E83BA0CD",
   "lastKernelId": "91593136-7a16-4875-b471-9ba00505ea14"
  },
  "kernelspec": {
   "display_name": "Bash",
   "language": "bash",
   "name": "bash"
  },
  "language_info": {
   "codemirror_mode": "shell",
   "file_extension": ".sh",
   "mimetype": "text/x-sh",
   "name": "bash"
  }
 },
 "nbformat": 4,
 "nbformat_minor": 2
}
