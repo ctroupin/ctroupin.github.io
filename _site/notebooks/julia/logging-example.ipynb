{
 "cells": [
  {
   "cell_type": "markdown",
   "metadata": {},
   "source": [
    "In this notebook we provide example of how to manage [logging](https://docs.julialang.org/en/v1/stdlib/Logging/index.html) in a [`Julia`](http://julialang.org/) code."
   ]
  },
  {
   "cell_type": "code",
   "execution_count": 1,
   "metadata": {
    "collapsed": true
   },
   "outputs": [],
   "source": [
    "if VERSION < v\"0.7\"\n",
    "    using Compat: @info, @warn, range, cat\n",
    "end"
   ]
  },
  {
   "cell_type": "markdown",
   "metadata": {},
   "source": [
    "## Basics\n",
    "The main commands are `@debug`, `@info`, `@warn` and `@error`.     \n",
    "Let's put them in a function so we can re-use it."
   ]
  },
  {
   "cell_type": "code",
   "execution_count": 2,
   "metadata": {},
   "outputs": [
    {
     "name": "stderr",
     "output_type": "stream",
     "text": [
      "┌ Error: Missing file\n",
      "└ @ Main In[2]:2\n",
      "┌ Warning: Unexpect number of lines\n",
      "└ @ Main In[2]:3\n",
      "┌ Info: Working on 10 files\n",
      "└ @ Main In[2]:4\n"
     ]
    }
   ],
   "source": [
    "function check_logging()\n",
    "    @error(\"Missing file\");\n",
    "    @warn(\"Unexpect number of lines\")\n",
    "    @info(\"Working on 10 files\")\n",
    "    @debug(\"Working on file 1/10\")\n",
    "end;\n",
    "check_logging();"
   ]
  },
  {
   "cell_type": "markdown",
   "metadata": {},
   "source": [
    "As we can see, the `@debug` command doesn't write anything. This is because it is desabled by default.      \n",
    "To enable it, it is necessary to modify the environment variable `JULIA_DEBUG`, for example:"
   ]
  },
  {
   "cell_type": "code",
   "execution_count": 9,
   "metadata": {
    "collapsed": true
   },
   "outputs": [],
   "source": [
    "ENV[\"JULIA_DEBUG\"] = \"all\";"
   ]
  },
  {
   "cell_type": "markdown",
   "metadata": {},
   "source": [
    "which means all the modules with display debug messages.     \n",
    "Debug can be enabled for files or modules, for instance\n",
    "```julia\n",
    "ENV[\"JULIA_DEBUG\"] = \"DIVAnd\";\n",
    "```"
   ]
  },
  {
   "cell_type": "code",
   "execution_count": 10,
   "metadata": {},
   "outputs": [
    {
     "name": "stderr",
     "output_type": "stream",
     "text": [
      "┌ Error: Missing file\n",
      "└ @ Main In[2]:2\n",
      "┌ Warning: Unexpect number of lines\n",
      "└ @ Main In[2]:3\n",
      "┌ Info: Working on 10 files\n",
      "└ @ Main In[2]:4\n",
      "┌ Debug: Working on file 1/10\n",
      "└ @ Main In[2]:5\n"
     ]
    }
   ],
   "source": [
    "check_logging()"
   ]
  },
  {
   "cell_type": "markdown",
   "metadata": {},
   "source": [
    "The key is that if`@debug` is not enabled, its content it not evaluated at all."
   ]
  },
  {
   "cell_type": "markdown",
   "metadata": {},
   "source": [
    "### Modifying the level\n",
    "There are several ways to do it, for example by using `disable_logging`:"
   ]
  },
  {
   "cell_type": "code",
   "execution_count": 11,
   "metadata": {},
   "outputs": [
    {
     "data": {
      "text/plain": [
       "LogLevel(1001)"
      ]
     },
     "execution_count": 11,
     "metadata": {},
     "output_type": "execute_result"
    }
   ],
   "source": [
    "using Logging\n",
    "disable_logging(Base.CoreLogging.Warn)"
   ]
  },
  {
   "cell_type": "code",
   "execution_count": 12,
   "metadata": {},
   "outputs": [
    {
     "name": "stderr",
     "output_type": "stream",
     "text": [
      "┌ Error: Missing file\n",
      "└ @ Main In[2]:2\n"
     ]
    }
   ],
   "source": [
    "check_logging()"
   ]
  },
  {
   "cell_type": "markdown",
   "metadata": {},
   "source": [
    "We see that only the messages above `Warn` are shown.    \n",
    "If we need to go back to the inital state:"
   ]
  },
  {
   "cell_type": "code",
   "execution_count": 13,
   "metadata": {},
   "outputs": [
    {
     "name": "stderr",
     "output_type": "stream",
     "text": [
      "┌ Error: Missing file\n",
      "└ @ Main In[2]:2\n",
      "┌ Warning: Unexpect number of lines\n",
      "└ @ Main In[2]:3\n",
      "┌ Info: Working on 10 files\n",
      "└ @ Main In[2]:4\n"
     ]
    }
   ],
   "source": [
    "disable_logging(Base.CoreLogging.Debug);\n",
    "check_logging()"
   ]
  },
  {
   "cell_type": "code",
   "execution_count": 14,
   "metadata": {},
   "outputs": [
    {
     "data": {
      "text/markdown": [
       "```\n",
       "min_enabled_level(logger)\n",
       "```\n",
       "\n",
       "Return the maximum disabled level for `logger` for early filtering.  That is, the log level below or equal to which all messages are filtered.\n"
      ],
      "text/plain": [
       "\u001b[36m  min_enabled_level(logger)\u001b[39m\n",
       "\n",
       "  Return the maximum disabled level for \u001b[36mlogger\u001b[39m for early filtering. That is,\n",
       "  the log level below or equal to which all messages are filtered."
      ]
     },
     "execution_count": 14,
     "metadata": {},
     "output_type": "execute_result"
    }
   ],
   "source": [
    "?Logging.min_enabled_level"
   ]
  },
  {
   "cell_type": "markdown",
   "metadata": {
    "collapsed": true
   },
   "source": [
    "### Writing to a file"
   ]
  },
  {
   "cell_type": "code",
   "execution_count": 21,
   "metadata": {
    "collapsed": true
   },
   "outputs": [],
   "source": [
    "io = open(\"DIVAnd.log\", \"w+\")\n",
    "logger = SimpleLogger(io)\n",
    "global_logger(logger)\n",
    "\n",
    "@info(\"a context specific log message\")\n",
    "@info(\"a global log message\")\n",
    "close(io)"
   ]
  },
  {
   "cell_type": "code",
   "execution_count": 19,
   "metadata": {
    "collapsed": true
   },
   "outputs": [],
   "source": []
  }
 ],
 "metadata": {
  "@webio": {
   "lastCommId": "320A67B8189246C4B034BEC1E2C7BF92",
   "lastKernelId": "877e299d-c909-4e2e-8870-523d8f72931a"
  },
  "kernelspec": {
   "display_name": "Julia 1.0.0",
   "language": "julia",
   "name": "julia-1.0"
  },
  "language_info": {
   "file_extension": ".jl",
   "mimetype": "application/julia",
   "name": "julia",
   "version": "1.0.0"
  }
 },
 "nbformat": 4,
 "nbformat_minor": 2
}
