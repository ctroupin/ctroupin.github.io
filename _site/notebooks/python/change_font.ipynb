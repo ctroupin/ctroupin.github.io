{
 "cells": [
  {
   "cell_type": "code",
   "execution_count": 37,
   "metadata": {},
   "outputs": [],
   "source": [
    "import os\n",
    "import matplotlib.pyplot as plt\n",
    "import matplotlib\n",
    "import numpy as np\n",
    "import netCDF4\n",
    "import sys\n",
    "sys.path.insert(0, '..')\n",
    "import filament\n",
    "from matplotlib.font_manager import FontProperties\n",
    "fontfile = \"/home/ctroupin/.fonts/DS-DIGI.TTF\"\n",
    "myfont = FontProperties(fname=fontfile)\n",
    "matplotlib.rcParams.update({'font.size': 22})"
   ]
  },
  {
   "cell_type": "code",
   "execution_count": 38,
   "metadata": {},
   "outputs": [
    {
     "ename": "AttributeError",
     "evalue": "module 'filament' has no attribute 'read_nao_esrl'",
     "output_type": "error",
     "traceback": [
      "\u001b[0;31m---------------------------------------------------------------------------\u001b[0m",
      "\u001b[0;31mAttributeError\u001b[0m                            Traceback (most recent call last)",
      "\u001b[0;32m<ipython-input-38-1039f59790ee>\u001b[0m in \u001b[0;36m<module>\u001b[0;34m\u001b[0m\n\u001b[1;32m      7\u001b[0m \u001b[0mfile3\u001b[0m \u001b[0;34m=\u001b[0m \u001b[0mos\u001b[0m\u001b[0;34m.\u001b[0m\u001b[0mpath\u001b[0m\u001b[0;34m.\u001b[0m\u001b[0mjoin\u001b[0m\u001b[0;34m(\u001b[0m\u001b[0mnaodir\u001b[0m\u001b[0;34m,\u001b[0m \u001b[0;34m\"norm.nao.monthly.b5001.current.ascii\"\u001b[0m\u001b[0;34m)\u001b[0m\u001b[0;34m\u001b[0m\u001b[0;34m\u001b[0m\u001b[0m\n\u001b[1;32m      8\u001b[0m \u001b[0;34m\u001b[0m\u001b[0m\n\u001b[0;32m----> 9\u001b[0;31m \u001b[0mdates1\u001b[0m\u001b[0;34m,\u001b[0m \u001b[0mnaovalues1\u001b[0m \u001b[0;34m=\u001b[0m \u001b[0mfilament\u001b[0m\u001b[0;34m.\u001b[0m\u001b[0mread_nao_esrl\u001b[0m\u001b[0;34m(\u001b[0m\u001b[0mfile1\u001b[0m\u001b[0;34m)\u001b[0m\u001b[0;34m\u001b[0m\u001b[0;34m\u001b[0m\u001b[0m\n\u001b[0m\u001b[1;32m     10\u001b[0m \u001b[0mdates2\u001b[0m\u001b[0;34m,\u001b[0m \u001b[0mnaovalues2\u001b[0m \u001b[0;34m=\u001b[0m \u001b[0mfilament\u001b[0m\u001b[0;34m.\u001b[0m\u001b[0mread_nao_ucar\u001b[0m\u001b[0;34m(\u001b[0m\u001b[0mfile2\u001b[0m\u001b[0;34m)\u001b[0m\u001b[0;34m\u001b[0m\u001b[0;34m\u001b[0m\u001b[0m\n\u001b[1;32m     11\u001b[0m \u001b[0mdates3\u001b[0m\u001b[0;34m,\u001b[0m \u001b[0mnaovalues3\u001b[0m \u001b[0;34m=\u001b[0m \u001b[0mfilament\u001b[0m\u001b[0;34m.\u001b[0m\u001b[0mread_nao_noaa\u001b[0m\u001b[0;34m(\u001b[0m\u001b[0mfile3\u001b[0m\u001b[0;34m)\u001b[0m\u001b[0;34m\u001b[0m\u001b[0;34m\u001b[0m\u001b[0m\n",
      "\u001b[0;31mAttributeError\u001b[0m: module 'filament' has no attribute 'read_nao_esrl'"
     ]
    }
   ],
   "source": [
    "naodir = \"/data/NAO/\"\n",
    "figdir = \"/data/NAO/figures\"\n",
    "if not os.path.exists(figdir):\n",
    "    os.makedirs(figdir)\n",
    "file1 = os.path.join(naodir, \"nao.long.data\")\n",
    "file2 = os.path.join(naodir, \"nao_station_monthly.txt\")\n",
    "file3 = os.path.join(naodir, \"norm.nao.monthly.b5001.current.ascii\")\n",
    "\n",
    "dates1, naovalues1 = filament.read_nao_esrl(file1)\n",
    "dates2, naovalues2 = filament.read_nao_ucar(file2)\n",
    "dates3, naovalues3 = filament.read_nao_noaa(file3)"
   ]
  },
  {
   "cell_type": "code",
   "execution_count": 32,
   "metadata": {},
   "outputs": [],
   "source": [
    "d0 = dates.data[0]"
   ]
  },
  {
   "cell_type": "code",
   "execution_count": 13,
   "metadata": {},
   "outputs": [
    {
     "data": {
      "image/png": "[encoded data removed]",
      "text/plain": [
       "<Figure size 432x288 with 1 Axes>"
      ]
     },
     "metadata": {
      "needs_background": "light"
     },
     "output_type": "display_data"
    }
   ],
   "source": [
    "with plt.style.context('seaborn-colorblind'):\n",
    "    fig = plt.figure()\n",
    "    ax = plt.subplot(111)\n",
    "    ax.plot(3, 2.)\n",
    "    plt.setp(ax.get_xticklabels(), fontproperties=myfont, fontsize=16)\n",
    "    plt.setp(ax.get_yticklabels(), fontproperties=myfont, fontsize=16)\n",
    "    ax.spines['top'].set_visible(False)\n",
    "    ax.spines['right'].set_visible(False)\n",
    "    ax.spines['left'].set_visible(False)\n",
    "    ax.spines['bottom'].set_visible(False)\n",
    "\n",
    "    plt.show()"
   ]
  },
  {
   "cell_type": "code",
   "execution_count": 10,
   "metadata": {},
   "outputs": [
    {
     "data": {
      "text/plain": [
       "['default',\n",
       " 'classic',\n",
       " 'Solarize_Light2',\n",
       " '_classic_test_patch',\n",
       " 'bmh',\n",
       " 'dark_background',\n",
       " 'fast',\n",
       " 'fivethirtyeight',\n",
       " 'ggplot',\n",
       " 'grayscale',\n",
       " 'seaborn',\n",
       " 'seaborn-bright',\n",
       " 'seaborn-colorblind',\n",
       " 'seaborn-dark',\n",
       " 'seaborn-dark-palette',\n",
       " 'seaborn-darkgrid',\n",
       " 'seaborn-deep',\n",
       " 'seaborn-muted',\n",
       " 'seaborn-notebook',\n",
       " 'seaborn-paper',\n",
       " 'seaborn-pastel',\n",
       " 'seaborn-poster',\n",
       " 'seaborn-talk',\n",
       " 'seaborn-ticks',\n",
       " 'seaborn-white',\n",
       " 'seaborn-whitegrid',\n",
       " 'tableau-colorblind10']"
      ]
     },
     "execution_count": 10,
     "metadata": {},
     "output_type": "execute_result"
    }
   ],
   "source": [
    "style_list = ['default', 'classic'] + sorted(style for style in plt.style.available if style != 'classic')\n",
    "style_list"
   ]
  },
  {
   "cell_type": "code",
   "execution_count": null,
   "metadata": {},
   "outputs": [],
   "source": []
  }
 ],
 "metadata": {
  "@webio": {
   "lastCommId": null,
   "lastKernelId": null
  },
  "kernelspec": {
   "display_name": "Filament",
   "language": "python",
   "name": "filament3.8"
  },
  "language_info": {
   "codemirror_mode": {
    "name": "ipython",
    "version": 3
   },
   "file_extension": ".py",
   "mimetype": "text/x-python",
   "name": "python",
   "nbconvert_exporter": "python",
   "pygments_lexer": "ipython3",
   "version": "3.8.0"
  }
 },
 "nbformat": 4,
 "nbformat_minor": 2
}
