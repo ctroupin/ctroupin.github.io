{
 "cells": [
  {
   "cell_type": "code",
   "execution_count": 3,
   "metadata": {},
   "outputs": [],
   "source": [
    "import bibtexparser\n",
    "import os\n",
    "import glob"
   ]
  },
  {
   "cell_type": "code",
   "execution_count": 4,
   "metadata": {
    "collapsed": true
   },
   "outputs": [],
   "source": [
    "datadir = \"../../CV/\"\n",
    "filelist = sorted(glob.glob(os.path.join(datadir, \"*.bib\")))"
   ]
  },
  {
   "cell_type": "code",
   "execution_count": 6,
   "metadata": {},
   "outputs": [],
   "source": [
    "with open(filelist[-1], \"r\") as bib:\n",
    "    bib_database = bibtexparser.load(bib)"
   ]
  },
  {
   "cell_type": "code",
   "execution_count": 11,
   "metadata": {},
   "outputs": [
    {
     "data": {
      "text/plain": [
       "{'ENTRYTYPE': 'article',\n",
       " 'ID': 'ALVERA2011OD',\n",
       " 'affiliation': 'AGO-GHER-MARE, University of Liège, Allée du Six Aout, 17, Sart Tilman, Liège, 4000 Belgium',\n",
       " 'author': \"A. Alvera-Azc\\\\'{a}rate and C. Troupin and A. Barth and J.-M. Beckers\",\n",
       " 'doi': '10.1007/s10236-011-0403-x',\n",
       " 'issn': '1616-7341',\n",
       " 'issue': '6',\n",
       " 'journal': 'Ocean Dynamics',\n",
       " 'keyword': 'Earth and Environmental Science',\n",
       " 'owner': 'charles',\n",
       " 'pages': '767-778',\n",
       " 'timestamp': '2011.06.14',\n",
       " 'title': 'Comparison between satellite and in situ sea surface temperature data in the {W}estern {M}editerranean {S}ea',\n",
       " 'url': 'http://www.springerlink.com/content/r5784271357u5400/',\n",
       " 'volume': '61',\n",
       " 'year': '2011'}"
      ]
     },
     "execution_count": 11,
     "metadata": {},
     "output_type": "execute_result"
    }
   ],
   "source": [
    "bib_database.entries[0]"
   ]
  },
  {
   "cell_type": "code",
   "execution_count": null,
   "metadata": {
    "collapsed": true
   },
   "outputs": [],
   "source": []
  }
 ],
 "metadata": {
  "@webio": {
   "lastCommId": "3EAD6EF55CCE4FFEA6DDEB521B9F178A",
   "lastKernelId": "bbce51e6-1015-4b74-8421-4ed770828734"
  },
  "kernelspec": {
   "display_name": "Diva-python3.6",
   "language": "python",
   "name": "diva-python3.6"
  },
  "language_info": {
   "codemirror_mode": {
    "name": "ipython",
    "version": 3
   },
   "file_extension": ".py",
   "mimetype": "text/x-python",
   "name": "python",
   "nbconvert_exporter": "python",
   "pygments_lexer": "ipython3",
   "version": "3.6.0"
  }
 },
 "nbformat": 4,
 "nbformat_minor": 2
}
