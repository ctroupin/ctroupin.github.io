{
 "cells": [
  {
   "cell_type": "markdown",
   "metadata": {},
   "source": [
    "The goal is to show how to plot geophysical fields using for instance pcolor, over a background consisting of a visible, satellite image, using\n",
    "1. [`Basemap`](https://matplotlib.org/basemap/).\n",
    "2. [`Cartopy`](https://scitools.org.uk/cartopy/docs/latest/).\n",
    "The data file is not provided but (hopefully) the procedure is clear enough that it can be with any dataset."
   ]
  },
  {
   "cell_type": "code",
   "execution_count": null,
   "metadata": {},
   "outputs": [],
   "source": [
    "import os\n",
    "from mpl_toolkits.basemap import Basemap\n",
    "import matplotlib.pyplot as plt\n",
    "import cartopy\n",
    "import cartopy.crs as ccrs\n",
    "import cartopy.feature as cf\n",
    "import netCDF4\n",
    "import numpy as np\n",
    "import matplotlib.colors as colors\n",
    "import cmocean\n",
    "from osgeo import gdal, osr\n",
    "from cartopy.mpl.gridliner import LONGITUDE_FORMATTER, LATITUDE_FORMATTER"
   ]
  },
  {
   "cell_type": "markdown",
   "metadata": {},
   "source": [
    "These lines to get rid of some `Matplotlib` warnings."
   ]
  },
  {
   "cell_type": "code",
   "execution_count": null,
   "metadata": {},
   "outputs": [],
   "source": [
    "import warnings\n",
    "import matplotlib.cbook\n",
    "warnings.filterwarnings(\"ignore\",category=matplotlib.cbook.mplDeprecation)"
   ]
  },
  {
   "cell_type": "markdown",
   "metadata": {},
   "source": [
    "## Data\n",
    "We will use:\n",
    "1. Sentinel-2 image (geoTIFF format) downloaded from the [Sentinel-Hub](https://apps.sentinel-hub.com/eo-browser/?lat=57.991&lng=18.620&zoom=9&time=2019-08-09&preset=1_TRUE_COLOR&atmFilter=DOS1&datasource=Sentinel-2%20L2A) browser and \n",
    "2. A netCDF file containg measurements of chlorophyll concentration, also Sentinel-2."
   ]
  },
  {
   "cell_type": "code",
   "execution_count": null,
   "metadata": {},
   "outputs": [],
   "source": [
    "imagefile = \"/data/Visible/Sentinel-2_L2A_2019-08-09c.tiff\"\n",
    "datafile = \"/data/Sentinel2/S2A_MSI_2019_08_09_10_00_31_T34VCK_L2W.nc\"\n",
    "os.path.exists(imagefile) & os.path.exists(datafile)"
   ]
  },
  {
   "cell_type": "markdown",
   "metadata": {},
   "source": [
    "### Data reading\n",
    "For the netCDF we load the coordinates and the field:"
   ]
  },
  {
   "cell_type": "code",
   "execution_count": null,
   "metadata": {},
   "outputs": [],
   "source": [
    "with netCDF4.Dataset(datafile) as nc:\n",
    "    lon = nc.variables[\"lon\"][:]\n",
    "    lat = nc.variables[\"lat\"][:]\n",
    "    chl_oc3 = nc.variables[\"chl_oc3\"][:]"
   ]
  },
  {
   "cell_type": "markdown",
   "metadata": {},
   "source": [
    "### Visible image reading\n",
    "The image was downloaded as a high-resolution geoTIFF with the WGS 84 coordinate system.   \n",
    "The function to read the file is detailed in this [post](https://ctroupin.github.io/posts/2019-08-30-basemap_geotiff/)."
   ]
  },
  {
   "cell_type": "code",
   "execution_count": null,
   "metadata": {},
   "outputs": [],
   "source": [
    "def read_geotiff(filename):\n",
    "    \"\"\"\n",
    "    Read an image and compute the coordinates from a geoTIFF file\n",
    "    \"\"\"\n",
    "    ds = gdal.Open(filename, gdal.GA_ReadOnly)\n",
    "    ds.GetProjectionRef()\n",
    "    # Read the array and the transformation\n",
    "    arr = ds.ReadAsArray()\n",
    "    trans = ds.GetGeoTransform()\n",
    "    extent = (trans[0], trans[0] + ds.RasterXSize*trans[1],\n",
    "    trans[3] + ds.RasterYSize*trans[5], trans[3])\n",
    "    \n",
    "    # Get the info on the projection\n",
    "    proj = ds.GetProjection()\n",
    "    inproj = osr.SpatialReference()\n",
    "    inproj.ImportFromWkt(proj)\n",
    "\n",
    "    arr = np.transpose(arr, (1, 2, 0))\n",
    "\n",
    "    x = np.arange(0, ds.RasterXSize)\n",
    "    y = np.arange(0, ds.RasterYSize)\n",
    "        \n",
    "    xx, yy = np.meshgrid(x, y)\n",
    "\n",
    "    lon = trans[1] * xx + trans[2] * yy + trans[0]\n",
    "    lat = trans[4] * xx + trans[5] * yy + trans[3]\n",
    "        \n",
    "    return lon, lat, arr, extent, inproj"
   ]
  },
  {
   "cell_type": "code",
   "execution_count": null,
   "metadata": {},
   "outputs": [],
   "source": [
    "lon_vis, lat_vis, image_vis, extent, inproj = read_geotiff(imagefile)\n",
    "print(inproj)"
   ]
  },
  {
   "cell_type": "markdown",
   "metadata": {},
   "source": [
    "The variable `extent` stores the image geographical domain: "
   ]
  },
  {
   "cell_type": "code",
   "execution_count": null,
   "metadata": {},
   "outputs": [],
   "source": [
    "print(extent)"
   ]
  },
  {
   "cell_type": "markdown",
   "metadata": {},
   "source": [
    "## Create the plot\n",
    "### Projection\n",
    "With `Basemap` we start by creating the projection."
   ]
  },
  {
   "cell_type": "code",
   "execution_count": null,
   "metadata": {},
   "outputs": [],
   "source": [
    "m = Basemap(projection='merc',\n",
    "        llcrnrlon=extent[0], llcrnrlat=extent[2],\n",
    "        urcrnrlon=extent[1], urcrnrlat=extent[3],\n",
    "        lat_ts= 0.5 * (extent[2] + extent[3] ), resolution=\"h\")"
   ]
  },
  {
   "cell_type": "markdown",
   "metadata": {},
   "source": [
    "### Test 1\n",
    "For the tests, it is better to sub-sample the field to display, this is why we add the `[::NN, ::NN]` after the variables."
   ]
  },
  {
   "cell_type": "code",
   "execution_count": null,
   "metadata": {},
   "outputs": [],
   "source": [
    "NN = 20\n",
    "plt.figure(figsize=(8, 8))\n",
    "ax = plt.subplot(111)\n",
    "# Add the visible image\n",
    "m.imshow(image_vis, origin='upper', zorder=4)\n",
    "\n",
    "pcm = m.pcolormesh(lon[::NN, ::NN], lat[::NN, ::NN], chl_oc3[::NN, ::NN], latlon=True,\n",
    "           norm=colors.LogNorm(vmin=0.95, vmax=7.5), cmap=cmocean.cm.ice, zorder=5)\n",
    "\n",
    "cb = plt.colorbar(pcm, extend=\"both\")\n",
    "cb.set_ticks(np.arange(0, 10))\n",
    "cb.set_ticklabels([\"1\", \"2\", \"3\", \"4\", \"5\", \"6\", \"7\"])\n",
    "\n",
    "m.drawcoastlines(linewidth=0.5, zorder=6, color=\".3\")\n",
    "m.drawmeridians(np.arange(17.25, 19.55, 0.5),\n",
    "                labels=(0,0,0,1), linewidth=.25, zorder=6, fontsize=10)\n",
    "m.drawparallels(np.arange(57.5, 59., 0.5),\n",
    "                labels=(1,0,0,1), linewidth=.25, zorder=6, fontsize=10)\n",
    "\n",
    "plt.show()\n",
    "plt.close()"
   ]
  },
  {
   "cell_type": "markdown",
   "metadata": {},
   "source": [
    "### Test 2\n",
    "It is not too bad but the limits are taken from the visible image, while we might prefer to use the field (chlorophyll concentration) extent. Here is the new projection:"
   ]
  },
  {
   "cell_type": "code",
   "execution_count": null,
   "metadata": {},
   "outputs": [],
   "source": [
    "m2 = Basemap(projection='merc',\n",
    "        llcrnrlon=lon.min(), llcrnrlat=lat.min(),\n",
    "        urcrnrlon=lon.max(), urcrnrlat=lat.max(),\n",
    "        lat_ts= 0.5 * (lat.min() + lat.max() ), resolution=\"h\")"
   ]
  },
  {
   "cell_type": "markdown",
   "metadata": {},
   "source": [
    "If we apply the same plotting code as before, it won't work correctly..."
   ]
  },
  {
   "cell_type": "code",
   "execution_count": null,
   "metadata": {},
   "outputs": [],
   "source": [
    "NN = 20\n",
    "plt.figure(figsize=(8, 8))\n",
    "ax = plt.subplot(111)\n",
    "# Add the visible image\n",
    "m2.imshow(image_vis, origin='upper', zorder=4)\n",
    "\n",
    "pcm = m2.pcolormesh(lon[::NN, ::NN], lat[::NN, ::NN], chl_oc3[::NN, ::NN], latlon=True,\n",
    "           norm=colors.LogNorm(vmin=0.95, vmax=7.5), cmap=cmocean.cm.ice, zorder=5)\n",
    "\n",
    "cb = plt.colorbar(pcm, extend=\"both\")\n",
    "cb.set_ticks(np.arange(0, 10))\n",
    "cb.set_ticklabels([\"1\", \"2\", \"3\", \"4\", \"5\", \"6\", \"7\"])\n",
    "\n",
    "m2.drawcoastlines(linewidth=0.5, zorder=6, color=\".3\")\n",
    "m2.drawmeridians(np.arange(17.25, 19.55, 0.5),\n",
    "                labels=(0,0,0,1), linewidth=.5, zorder=6, fontsize=10)\n",
    "m2.drawparallels(np.arange(57.5, 59., 0.5),\n",
    "                labels=(1,0,0,1), linewidth=.5, zorder=6, fontsize=10)\n",
    "\n",
    "plt.show()\n",
    "plt.close()"
   ]
  },
  {
   "cell_type": "markdown",
   "metadata": {},
   "source": [
    "It might look ok, but it is not: the visible background does not correspond to the field displayed with `pcolormesh` (you can check with the position of the clouds)."
   ]
  },
  {
   "cell_type": "markdown",
   "metadata": {},
   "source": [
    "### Test 3: subset visible image\n",
    "We will take only the part of the visible image that corresponds to our domain, as defined by the chlorophyll field.     \n",
    "**Note:** this will work only if the visible image domain encompasses the field we want to plot over it."
   ]
  },
  {
   "cell_type": "code",
   "execution_count": null,
   "metadata": {},
   "outputs": [],
   "source": [
    "domain = (lon.min(), lon.max(), lat.min(), lat.max())"
   ]
  },
  {
   "cell_type": "markdown",
   "metadata": {},
   "source": [
    "We create a short function for the extraction of a sub-domain of the geoTIFF."
   ]
  },
  {
   "cell_type": "code",
   "execution_count": null,
   "metadata": {},
   "outputs": [],
   "source": [
    "def extract_area(lonvis, latvis, arrayvis, coordinates):\n",
    "    \"\"\"\n",
    "    Extract the visible image in the region of interest\n",
    "    \"\"\"\n",
    "    llon = lonvis[0]\n",
    "    llat = np.array([lats[0] for lats in latvis])\n",
    "    goodlon = np.where( (llon <= coordinates[1]) & (llon >= coordinates[0]))[0]\n",
    "    goodlat = np.where( (llat <= coordinates[3]) & (llat >= coordinates[2]))[0]\n",
    "\n",
    "    arrayvis = arrayvis[goodlat,:,:]\n",
    "    arrayvis = arrayvis[:,goodlon,:]\n",
    "    \n",
    "    return arrayvis"
   ]
  },
  {
   "cell_type": "code",
   "execution_count": null,
   "metadata": {},
   "outputs": [],
   "source": [
    "image_sel = extract_area(lon_vis, lat_vis, image_vis, domain)"
   ]
  },
  {
   "cell_type": "markdown",
   "metadata": {},
   "source": [
    "#### Create the plot"
   ]
  },
  {
   "cell_type": "code",
   "execution_count": null,
   "metadata": {},
   "outputs": [],
   "source": [
    "NN = 20\n",
    "plt.figure(figsize=(8, 8))\n",
    "ax = plt.subplot(111)\n",
    "# Add the visible image\n",
    "m2.imshow(image_sel, origin='upper', zorder=4)\n",
    "\n",
    "pcm = m2.pcolormesh(lon[::NN, ::NN], lat[::NN, ::NN], chl_oc3[::NN, ::NN], latlon=True,\n",
    "           norm=colors.LogNorm(vmin=0.95, vmax=7.5), cmap=cmocean.cm.ice, zorder=5)\n",
    "\n",
    "cb = plt.colorbar(pcm, extend=\"both\")\n",
    "cb.set_ticks(np.arange(0, 10))\n",
    "cb.set_ticklabels([\"1\", \"2\", \"3\", \"4\", \"5\", \"6\", \"7\"])\n",
    "\n",
    "m2.drawcoastlines(linewidth=0.5, zorder=6, color=\".3\")\n",
    "m2.drawmeridians(np.arange(17.25, 19.55, 0.5),\n",
    "                labels=(0,0,0,1), linewidth=.5, zorder=6, fontsize=10)\n",
    "m2.drawparallels(np.arange(57.5, 59., 0.5),\n",
    "                labels=(1,0,0,1), linewidth=.5, zorder=6, fontsize=10)\n",
    "\n",
    "m2.drawmapscale(18., 57.7, 18., 57.7, 20., barstyle='simple', units='km', \n",
    "                fontsize=14, yoffset=None, labelstyle='simple', fontcolor='w', zorder=7)\n",
    "# plt.savefig(\"./chl_oc3_V24.png\", dpi=600, bbox_inches=\"tight\")\n",
    "plt.show()\n",
    "plt.close()"
   ]
  },
  {
   "cell_type": "markdown",
   "metadata": {},
   "source": [
    "## Cartopy\n",
    "The code is almost the same. We just have to use:\n",
    "* the arguments *extent* and *transform* in the `imshow()` call;\n",
    "* the methods `set_xlim()` and `set_ylim()` to limit the domain."
   ]
  },
  {
   "cell_type": "code",
   "execution_count": null,
   "metadata": {},
   "outputs": [],
   "source": [
    "myproj = ccrs.Mercator()\n",
    "plt.figure(figsize=(8, 8))\n",
    "ax = plt.subplot(111, projection=myproj)\n",
    "ax.imshow(image_vis, origin='upper', extent=extent, transform=myproj)\n",
    "ax.coastlines(resolution='10m', color=\"0.8\")\n",
    "plt.pcolormesh(lon[::NN, ::NN], lat[::NN, ::NN], chl_oc3[::NN, ::NN], \n",
    "               transform=myproj, norm=colors.LogNorm(vmin=0.95, vmax=7.5), \n",
    "               cmap=cmocean.cm.ice, zorder=5)\n",
    "gl = ax.gridlines(crs=myproj, linewidth=.5, color='black', alpha=0.9, linestyle='--', zorder=6)\n",
    "gl.xlabels_top = False\n",
    "gl.ylabels_left = False\n",
    "gl.xformatter = LONGITUDE_FORMATTER\n",
    "gl.yformatter = LATITUDE_FORMATTER\n",
    "ax.set_xlim(lon.min(), lon.max())\n",
    "ax.set_ylim(lat.min(), lat.max())\n",
    "plt.show()"
   ]
  },
  {
   "cell_type": "markdown",
   "metadata": {},
   "source": [
    "The projection is not exactly the same as with `Basemap`, but we'll solve that later."
   ]
  }
 ],
 "metadata": {
  "@webio": {
   "lastCommId": null,
   "lastKernelId": null
  },
  "kernelspec": {
   "display_name": "Diva-python3.6",
   "language": "python",
   "name": "diva-python3.6"
  },
  "language_info": {
   "codemirror_mode": {
    "name": "ipython",
    "version": 3
   },
   "file_extension": ".py",
   "mimetype": "text/x-python",
   "name": "python",
   "nbconvert_exporter": "python",
   "pygments_lexer": "ipython3",
   "version": "3.6.0"
  }
 },
 "nbformat": 4,
 "nbformat_minor": 2
}
