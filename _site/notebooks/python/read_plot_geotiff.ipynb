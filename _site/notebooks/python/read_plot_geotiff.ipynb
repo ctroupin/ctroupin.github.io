{
 "cells": [
  {
   "cell_type": "markdown",
   "metadata": {},
   "source": [
    "Explain how to read a geotiff file and display it using matplotlib."
   ]
  },
  {
   "cell_type": "code",
   "execution_count": null,
   "metadata": {},
   "outputs": [],
   "source": [
    "import os\n",
    "from osgeo import gdal\n",
    "import matplotlib.pyplot as plt\n",
    "import numpy as np\n",
    "import tempfile\n",
    "import subprocess"
   ]
  },
  {
   "cell_type": "markdown",
   "metadata": {},
   "source": [
    "## 1. No need for new projection"
   ]
  },
  {
   "cell_type": "code",
   "execution_count": null,
   "metadata": {},
   "outputs": [],
   "source": [
    "imagefile = \"/data/Visible/VIIRS_20170902.tiff\"\n",
    "imagefile = \"/home/ctroupin/Presentations/PresentationsHTML/images/Phidias/stareso_sentinel-2_L1C_2019-07-26.tiff\""
   ]
  },
  {
   "cell_type": "code",
   "execution_count": null,
   "metadata": {},
   "outputs": [],
   "source": [
    "def read_geotiff(imagefile):\n",
    "    \n",
    "    gtif = gdal.Open(imagefile)\n",
    "    # info about the projection\n",
    "    arr = gtif.ReadAsArray()\n",
    "    trans = gtif.GetGeoTransform()\n",
    "    extent = (trans[0], trans[0] + gtif.RasterXSize*trans[1],\n",
    "              trans[3] + gtif.RasterYSize*trans[5], trans[3])\n",
    "    # Permute dimensions\n",
    "    arr = np.transpose(arr, (1, 2, 0))\n",
    "\n",
    "    x = np.arange(0, gtif.RasterXSize)\n",
    "    y = np.arange(0, gtif.RasterYSize)\n",
    "    xx, yy = np.meshgrid(x, y)\n",
    "\n",
    "    lon = trans[1] * xx + trans[2] * yy + trans[0]\n",
    "    lat = trans[4] * xx + trans[5] * yy + trans[3]\n",
    "        \n",
    "    \n",
    "    return lon, lat, arr, extent"
   ]
  },
  {
   "cell_type": "code",
   "execution_count": null,
   "metadata": {},
   "outputs": [],
   "source": [
    "lon, lat, arr, extent = read_geotiff(imagefile)\n",
    "plt.figure(figsize=(10, 10))\n",
    "plt.imshow(arr, extent=extent)\n",
    "plt.show()"
   ]
  },
  {
   "cell_type": "code",
   "execution_count": null,
   "metadata": {},
   "outputs": [],
   "source": [
    "lon, lat, arr, extent = read_geotiff(imagefile)\n",
    "\"[{}, {}], [{}, {}]\".format(lat.min(), lon.min(), lat.max(), lon.max())"
   ]
  },
  {
   "cell_type": "markdown",
   "metadata": {},
   "source": [
    "## 2. When change of projection is needed"
   ]
  },
  {
   "cell_type": "code",
   "execution_count": null,
   "metadata": {},
   "outputs": [],
   "source": [
    "datadir = \"/home/ctroupin/Projects/RandoGC/Data/136_MDT25_GC/\"\n",
    "datafile2 = os.path.join(datadir, '136_MDT25_GC.tif')"
   ]
  },
  {
   "cell_type": "code",
   "execution_count": null,
   "metadata": {},
   "outputs": [],
   "source": [
    "def read_geotiff2(filename):\n",
    "    \n",
    "    # Create temporaty file\n",
    "    fd, path = tempfile.mkstemp()\n",
    "    try:\n",
    "        with os.fdopen(fd, 'w') as tmp:\n",
    "            # Transform to lon, lat coordinates using WGS84\n",
    "            command = 'gdalwarp {} {} -t_srs \"+proj=longlat +ellps=WGS84\"'.format(path, filename)\n",
    "            # subprocess.call()\n",
    "            subprocess.run(command, cwd=datadir, stdout=subprocess.PIPE, shell=True)\n",
    "            ds = gdal.Open(os.path.join(datadir, 'outfile.tif'), gdal.GA_ReadOnly)\n",
    "            ds.GetProjectionRef()\n",
    "            # Read the array and the transformation\n",
    "            arr = ds.ReadAsArray()\n",
    "            trans = ds.GetGeoTransform()\n",
    "            extent = (trans[0], trans[0] + ds.RasterXSize*trans[1],\n",
    "            trans[3] + ds.RasterYSize*trans[5], trans[3])\n",
    "\n",
    "            x = np.arange(0, ds.RasterXSize)\n",
    "            y = np.arange(0, ds.RasterYSize)\n",
    "    finally:\n",
    "        os.remove(path)\n",
    "        \n",
    "    xx, yy = np.meshgrid(x, y)\n",
    "\n",
    "    lon = trans[1] * xx + trans[2] * yy + trans[0]\n",
    "    lat = trans[4] * xx + trans[5] * yy + trans[3]\n",
    "        \n",
    "    return lon, lat, arr, extent"
   ]
  },
  {
   "cell_type": "code",
   "execution_count": null,
   "metadata": {},
   "outputs": [],
   "source": [
    "lon2, lat2, arr2, extent2 = read_geotiff2(datafile2)"
   ]
  },
  {
   "cell_type": "code",
   "execution_count": null,
   "metadata": {},
   "outputs": [],
   "source": [
    "plt.figure(figsize=(10, 10))\n",
    "arr2 = np.ma.masked_less_equal(arr2, 0.)\n",
    "plt.pcolormesh(lon2, lat2, arr2)\n",
    "plt.colorbar()\n",
    "plt.show()"
   ]
  },
  {
   "cell_type": "code",
   "execution_count": null,
   "metadata": {},
   "outputs": [],
   "source": []
  }
 ],
 "metadata": {
  "@webio": {
   "lastCommId": "B184891C64B34CEC8AB0C6D6FBA280CC",
   "lastKernelId": "41601c71-e642-41c5-af7b-46132731f141"
  },
  "kernelspec": {
   "display_name": "Diva-python3.6",
   "language": "python",
   "name": "diva-python3.6"
  },
  "language_info": {
   "codemirror_mode": {
    "name": "ipython",
    "version": 3
   },
   "file_extension": ".py",
   "mimetype": "text/x-python",
   "name": "python",
   "nbconvert_exporter": "python",
   "pygments_lexer": "ipython3",
   "version": "3.6.0"
  }
 },
 "nbformat": 4,
 "nbformat_minor": 2
}
