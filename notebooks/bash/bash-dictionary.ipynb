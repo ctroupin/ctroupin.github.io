{
 "cells": [
  {
   "cell_type": "code",
   "execution_count": 18,
   "metadata": {
    "collapsed": true
   },
   "outputs": [],
   "source": [
    "declare -A stdnames"
   ]
  },
  {
   "cell_type": "code",
   "execution_count": 47,
   "metadata": {
    "collapsed": true
   },
   "outputs": [],
   "source": [
    "stdnames=( [\"Water_body_chlorophyll-a\"]=\"mass_concentration_of_chlorophyll_a_in_sea_water\" \n",
    "[\"Water_body_phosphate\"]=\"mass_concentration_of_phosphate_in_sea_water\" \n",
    "[\"Water_body_dissolved_oxygen_concentration\"]=\"mass_concentration_of_oxygen_in_sea_water\" \n",
    "[\"Water_body_silicate\"]=\"mass_concentration_of_silicate_in_sea_water\" \n",
    ")"
   ]
  },
  {
   "cell_type": "code",
   "execution_count": 48,
   "metadata": {},
   "outputs": [
    {
     "name": "stdout",
     "output_type": "stream",
     "text": [
      "mass_concentration_of_phosphate_in_sea_water\n",
      "mass_concentration_of_oxygen_in_sea_water\n",
      "mass_concentration_of_chlorophyll_a_in_sea_water\n",
      "mass_concentration_of_silicate_in_sea_water\n"
     ]
    }
   ],
   "source": [
    "for names in \"${!stdnames[@]}\"; do \n",
    "    # echo \"$names --> ${stdnames[$names]}\"; \n",
    "    newstdname=${stdnames[$names]}\n",
    "    echo \"${stdnames[$names]}\"\n",
    "done"
   ]
  },
  {
   "cell_type": "markdown",
   "metadata": {},
   "source": [
    "## Function to create list of variable names"
   ]
  },
  {
   "cell_type": "code",
   "execution_count": 37,
   "metadata": {
    "collapsed": true
   },
   "outputs": [],
   "source": [
    "vname=\"Water_body_chlorophyll-a\""
   ]
  },
  {
   "cell_type": "code",
   "execution_count": 39,
   "metadata": {
    "collapsed": true
   },
   "outputs": [],
   "source": [
    "function varlist {\n",
    "    echo $1 $1\"_err\" $1\"_L1\" ${1}\"_L2\" $1\"_deepest\" $1\"_deepest_L1\" $1\"_deepest_L2\"\n",
    "    }  "
   ]
  },
  {
   "cell_type": "code",
   "execution_count": 41,
   "metadata": {
    "collapsed": true
   },
   "outputs": [],
   "source": [
    "vlist=$(echo $(varlist \"${vname}\"))"
   ]
  },
  {
   "cell_type": "code",
   "execution_count": 43,
   "metadata": {},
   "outputs": [
    {
     "name": "stdout",
     "output_type": "stream",
     "text": [
      "Water_body_chlorophyll-a Water_body_chlorophyll-a_err Water_body_chlorophyll-a_L1 Water_body_chlorophyll-a_L2 Water_body_chlorophyll-a_deepest Water_body_chlorophyll-a_deepest_L1 Water_body_chlorophyll-a_deepest_L2\n"
     ]
    }
   ],
   "source": [
    "echo ${vlist}"
   ]
  },
  {
   "cell_type": "code",
   "execution_count": 44,
   "metadata": {},
   "outputs": [
    {
     "name": "stdout",
     "output_type": "stream",
     "text": [
      "Water_body_chlorophyll-a\n",
      "Water_body_chlorophyll-a_err\n",
      "Water_body_chlorophyll-a_L1\n",
      "Water_body_chlorophyll-a_L2\n",
      "Water_body_chlorophyll-a_deepest\n",
      "Water_body_chlorophyll-a_deepest_L1\n",
      "Water_body_chlorophyll-a_deepest_L2\n"
     ]
    }
   ],
   "source": [
    "for varnames in ${vlist}; do\n",
    "    echo ${varnames}\n",
    "    ncatted -O -a standard_name,${varnames},o,c,${newstdname} inputfile.nc\n",
    "done"
   ]
  },
  {
   "cell_type": "code",
   "execution_count": null,
   "metadata": {
    "collapsed": true
   },
   "outputs": [],
   "source": []
  }
 ],
 "metadata": {
  "@webio": {
   "lastCommId": "82E61D4AA9544DBD86285EEF9B15110B",
   "lastKernelId": "8e4eee4f-161b-48ac-9b35-48d32dce9570"
  },
  "kernelspec": {
   "display_name": "Bash",
   "language": "bash",
   "name": "bash"
  },
  "language_info": {
   "codemirror_mode": "shell",
   "file_extension": ".sh",
   "mimetype": "text/x-sh",
   "name": "bash"
  }
 },
 "nbformat": 4,
 "nbformat_minor": 2
}
