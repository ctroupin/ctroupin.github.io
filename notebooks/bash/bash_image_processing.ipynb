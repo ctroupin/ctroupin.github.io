{
 "cells": [
  {
   "cell_type": "markdown",
   "metadata": {
    "collapsed": true
   },
   "source": [
    "Some operations and conversions on images and pictures.\n",
    "# Images \n",
    "## From svg to png\n",
    "Use [inkscape](https://inkscape.org/en/)"
   ]
  },
  {
   "cell_type": "code",
   "execution_count": null,
   "metadata": {
    "collapsed": true
   },
   "outputs": [],
   "source": [
    "inkscape -z input.svg -e output.png"
   ]
  },
  {
   "cell_type": "markdown",
   "metadata": {},
   "source": [
    "## svg to pdf"
   ]
  },
  {
   "cell_type": "code",
   "execution_count": null,
   "metadata": {
    "collapsed": true
   },
   "outputs": [],
   "source": [
    "inkscape --file=mySVGinputFile.svg --export-area-drawing --without-gui --export-pdf=output.pdf"
   ]
  },
  {
   "cell_type": "markdown",
   "metadata": {},
   "source": [
    "## From pdf to jpg"
   ]
  },
  {
   "cell_type": "code",
   "execution_count": null,
   "metadata": {
    "collapsed": true
   },
   "outputs": [],
   "source": [
    "convert -colorspace RGB -interlace none -density 300x300 -quality 100 in.pdf out.jpg"
   ]
  },
  {
   "cell_type": "markdown",
   "metadata": {},
   "source": [
    "## Montage"
   ]
  },
  {
   "cell_type": "code",
   "execution_count": null,
   "metadata": {
    "collapsed": true
   },
   "outputs": [],
   "source": [
    "montage -tile 2x2 -geometry 1900x2600+5+5  *jpg out2.JPG "
   ]
  },
  {
   "cell_type": "markdown",
   "metadata": {},
   "source": [
    "## Mosaic\n",
    "Use `metapixel` tool.\n",
    "1. Prepare the tiles: indicate directory storing the images, the ouput directory and optionaly the size of the tiles.\n",
    "2. Apply the tool by indicating the *background image* and optionaly the scale factor."
   ]
  },
  {
   "cell_type": "code",
   "execution_count": null,
   "metadata": {
    "collapsed": true
   },
   "outputs": [],
   "source": [
    "metapixel-prepare -r ../CLQ49/ 7-Mosaic/ --width 128 --height 85\n",
    "metapixel --library 7-Mosaic/ --metapixel ./colloquium_logo3.png --scale 4 5.jpg"
   ]
  },
  {
   "cell_type": "markdown",
   "metadata": {},
   "source": [
    "# Movies\n",
    "## MP4 from image sequence"
   ]
  },
  {
   "cell_type": "code",
   "execution_count": null,
   "metadata": {
    "collapsed": true
   },
   "outputs": [],
   "source": [
    "ffmpeg -framerate 12 -i img_%06d.JPG -c:v libx264 -crf 20 output1.mp4"
   ]
  },
  {
   "cell_type": "markdown",
   "metadata": {},
   "source": [
    "## Merge two (or more) video files"
   ]
  },
  {
   "cell_type": "code",
   "execution_count": null,
   "metadata": {
    "collapsed": true
   },
   "outputs": [],
   "source": [
    "mkvmerge -o 12.mp4 output1.mp4 \\+ output2.mp4"
   ]
  }
 ],
 "metadata": {
  "kernelspec": {
   "display_name": "Bash",
   "language": "bash",
   "name": "bash"
  },
  "language_info": {
   "codemirror_mode": "shell",
   "file_extension": ".sh",
   "mimetype": "text/x-sh",
   "name": "bash"
  }
 },
 "nbformat": 4,
 "nbformat_minor": 2
}
