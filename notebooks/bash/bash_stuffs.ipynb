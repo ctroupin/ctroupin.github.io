{
 "cells": [
  {
   "cell_type": "markdown",
   "metadata": {},
   "source": [
    "Some useful commands in bash that I never manage to remember\n",
    "# Strings\n",
    "## Remove file extension"
   ]
  },
  {
   "cell_type": "code",
   "execution_count": 2,
   "metadata": {},
   "outputs": [
    {
     "name": "stdout",
     "output_type": "stream",
     "text": [
      "Angleur_SartTilman_2017_06_28_07_23_49_Running_noextensions\n"
     ]
    }
   ],
   "source": [
    "a=\"Angleur_SartTilman_2017_06_28_07_23_49_Running_noextensions.gpx\"\n",
    "echo $(basename $a .gpx)"
   ]
  },
  {
   "cell_type": "markdown",
   "metadata": {},
   "source": [
    "or like this:"
   ]
  },
  {
   "cell_type": "code",
   "execution_count": 3,
   "metadata": {},
   "outputs": [
    {
     "name": "stdout",
     "output_type": "stream",
     "text": [
      "Angleur_SartTilman_2017_06_28_07_23_49_Running_noextensions\n"
     ]
    }
   ],
   "source": [
    "y=${a%.*}\n",
    "echo $y"
   ]
  },
  {
   "cell_type": "markdown",
   "metadata": {},
   "source": [
    "## Concatenation"
   ]
  },
  {
   "cell_type": "code",
   "execution_count": 4,
   "metadata": {},
   "outputs": [
    {
     "name": "stdout",
     "output_type": "stream",
     "text": [
      "goodnight\n"
     ]
    }
   ],
   "source": [
    "a='good'\n",
    "b='night'\n",
    "a+=$b\n",
    "echo $a"
   ]
  },
  {
   "cell_type": "markdown",
   "metadata": {},
   "source": [
    "## Change name"
   ]
  },
  {
   "cell_type": "code",
   "execution_count": 12,
   "metadata": {},
   "outputs": [
    {
     "name": "stdout",
     "output_type": "stream",
     "text": [
      "Before:\n",
      "OldFileName2018.dat\n",
      "After:\n",
      "NewFileName2018.dat\n"
     ]
    }
   ],
   "source": [
    "touch OldFileName2018.dat\n",
    "echo \"Before:\"\n",
    "ls *dat\n",
    "rename 's/OldFileName/NewFileName/g' *dat\n",
    "echo \"After:\"\n",
    "ls *dat\n",
    "rm NewFileName2018.dat"
   ]
  },
  {
   "cell_type": "markdown",
   "metadata": {},
   "source": [
    "# File processing\n",
    "## Create a temporaty file"
   ]
  },
  {
   "cell_type": "code",
   "execution_count": 13,
   "metadata": {},
   "outputs": [
    {
     "name": "stdout",
     "output_type": "stream",
     "text": [
      "/tmp/tmp.pNxr7og8jk\n"
     ]
    }
   ],
   "source": [
    "mktemp"
   ]
  },
  {
   "cell_type": "markdown",
   "metadata": {},
   "source": [
    "## Remove lines containing pattern"
   ]
  },
  {
   "cell_type": "code",
   "execution_count": null,
   "metadata": {
    "collapsed": true
   },
   "outputs": [],
   "source": [
    "mytmpfile=$(mktemp)\n",
    "echo \"This is the 1st line\" > ${mytmpfile}\n",
    "echo \"And this is a 2nd line\" >> ${mytmpfile}\n",
    "cat ${mytmpfile}\n",
    "echo \" \"\n",
    "sed -i '/2nd/d' ${mytmpfile}\n",
    "cat ${mytmpfile}"
   ]
  },
  {
   "cell_type": "markdown",
   "metadata": {
    "collapsed": true
   },
   "source": [
    "# List files\n",
    "## Find files containing a given string"
   ]
  },
  {
   "cell_type": "code",
   "execution_count": null,
   "metadata": {
    "collapsed": true
   },
   "outputs": [],
   "source": [
    "find /home/ctroupin/ -name '*' -type f -exec grep -i 'product_id,old_product_id' {} +"
   ]
  },
  {
   "cell_type": "code",
   "execution_count": null,
   "metadata": {
    "collapsed": true
   },
   "outputs": [],
   "source": [
    "find /home/ctroupin/ -name '*.tex' -exec grep -i 'counter' {} +"
   ]
  },
  {
   "cell_type": "code",
   "execution_count": 4,
   "metadata": {},
   "outputs": [
    {
     "name": "stdout",
     "output_type": "stream",
     "text": [
      "/home/ctroupin/Projects/Diva_python_tools/diva_plot_results.py:cbar = fig.colorbar(contour, cmap=cmap, orientation='horizontal', fraction=0.1, pad=0.02)\n",
      "/home/ctroupin/Projects/Diva_python_tools/diva_plot_results.py:cbar.set_label(unitname, fontsize=18)\n",
      "/home/ctroupin/Projects/Diva_python_tools/diva_plot_results.py:cbar.set_ticks(newticks)\n",
      "/home/ctroupin/Projects/Diva_python_tools/diva_plot_data.py:cbar = fig.colorbar(scat, cmap=cmap, orientation='horizontal', fraction=0.1, pad=0.02)\n",
      "/home/ctroupin/Projects/Diva_python_tools/diva_plot_data.py:cbar.set_label(unitname, fontsize=18, fontname='Times New Roman')\n",
      "/home/ctroupin/Projects/Diva-EMODnetPhysics/divaemodnet.py:        cbar = plt.colorbar(scat, shrink=.4, extend='both')\n",
      "/home/ctroupin/Projects/Diva-EMODnetPhysics/divaemodnet.py:        cbar.ax.tick_params(labelsize=14)\n",
      "/home/ctroupin/Projects/20150714_CMEMS/Communication2015Q2/interp_climato_obs2_WOA_loop.py:                cbar = plt.colorbar(scat, orientation='horizontal', pad=mypad, aspect=20, extend='both', ax=ax)\n",
      "/home/ctroupin/Projects/20150714_CMEMS/Communication2015Q2/interp_climato_obs2_WOA_loop.py:                cbar.set_label('$^{\\circ}$C')\n",
      "/home/ctroupin/Projects/20150714_CMEMS/Communication2015Q2/interp_climato_obs2_WOA_loop.py:                cbar = plt.colorbar(scat, orientation='horizontal', pad=mypad, aspect=myaspect, extend='both', ax=ax)\n",
      "/home/ctroupin/Projects/20150714_CMEMS/Communication2015Q2/interp_climato_obs2_WOA_loop.py:                cbar.set_label('$^{\\circ}$C')\n",
      "/home/ctroupin/Projects/20150714_CMEMS/Communication2015Q2/interp_climato_obs2_WOA_loop.py:                cbar = plt.colorbar(scat, orientation='horizontal', pad=mypad, boundaries=boundsanom, aspect=myaspect, extend='both', ax=ax)\n",
      "/home/ctroupin/Projects/20150714_CMEMS/Communication2015Q2/interp_climato_obs2_WOA_loop.py:                cbar.set_label('Temperature anomaly ($^{\\circ}$C) with respect to climatology')\n",
      "/home/ctroupin/Projects/20150714_CMEMS/Communication2015Q2/interp_climato_obs2_WOA_loop.py:                cbar.set_ticks(boundsanom)\n",
      "/home/ctroupin/Projects/20150714_CMEMS/Communication2015Q2/animation_drifter_alborex_visible.py:cbar = fig.colorbar(p1, cmap=cmapsst, norm=normsst, orientation='vertical', pad=0.025, aspect=15, shrink=0.75,\n",
      "/home/ctroupin/Projects/20150714_CMEMS/Communication2015Q2/animation_drifter_alborex_visible.py:cbar.set_ticks(boundsst)\n",
      "/home/ctroupin/Projects/20150714_CMEMS/Communication2015Q2/animation_drifter_alborex_visible.py:cbar.set_label(r'$^{\\circ}$C', fontsize=16, rotation=0, ha='left')\n",
      "/home/ctroupin/Projects/20150714_CMEMS/Communication2015Q2/interp_climato_obs2_WOA.py:    cbar = plt.colorbar(scat, orientation='horizontal', pad=mypad, aspect=20, extend='both', ax=ax)\n",
      "/home/ctroupin/Projects/20150714_CMEMS/Communication2015Q2/interp_climato_obs2_WOA.py:    cbar.set_label('$^{\\circ}$C')\n",
      "/home/ctroupin/Projects/20150714_CMEMS/Communication2015Q2/interp_climato_obs2_WOA.py:    cbar = plt.colorbar(scat, orientation='horizontal', pad=mypad, aspect=myaspect, extend='both', ax=ax)\n",
      "/home/ctroupin/Projects/20150714_CMEMS/Communication2015Q2/interp_climato_obs2_WOA.py:    cbar.set_label('$^{\\circ}$C')\n",
      "/home/ctroupin/Projects/20150714_CMEMS/Communication2015Q2/interp_climato_obs2_WOA.py:    cbar = plt.colorbar(scat, orientation='horizontal', pad=mypad, aspect=myaspect, extend='both', ax=ax)\n",
      "/home/ctroupin/Projects/20150714_CMEMS/Communication2015Q2/interp_climato_obs2_WOA.py:    cbar.set_label('$^{\\circ}$C')\n",
      "/home/ctroupin/Projects/20150714_CMEMS/Communication2015Q2/interp_climato_obs2_WOA.py:    cbar.set_ticks(boundsanom)\n",
      "/home/ctroupin/Projects/20150714_CMEMS/Communication2015Q2/interp_climato_obs2.py:    cbar = plt.colorbar(scat, orientation='horizontal', pad=mypad, aspect=20, extend='both', ax=ax)\n",
      "/home/ctroupin/Projects/20150714_CMEMS/Communication2015Q2/interp_climato_obs2.py:    cbar.set_label('$^{\\circ}$C')\n",
      "/home/ctroupin/Projects/20150714_CMEMS/Communication2015Q2/interp_climato_obs2.py:    cbar = plt.colorbar(scat, orientation='horizontal', pad=mypad, aspect=myaspect, extend='both', ax=ax)\n",
      "/home/ctroupin/Projects/20150714_CMEMS/Communication2015Q2/interp_climato_obs2.py:    cbar.set_label('$^{\\circ}$C')\n",
      "/home/ctroupin/Projects/20150714_CMEMS/Communication2015Q2/interp_climato_obs2.py:    cbar = plt.colorbar(scat, orientation='horizontal', pad=mypad, aspect=myaspect, extend='both', ax=ax)\n",
      "/home/ctroupin/Projects/20150714_CMEMS/Communication2015Q2/interp_climato_obs2.py:    cbar.set_label('$^{\\circ}$C')\n",
      "/home/ctroupin/Projects/20150714_CMEMS/Communication2015Q2/interp_climato_obs2.py:    cbar.set_ticks(boundsanom)\n",
      "/home/ctroupin/Projects/20150714_CMEMS/Communication2015Q2/test_discrete_colorbar.py:ax2.set_ylabel('Very custom cbar [-]', size=12)\n",
      "/home/ctroupin/Projects/20150714_CMEMS/Communication2015Q2/animation_drifter_eddy_visible.py:cbar = fig.colorbar(p1, cmap=cmapsst, norm=normsst, orientation='vertical', pad=0.025, aspect=15, shrink=0.75,\n",
      "/home/ctroupin/Projects/20150714_CMEMS/Communication2015Q2/animation_drifter_eddy_visible.py:cbar.set_ticks(boundsst)\n",
      "/home/ctroupin/Projects/20150714_CMEMS/Communication2015Q2/animation_drifter_eddy_visible.py:cbar.set_label(r'$^{\\circ}$C', fontsize=16, rotation=0, ha='left')\n",
      "/home/ctroupin/Projects/20150714_CMEMS/Communication2015Q2/plot_sst_modis_daily.py:    cbar = plt.colorbar(scat, extend='both', shrink=0.7)\n",
      "/home/ctroupin/Projects/20150714_CMEMS/Communication2015Q2/plot_sst_modis_daily.py:    cbar.set_label('$^{\\circ}$C', rotation=0, horizontalalignment='left')\n",
      "/home/ctroupin/Projects/20150714_CMEMS/Communication2015Q2/plot_sst_modis_daily.py:    cbar.set_ticks(bounds)\n",
      "/home/ctroupin/Projects/20150714_CMEMS/Communication2015Q2/animation_drifter_eddy.py:    cbar = fig.colorbar(p1, cmap=cmapsst, norm=normsst, orientation='vertical', pad=0.025, aspect=15, shrink=0.99,\n",
      "/home/ctroupin/Projects/20150714_CMEMS/Communication2015Q2/animation_drifter_eddy.py:    cbar.set_ticks(boundsst)\n",
      "/home/ctroupin/Projects/20150714_CMEMS/Communication2015Q2/animation_drifter_eddy.py:    cbar.set_label(r'$^{\\circ}$C', fontsize=16, rotation=0, ha='left')\n",
      "/home/ctroupin/Projects/20150714_CMEMS/Communication2015Q2/animation_drifter_alborex_visible2.py:cbar = fig.colorbar(p1, cmap=cmapsst, norm=normsst, orientation='vertical', pad=0.025, aspect=15, shrink=0.75,\n",
      "/home/ctroupin/Projects/20150714_CMEMS/Communication2015Q2/animation_drifter_alborex_visible2.py:cbar.set_ticks(boundsst)\n",
      "/home/ctroupin/Projects/20150714_CMEMS/Communication2015Q2/animation_drifter_alborex_visible2.py:cbar.set_label(r'$^{\\circ}$C', fontsize=16, rotation=0, ha='left')\n",
      "/home/ctroupin/Projects/20150714_CMEMS/Communication2015Q2/animation_drifter.py:    cbar = fig.colorbar(p1, cmap=cmapsst, norm=normsst, orientation='vertical', pad=0.025, aspect=15, shrink=0.95,\n",
      "/home/ctroupin/Projects/20150714_CMEMS/Communication2015Q2/animation_drifter.py:    cbar.set_ticks(boundsst)\n",
      "/home/ctroupin/Projects/20150714_CMEMS/Communication2015Q2/animation_drifter.py:    cbar.set_label(r'$^{\\circ}$C', fontsize=16, rotation=0, ha='left')\n",
      "/home/ctroupin/Projects/20150714_CMEMS/Communication2015Q2/animation_drifter.py:    fig, ax, m, cbar = prepare_plot()\n",
      "/home/ctroupin/Projects/20150714_CMEMS/plot_drifter_global_interp.py:cbar = plt.colorbar(scat, cmap=cmapsst, norm=normsst, extend='both', shrink=0.7)\n",
      "/home/ctroupin/Projects/20150714_CMEMS/plot_drifter_global_interp.py:cbar.set_label('$^{\\circ}$C', rotation=0, ha='left')\n",
      "/home/ctroupin/Projects/20150714_CMEMS/plot_drifter_global_bin.py:    cbar = plt.colorbar(pcm, cmap=cmapsst, norm=normsst, extend='both', shrink=0.7)\n",
      "/home/ctroupin/Projects/20150714_CMEMS/plot_drifter_global_bin.py:    cbar.set_label('$^{\\circ}$C', rotation=0, ha='left')\n",
      "/home/ctroupin/Projects/20150714_CMEMS/plot_drifter_global.py:    cbar = plt.colorbar(scat, cmap=cmapsst, norm=normsst, extend='both', shrink=0.7)\n",
      "/home/ctroupin/Projects/20150714_CMEMS/plot_drifter_global.py:    cbar.set_label('$^{\\circ}$C', rotation=0, ha='left')\n",
      "/home/ctroupin/Projects/SOCIB_plots/Satellite/plot_wind_metopa.py:                    cbar=fig.colorbar(Q,cmap=cmap,orientation='vertical',\n",
      "/home/ctroupin/Projects/SOCIB_plots/Satellite/plot_wind_metopa.py:                    cbar.set_label(r'$ms^{-1}$',fontname='Times New Roman',fontsize=18)\n"
     ]
    },
    {
     "name": "stdout",
     "output_type": "stream",
     "text": [
      "/home/ctroupin/Projects/SOCIB_plots/Satellite/plot_wind_metopa.py:                    cbar.set_ticks(bounds)\n",
      "/home/ctroupin/Projects/SOCIB_plots/Satellite/plot_wind_metopa.py:                    cbar.ax.set_yticklabels(bounds,fontname='Times New Roman',fontsize=16)\n",
      "/home/ctroupin/Projects/SOCIB_plots/Satellite/plot_wind_metopa.py:    ##        cbar=fig.colorbar(contour2,cmap=cmap2,orientation='vertical',pad=0.025,aspect=15)\n",
      "/home/ctroupin/Projects/SOCIB_plots/Satellite/plot_wind_metopa.py:    ##        cbar.set_label(r'$\\xi/f$',fontname='Times New Roman',fontsize=18)\n",
      "/home/ctroupin/Projects/SOCIB_plots/Satellite/plot_wind_metopa.py:    ##        cbar.set_ticks(bounds2)\n",
      "/home/ctroupin/Projects/SOCIB_plots/Satellite/plot_wind_metopa.py:    ##        cbar.ax.set_yticklabels(bounds2,fontname='Times New Roman',fontsize=16)\n",
      "/home/ctroupin/Projects/SOCIB_plots/Satellite/plot_chlorophyll_myocean.py:        cbar=fig.colorbar(contour,cmap=cmap,orientation='vertical',\n",
      "/home/ctroupin/Projects/SOCIB_plots/Satellite/plot_chlorophyll_myocean.py:        cbar.set_label(r'$mg\\,m^{-3}$',fontname='Times New Roman',fontsize=18)\n",
      "/home/ctroupin/Projects/SOCIB_plots/Satellite/plot_chlorophyll_myocean.py:        cbar.set_ticks(bounds)\n",
      "/home/ctroupin/Projects/SOCIB_plots/Satellite/plot_chlorophyll_myocean.py:        cbar.ax.set_yticklabels(bounds,fontname='Times New Roman',fontsize=16)\n",
      "/home/ctroupin/Projects/SOCIB_plots/Satellite/plot_SSS_global.py:    cbar=fig.colorbar(pcm,cmap=cmap,orientation='horizontal',fraction=0.1,pad=0.02)\n",
      "/home/ctroupin/Projects/SOCIB_plots/Satellite/plot_wind_metopb.py:                    cbar=fig.colorbar(Q,cmap=cmap,orientation='vertical',\n",
      "/home/ctroupin/Projects/SOCIB_plots/Satellite/plot_wind_metopb.py:                    cbar.set_label(r'$ms^{-1}$',fontname='Times New Roman',fontsize=18)\n",
      "/home/ctroupin/Projects/SOCIB_plots/Satellite/plot_wind_metopb.py:                    cbar.set_ticks(bounds)\n",
      "/home/ctroupin/Projects/SOCIB_plots/Satellite/plot_wind_metopb.py:                    cbar.ax.set_yticklabels(bounds,fontname='Times New Roman',fontsize=16)\n",
      "/home/ctroupin/Projects/SOCIB_plots/Satellite/plot_wind_metopb.py:    ##        cbar=fig.colorbar(contour2,cmap=cmap2,orientation='vertical',pad=0.025,aspect=15)\n",
      "/home/ctroupin/Projects/SOCIB_plots/Satellite/plot_wind_metopb.py:    ##        cbar.set_label(r'$\\xi/f$',fontname='Times New Roman',fontsize=18)\n",
      "/home/ctroupin/Projects/SOCIB_plots/Satellite/plot_wind_metopb.py:    ##        cbar.set_ticks(bounds2)\n",
      "/home/ctroupin/Projects/SOCIB_plots/Satellite/plot_wind_metopb.py:    ##        cbar.ax.set_yticklabels(bounds2,fontname='Times New Roman',fontsize=16)\n",
      "/home/ctroupin/Projects/SOCIB_plots/Satellite/plot_chlorophyll_hdf.py:##                cbar=fig.colorbar(Q,cmap=cmap,orientation='vertical',\n",
      "/home/ctroupin/Projects/SOCIB_plots/Satellite/plot_chlorophyll_hdf.py:##                cbar.set_label(r'$ms^{-1}$',fontname='Times New Roman',fontsize=18)\n",
      "/home/ctroupin/Projects/SOCIB_plots/Satellite/plot_chlorophyll_hdf.py:##                cbar.set_ticks(bounds)\n",
      "/home/ctroupin/Projects/SOCIB_plots/Satellite/plot_chlorophyll_hdf.py:##                cbar.ax.set_yticklabels(bounds,fontname='Times New Roman',fontsize=16)\n",
      "/home/ctroupin/Projects/SOCIB_plots/Satellite/plot_wind_oceansat.py:                    cbar=fig.colorbar(Q,cmap=cmap,orientation='vertical',\n",
      "/home/ctroupin/Projects/SOCIB_plots/Satellite/plot_wind_oceansat.py:                    cbar.set_label(r'$ms^{-1}$',fontname='Times New Roman',fontsize=18)\n",
      "/home/ctroupin/Projects/SOCIB_plots/Satellite/plot_wind_oceansat.py:                    cbar.set_ticks(bounds)\n",
      "/home/ctroupin/Projects/SOCIB_plots/Satellite/plot_wind_oceansat.py:                    cbar.ax.set_yticklabels(bounds,fontname='Times New Roman',fontsize=16)\n",
      "/home/ctroupin/Projects/SOCIB_plots/Satellite/plot_wind_oceansat.py:    ##        cbar=fig.colorbar(contour2,cmap=cmap2,orientation='vertical',pad=0.025,aspect=15)\n",
      "/home/ctroupin/Projects/SOCIB_plots/Satellite/plot_wind_oceansat.py:    ##        cbar.set_label(r'$\\xi/f$',fontname='Times New Roman',fontsize=18)\n",
      "/home/ctroupin/Projects/SOCIB_plots/Satellite/plot_wind_oceansat.py:    ##        cbar.set_ticks(bounds2)\n",
      "/home/ctroupin/Projects/SOCIB_plots/Satellite/plot_wind_oceansat.py:    ##        cbar.ax.set_yticklabels(bounds2,fontname='Times New Roman',fontsize=16)\n",
      "/home/ctroupin/Projects/SOCIB_plots/Satellite/plot_chloroL2_Papagayo.py:    cbar = fig.colorbar(sstpcm, cmap=cmapchloro, norm=normchloro, orientation='vertical', pad=0.025,\n",
      "/home/ctroupin/Projects/SOCIB_plots/Satellite/plot_chloroL2_Papagayo.py:    cbar.set_ticks(newticks)\n",
      "/home/ctroupin/Projects/SOCIB_plots/Satellite/plot_wind_vectores_metop.py:                cbar=fig.colorbar(Q,cmap=cmap,orientation='vertical',\n",
      "/home/ctroupin/Projects/SOCIB_plots/Satellite/plot_wind_vectores_metop.py:                cbar.set_label(r'$ms^{-1}$',fontname='Times New Roman',fontsize=18)\n",
      "/home/ctroupin/Projects/SOCIB_plots/Satellite/plot_wind_vectores_metop.py:                cbar.set_ticks(bounds)\n",
      "/home/ctroupin/Projects/SOCIB_plots/Satellite/plot_wind_vectores_metop.py:                cbar.ax.set_yticklabels(bounds,fontname='Times New Roman',fontsize=16)\n",
      "/home/ctroupin/Projects/SOCIB_plots/Satellite/wind_plot_functions.py:    cbar = fig.colorbar(Q, cmap=cmap, orientation='vertical',\n",
      "/home/ctroupin/Projects/SOCIB_plots/Satellite/wind_plot_functions.py:    cbar.set_ticks(bounds)\n",
      "/home/ctroupin/Projects/SOCIB_plots/Satellite/wind_plot_functions.py:    cbar.ax.set_yticklabels(bounds, fontsize=16)\n",
      "/home/ctroupin/Projects/SOCIB_plots/Satellite/wind_plot_functions.py:    cbar = fig.colorbar(Q, cmap=cmapvort, orientation='vertical',\n",
      "/home/ctroupin/Projects/SOCIB_plots/Satellite/wind_plot_functions.py:    cbar.set_ticks(bounds)\n",
      "/home/ctroupin/Projects/SOCIB_plots/Satellite/wind_plot_functions.py:    cbar.ax.set_yticklabels(bounds, fontsize=16)\n",
      "/home/ctroupin/Projects/SOCIB_plots/Satellite/wind_plot_functions.py:    cbar=fig.colorbar(Q,cmap=cmap, orientation='vertical',\n",
      "/home/ctroupin/Projects/SOCIB_plots/Satellite/wind_plot_functions.py:    cbar.set_ticks(bounds)\n",
      "/home/ctroupin/Projects/SOCIB_plots/Satellite/wind_plot_functions.py:    cbar.ax.set_yticklabels(bounds,fontsize=16)\n",
      "/home/ctroupin/Projects/SOCIB_plots/Satellite/plot_L2wind_medsea.py:    cbar=fig.colorbar(pcm)\n",
      "/home/ctroupin/Projects/SOCIB_plots/Satellite/plot_L2wind_medsea.py:    cbar.drawedges\n",
      "/home/ctroupin/Projects/SOCIB_plots/Satellite/plot_chloro_L2_centralAmerica.py:cbar=fig.colorbar(chloropcm,cmap=cmapchloro,norm=normchloro,orientation='vertical',pad=0.025,aspect=15,shrink=1,extend='both')\n",
      "/home/ctroupin/Projects/SOCIB_plots/Satellite/plot_chloro_L2_centralAmerica.py:cbar.set_ticks(newticks)\n",
      "/home/ctroupin/Projects/SOCIB_plots/Satellite/plot_chloro_L2_centralAmerica.py:#cbar.set_ticklabels(newlabels)\n",
      "/home/ctroupin/Projects/SOCIB_plots/Modelling/plot_salinity_eddy201508.py:cbar = plt.colorbar(pcm, norm=norm, cmap=cmap, orientation='vertical', pad=0.05, aspect=15,\n",
      "/home/ctroupin/Projects/SOCIB_plots/Modelling/plot_salinity_eddy201508.py:cbar.set_ticks(bounds)\n",
      "/home/ctroupin/Projects/SOCIB_plots/Modelling/plot_salinity_model.py:# cbar = plt.colorbar(pcm, norm=norm, cmap=cmap, orientation='vertical', pad=0.05, aspect=15,\n",
      "/home/ctroupin/Projects/SOCIB_plots/Modelling/plot_salinity_model.py:# cbar.set_ticks(bounds)\n",
      "/home/ctroupin/Projects/SOCIB_plots/Missions/MedGib/load_data_drifters.py:        cbar = fig.colorbar(sstscat, cmap=cmapsst, norm=normsst,\n",
      "/home/ctroupin/Projects/SOCIB_plots/Missions/MedGib/load_data_drifters.py:        cbar.set_ticks(boundsst)\n",
      "/home/ctroupin/Projects/SOCIB_plots/Missions/MedGib/load_data_drifters.py:        cbar.set_label(r'$^{\\circ}$C', fontsize=16, rotation=0)\n",
      "/home/ctroupin/Projects/SOCIB_plots/Missions/MedGib/load_data_drifters.py:    cbar = fig.colorbar(sstscat, cmap=cmapsst, norm=normsst, orientation='horizontal', pad=0.025, aspect=20, shrink=1,\n",
      "/home/ctroupin/Projects/SOCIB_plots/Missions/MedGib/load_data_drifters.py:    cbar.set_ticks(boundsst)\n",
      "/home/ctroupin/Projects/SOCIB_plots/Missions/MedGib/load_data_drifters.py:    cbar.set_label(r'$^{\\circ}$C', fontsize=16, rotation=0)\n",
      "/home/ctroupin/Projects/SOCIB_plots/Missions/MedGib/load_data_drifters.py:    cbar = fig.colorbar(sstscat, cmap=cmapsst, norm=normsst, orientation='horizontal', pad=0.025, aspect=20, shrink=1,\n"
     ]
    },
    {
     "name": "stdout",
     "output_type": "stream",
     "text": [
      "/home/ctroupin/Projects/SOCIB_plots/Missions/MedGib/load_data_drifters.py:    cbar.set_ticks(boundsst)\n",
      "/home/ctroupin/Projects/SOCIB_plots/Missions/MedGib/load_data_drifters.py:    cbar.set_label(r'$^{\\circ}$C', fontsize=16, rotation=0)\n",
      "/home/ctroupin/Projects/SOCIB_plots/Missions/Caibex/plot_interpolated_depth_isotherm_nocolor.py:#cbar2=plt.colorbar(cont1,orientation='horizontal',pad=0.02,shrink=0.95,aspect=20)\n",
      "/home/ctroupin/Projects/SOCIB_plots/Missions/Caibex/plot_interpolated_depth_isotherm_nocolor.py:##cbar2=plt.colorbar(cont,orientation='horizontal',pad=0.02,shrink=0.95,aspect=20)\n",
      "/home/ctroupin/Projects/SOCIB_plots/Missions/Caibex/plot_interpolated_depth_isotherm_nocolor.py:##cbar2.set_label('(m)')\n",
      "/home/ctroupin/Projects/SOCIB_plots/Missions/Caibex/plot_quikscat_L2b12v3.py:                    cbar=fig.colorbar(Q,orientation='vertical',pad=0.025,aspect=15,norm=norm,extend='both')\n",
      "/home/ctroupin/Projects/SOCIB_plots/Missions/Caibex/plot_quikscat_L2b12v3.py:                    #cbar.set_label(r'$ms^{-1}$',fontname='Times New Roman',fontsize=18)\n",
      "/home/ctroupin/Projects/SOCIB_plots/Missions/Caibex/plot_quikscat_L2b12v3.py:                    cbar.set_ticks(bounds)\n",
      "/home/ctroupin/Projects/SOCIB_plots/Missions/Caibex/plot_quikscat_L2b12v3.py:                    cbar.ax.set_yticklabels(bounds,fontname='Times New Roman',fontsize=16)\n",
      "/home/ctroupin/Projects/SOCIB_plots/Missions/Caibex/plot_quikscat_L2b12v3.py:                    cbar=fig.colorbar(contour2,cmap=cmap2,orientation='vertical',pad=0.025,aspect=15)\n",
      "/home/ctroupin/Projects/SOCIB_plots/Missions/Caibex/plot_quikscat_L2b12v3.py:                    #cbar.set_label(r'$\\xi/f$',fontname='Times New Roman',fontsize=18)\n",
      "/home/ctroupin/Projects/SOCIB_plots/Missions/Caibex/plot_quikscat_L2b12v3.py:                    cbar.set_ticks(bounds2)\n",
      "/home/ctroupin/Projects/SOCIB_plots/Missions/Caibex/plot_quikscat_L2b12v3.py:                    cbar.ax.set_yticklabels(bounds2,fontname='Times New Roman',fontsize=16)\n",
      "/home/ctroupin/Projects/SOCIB_plots/Missions/Caibex/plot_sst_avhrr_wind_qscat_caibex.py:cbar=fig.colorbar(pcm,cmap=cmap1,orientation='vertical',fraction=0.1,pad=0.02)\n",
      "/home/ctroupin/Projects/SOCIB_plots/Missions/Caibex/plot_sst_avhrr_wind_qscat_caibex.py:cbar.set_ticks(newticks1)\n",
      "/home/ctroupin/Projects/SOCIB_plots/Missions/Caibex/plot_sst_avhrr_caibex.py:    cbar=fig.colorbar(pcm,cmap=cmap,orientation='vertical',fraction=0.1,pad=0.02)\n",
      "/home/ctroupin/Projects/SOCIB_plots/Missions/Caibex/plot_sst_avhrr_caibex.py:    cbar.set_ticks(newticks)\n",
      "/home/ctroupin/Projects/SOCIB_plots/Missions/Caibex/CapeGhir_plot_mean_ADT.py:cbar=fig.colorbar(contour,cmap=cmap,orientation='vertical',fraction=0.1,pad=0.02)\n",
      "/home/ctroupin/Projects/SOCIB_plots/Missions/Caibex/CapeGhir_plot_mean_ADT.py:cbar.set_label('(cm)',fontname='Times New Roman',fontsize=18)\n",
      "/home/ctroupin/Projects/SOCIB_plots/Missions/Caibex/CapeGhir_plot_mean_ADT.py:cbar.set_ticks(bounds2)\n",
      "/home/ctroupin/Projects/SOCIB_plots/Missions/Caibex/CapeGhir_plot_mean_ADT.py:cbar.ax.set_yticklabels(bounds2,fontname='Times New Roman',fontsize=16)\n",
      "/home/ctroupin/Projects/SOCIB_plots/Missions/Caibex/plot_domain_caibex2014.py:cbar=fig.colorbar(contour1,orientation='horizontal',pad=0.02,aspect=15)\n",
      "/home/ctroupin/Projects/SOCIB_plots/Missions/Caibex/plot_domain_caibex2014.py:cbar.set_ticks([])\n",
      "/home/ctroupin/Projects/SOCIB_plots/Missions/Caibex/plot_domain_caibex2014.py:cbar.set_ticks(np.arange(-5000,0,1000))\n",
      "/home/ctroupin/Projects/SOCIB_plots/Missions/Caibex/plot_domain_caibex2014.py:cbar.set_label('(m)')\n",
      "/home/ctroupin/Projects/SOCIB_plots/Missions/Caibex/plot_domain_caibex2014.py:cbar2=fig.colorbar(contourf2,orientation='horizontal',pad=0.02,aspect=15)\n",
      "/home/ctroupin/Projects/SOCIB_plots/Missions/Caibex/plot_domain_caibex2014.py:cbar2.set_ticks([])\n",
      "/home/ctroupin/Projects/SOCIB_plots/Missions/Caibex/plot_domain_caibex2014.py:cbar2.set_ticks(np.arange(-3000,0,500))\n",
      "/home/ctroupin/Projects/SOCIB_plots/Missions/Caibex/plot_domain_caibex2014.py:cbar2.set_label('(m)')\n",
      "/home/ctroupin/Projects/SOCIB_plots/Missions/Caibex/plot_chloro_caibex_CTD_track_capes.py:        cbar=fig.colorbar(pcm,cmap=cmap,orientation='vertical',fraction=0.1,pad=0.02)\n",
      "/home/ctroupin/Projects/SOCIB_plots/Missions/Caibex/plot_chloro_caibex_CTD_track_capes.py:#        cbar.set_ticks(newticks)\n",
      "/home/ctroupin/Projects/SOCIB_plots/Missions/Caibex/plot_chloro_caibex_CTD_track_capes.py:        cbar.set_ticks(newticks)\n",
      "/home/ctroupin/Projects/SOCIB_plots/Missions/Caibex/plot_chloro_caibex_CTD_track_capes.py:        cbar.set_ticklabels(newlabels)\n",
      "/home/ctroupin/Projects/SOCIB_plots/Missions/Caibex/plot_wind_vorticity_ccmp.py:        cbar=fig.colorbar(contour,cmap=cmap,orientation='vertical',pad=0.025,aspect=15)\n",
      "/home/ctroupin/Projects/SOCIB_plots/Missions/Caibex/plot_wind_vorticity_ccmp.py:        cbar.set_label(r'$ms^{-1}$',fontname='Times New Roman',fontsize=18)\n",
      "/home/ctroupin/Projects/SOCIB_plots/Missions/Caibex/plot_wind_vorticity_ccmp.py:        cbar.set_ticks(bounds)\n",
      "/home/ctroupin/Projects/SOCIB_plots/Missions/Caibex/plot_wind_vorticity_ccmp.py:        cbar.ax.set_yticklabels(bounds,fontname='Times New Roman',fontsize=16)\n",
      "/home/ctroupin/Projects/SOCIB_plots/Missions/Caibex/plot_wind_vorticity_ccmp.py:        cbar=fig.colorbar(contour2,cmap=cmap2,orientation='vertical',pad=0.025,aspect=15)\n",
      "/home/ctroupin/Projects/SOCIB_plots/Missions/Caibex/plot_wind_vorticity_ccmp.py:        cbar.set_label(r'$\\xi/f$',fontname='Times New Roman',fontsize=18)\n",
      "/home/ctroupin/Projects/SOCIB_plots/Missions/Caibex/plot_wind_vorticity_ccmp.py:        cbar.set_ticks(bounds2)\n",
      "/home/ctroupin/Projects/SOCIB_plots/Missions/Caibex/plot_wind_vorticity_ccmp.py:        cbar.ax.set_yticklabels(bounds2,fontname='Times New Roman',fontsize=16)\n",
      "/home/ctroupin/Projects/SOCIB_plots/Missions/Caibex/compute_depth_isotherm.py:    cbar2=plt.colorbar(scat,orientation='horizontal',pad=0.02,shrink=0.95,aspect=20)\n",
      "/home/ctroupin/Projects/SOCIB_plots/Missions/Caibex/compute_depth_isotherm.py:    cbar2.set_label('(m)')\n",
      "/home/ctroupin/Projects/SOCIB_plots/Missions/Caibex/plot_interpolated_depth_isotherm.py:cbar2=plt.colorbar(scat,orientation='horizontal',pad=0.02,shrink=0.95,aspect=20)\n",
      "/home/ctroupin/Projects/SOCIB_plots/Missions/Caibex/plot_interpolated_depth_isotherm.py:cbar2.set_label('(m)')\n",
      "/home/ctroupin/Projects/SOCIB_plots/Missions/Caibex/plot_quikscat_L2b12v3_nonorm.py:                    cbar=fig.colorbar(Q,orientation='vertical',pad=0.025,aspect=15,norm=norm,extend='both')\n",
      "/home/ctroupin/Projects/SOCIB_plots/Missions/Caibex/plot_quikscat_L2b12v3_nonorm.py:                    #cbar.set_label(r'$ms^{-1}$',fontname='Times New Roman',fontsize=18)\n",
      "/home/ctroupin/Projects/SOCIB_plots/Missions/Caibex/plot_quikscat_L2b12v3_nonorm.py:                    cbar.set_ticks(bounds)\n",
      "/home/ctroupin/Projects/SOCIB_plots/Missions/Caibex/plot_quikscat_L2b12v3_nonorm.py:                    cbar.ax.set_yticklabels(bounds,fontname='Times New Roman',fontsize=16)\n",
      "/home/ctroupin/Projects/SOCIB_plots/Missions/Caibex/plot_quikscat_L2b12v3_nonorm.py:                    cbar=fig.colorbar(contour2,cmap=cmap2,orientation='vertical',pad=0.025,aspect=15)\n",
      "/home/ctroupin/Projects/SOCIB_plots/Missions/Caibex/plot_quikscat_L2b12v3_nonorm.py:                    #cbar.set_label(r'$\\xi/f$',fontname='Times New Roman',fontsize=18)\n",
      "/home/ctroupin/Projects/SOCIB_plots/Missions/Caibex/plot_quikscat_L2b12v3_nonorm.py:                    cbar.set_ticks(bounds2)\n",
      "/home/ctroupin/Projects/SOCIB_plots/Missions/Caibex/plot_quikscat_L2b12v3_nonorm.py:                    cbar.ax.set_yticklabels(bounds2,fontname='Times New Roman',fontsize=16)\n",
      "/home/ctroupin/Projects/SOCIB_plots/Missions/Caibex/plot_sst_avhrr_caibex_CTD_track_capes.py:    cbar=fig.colorbar(pcm,cmap=cmap,orientation='vertical',fraction=0.1,pad=0.02)\n",
      "/home/ctroupin/Projects/SOCIB_plots/Missions/Caibex/plot_sst_avhrr_caibex_CTD_track_capes.py:    cbar.set_ticks(newticks)\n",
      "/home/ctroupin/Projects/SOCIB_plots/Missions/Caibex/compute_temp50m.py:    cbar2=plt.colorbar(scat,orientation='horizontal',pad=0.02,shrink=0.95,aspect=20)\n",
      "/home/ctroupin/Projects/SOCIB_plots/Missions/Caibex/compute_temp50m.py:    cbar2.set_label(r'$(^{\\circ}C)$')\n"
     ]
    },
    {
     "name": "stdout",
     "output_type": "stream",
     "text": [
      "/home/ctroupin/Projects/SOCIB_plots/Missions/Caibex/CapeGhir_plot_ADT.py:    cbar=fig.colorbar(contour,cmap=cmap,orientation='vertical',fraction=0.1,pad=0.02)\n",
      "/home/ctroupin/Projects/SOCIB_plots/Missions/Caibex/CapeGhir_plot_ADT.py:    cbar.set_label('(cm)',fontname='Times New Roman',fontsize=18)\n",
      "/home/ctroupin/Projects/SOCIB_plots/Missions/Caibex/CapeGhir_plot_ADT.py:    cbar.set_ticks(bounds2)\n",
      "/home/ctroupin/Projects/SOCIB_plots/Missions/Caibex/CapeGhir_plot_ADT.py:    cbar.ax.set_yticklabels(bounds2,fontname='Times New Roman',fontsize=16)\n",
      "/home/ctroupin/Projects/SOCIB_plots/Missions/Caibex/plot_chloro_avg_caibex_CTD_track_capes.py:    cbar=fig.colorbar(pcm,cmap=cmap,orientation='vertical',fraction=0.1,pad=0.02)\n",
      "/home/ctroupin/Projects/SOCIB_plots/Missions/Caibex/plot_chloro_avg_caibex_CTD_track_capes.py:#        cbar.set_ticks(newticks)\n",
      "/home/ctroupin/Projects/SOCIB_plots/Missions/Caibex/plot_chloro_avg_caibex_CTD_track_capes.py:    cbar.set_ticks(newticks)\n",
      "/home/ctroupin/Projects/SOCIB_plots/Missions/Caibex/plot_chloro_avg_caibex_CTD_track_capes.py:    cbar.set_ticklabels(newlabels)\n",
      "/home/ctroupin/Projects/SOCIB_plots/Missions/Caibex/plot_sst_avhrr_caibex_seasoar_track.py:        cbar=fig.colorbar(pcm,cmap=cmap,orientation='vertical',fraction=0.1,pad=0.02,extend='both')\n",
      "/home/ctroupin/Projects/SOCIB_plots/Missions/Caibex/plot_sst_avhrr_caibex_seasoar_track.py:        cbar.set_ticks(newticks)\n",
      "/home/ctroupin/Projects/SOCIB_plots/Missions/Caibex/plot_sst_avhrr_caibex_seasoar_track.py:cbar=fig.colorbar(pcm,cmap=cmap,orientation='vertical',fraction=0.1,pad=0.02,extend='both')\n",
      "/home/ctroupin/Projects/SOCIB_plots/Missions/Caibex/plot_sst_avhrr_caibex_seasoar_track.py:cbar.set_ticks(newticks)\n",
      "/home/ctroupin/Projects/SOCIB_plots/Missions/Caibex/plot_sst_odyssea_caibex.py:    cbar=fig.colorbar(contour,cmap=cmap,orientation='vertical',fraction=0.1,pad=0.02)\n",
      "/home/ctroupin/Projects/SOCIB_plots/Missions/Caibex/plot_sst_odyssea_caibex.py:    cbar.set_label(unitname,fontsize=18)\n",
      "/home/ctroupin/Projects/SOCIB_plots/Missions/Caibex/plot_sst_odyssea_caibex.py:    cbar.set_ticks(newticks)\n",
      "/home/ctroupin/Projects/SOCIB_plots/Missions/Caibex/plot_chloro_caibex_seasoar_track_capes.py:        cbar=fig.colorbar(pcm,cmap=cmap,orientation='vertical',fraction=0.1,pad=0.02)\n",
      "/home/ctroupin/Projects/SOCIB_plots/Missions/Caibex/plot_chloro_caibex_seasoar_track_capes.py:#        cbar.set_ticks(newticks)\n",
      "/home/ctroupin/Projects/SOCIB_plots/Missions/Caibex/plot_chloro_caibex_seasoar_track_capes.py:        cbar.set_ticks(newticks)\n",
      "/home/ctroupin/Projects/SOCIB_plots/Missions/Caibex/plot_chloro_caibex_seasoar_track_capes.py:        cbar.set_ticklabels(newlabels)\n",
      "/home/ctroupin/Projects/SOCIB_plots/Missions/Caibex/plot_chloro_caibex_seasoar_track_capes.py:    cbar=fig.colorbar(pcm,cmap=cmap,orientation='vertical',fraction=0.1,pad=0.02)\n",
      "/home/ctroupin/Projects/SOCIB_plots/Missions/Caibex/plot_chloro_caibex_seasoar_track_capes.py:    #        cbar.set_ticks(newticks)\n",
      "/home/ctroupin/Projects/SOCIB_plots/Missions/Caibex/plot_chloro_caibex_seasoar_track_capes.py:    cbar.set_ticks(newticks)\n",
      "/home/ctroupin/Projects/SOCIB_plots/Missions/Caibex/plot_chloro_caibex_seasoar_track_capes.py:    cbar.set_ticklabels(newlabels)\n",
      "/home/ctroupin/Projects/SOCIB_plots/Missions/Caibex/plot_chloro_caibex_seasoar_track_capes.py:    cbar=fig.colorbar(pcm,cmap=cmap,orientation='vertical',fraction=0.1,pad=0.02)\n",
      "/home/ctroupin/Projects/SOCIB_plots/Missions/Caibex/plot_chloro_caibex_seasoar_track_capes.py:    #        cbar.set_ticks(newticks)\n",
      "/home/ctroupin/Projects/SOCIB_plots/Missions/Caibex/plot_chloro_caibex_seasoar_track_capes.py:    cbar.set_ticks(newticks)\n",
      "/home/ctroupin/Projects/SOCIB_plots/Missions/Caibex/plot_chloro_caibex_seasoar_track_capes.py:    cbar.set_ticklabels(newlabels)\n",
      "/home/ctroupin/Projects/SOCIB_plots/Missions/Caibex/plot_sst_avhrr_caibex_CTD_track.py:    cbar=fig.colorbar(pcm,cmap=cmap,orientation='vertical',fraction=0.1,pad=0.02)\n",
      "/home/ctroupin/Projects/SOCIB_plots/Missions/Caibex/plot_sst_avhrr_caibex_CTD_track.py:    cbar.set_ticks(newticks)\n",
      "/home/ctroupin/Projects/SOCIB_plots/Missions/Caibex/plot_wind_vorticity_ccmp_zoom.py:        cbar=fig.colorbar(contour,cmap=cmap,orientation='vertical',pad=0.025,aspect=15)\n",
      "/home/ctroupin/Projects/SOCIB_plots/Missions/Caibex/plot_wind_vorticity_ccmp_zoom.py:        cbar.set_label(r'$ms^{-1}$',fontname='Times New Roman',fontsize=18)\n",
      "/home/ctroupin/Projects/SOCIB_plots/Missions/Caibex/plot_wind_vorticity_ccmp_zoom.py:        cbar.set_ticks(bounds)\n",
      "/home/ctroupin/Projects/SOCIB_plots/Missions/Caibex/plot_wind_vorticity_ccmp_zoom.py:        cbar.ax.set_yticklabels(bounds,fontname='Times New Roman',fontsize=16)\n",
      "/home/ctroupin/Projects/SOCIB_plots/Missions/Caibex/plot_wind_vorticity_ccmp_zoom.py:        cbar=fig.colorbar(contour2,cmap=cmap2,orientation='vertical',pad=0.025,aspect=15)\n",
      "/home/ctroupin/Projects/SOCIB_plots/Missions/Caibex/plot_wind_vorticity_ccmp_zoom.py:        cbar.set_label(r'$\\xi/f$',fontname='Times New Roman',fontsize=18)\n",
      "/home/ctroupin/Projects/SOCIB_plots/Missions/Caibex/plot_wind_vorticity_ccmp_zoom.py:        cbar.set_ticks(bounds2)\n",
      "/home/ctroupin/Projects/SOCIB_plots/Missions/Caibex/plot_wind_vorticity_ccmp_zoom.py:        cbar.ax.set_yticklabels(bounds2,fontname='Times New Roman',fontsize=16)\n",
      "/home/ctroupin/Projects/SOCIB_plots/Missions/Caibex/plot_wind_vorticity_quikscat.py:    cbar=fig.colorbar(pcm)\n",
      "/home/ctroupin/Projects/SOCIB_plots/Missions/Caibex/plot_wind_vorticity_quikscat.py:    cbar.drawedges\n",
      "/home/ctroupin/Projects/SOCIB_plots/Missions/Caibex/plot_sst_avg_avhrr_caibex_CTD_track_capes.py:    cbar=fig.colorbar(pcm,cmap=cmap,orientation='vertical',fraction=0.1,pad=0.02)\n",
      "/home/ctroupin/Projects/SOCIB_plots/Missions/Caibex/plot_sst_avg_avhrr_caibex_CTD_track_capes.py:    cbar.set_ticks(newticks)\n",
      "/home/ctroupin/Projects/SOCIB_plots/Missions/Caibex/CapeGhir_plot_SLA.py:    cbar=fig.colorbar(contour,cmap=cmap,orientation='vertical',fraction=0.1,pad=0.02)\n",
      "/home/ctroupin/Projects/SOCIB_plots/Missions/Caibex/CapeGhir_plot_SLA.py:    cbar.set_label('(cm)',fontname='Times New Roman',fontsize=18)\n",
      "/home/ctroupin/Projects/SOCIB_plots/Missions/Caibex/CapeGhir_plot_SLA.py:    cbar.set_ticks(bounds2)\n",
      "/home/ctroupin/Projects/SOCIB_plots/Missions/Caibex/CapeGhir_plot_SLA.py:    cbar.ax.set_yticklabels(bounds2,fontname='Times New Roman',fontsize=16)\n",
      "/home/ctroupin/Projects/SOCIB_plots/Missions/ALMO/plot_chloro_L2_ALMOcruise.py:        cbar = fig.colorbar(chloropcm, cmap=cmapchloro, norm=normchloro, orientation='vertical', pad=0.025, aspect=15,\n",
      "/home/ctroupin/Projects/SOCIB_plots/Missions/Alborex/plot_thermosal_data_TS_diagram.py:cbar = fig.colorbar(scat, cmap=cmapsalt, orientation='horizontal', pad=0.025, aspect=15, shrink=1., extend='both')\n",
      "/home/ctroupin/Projects/SOCIB_plots/Missions/Alborex/plot_thermosal_data_TS_diagram.py:cbar.set_ticks(boundsalt)\n",
      "/home/ctroupin/Projects/SOCIB_plots/Missions/Alborex/plot_chloro_L2.py:    cbar=fig.colorbar(chloropcm, cmap=cmapchloro ,norm=normchloro,\n",
      "/home/ctroupin/Projects/SOCIB_plots/Missions/Alborex/plot_chloro_L2.py:    cbar.set_ticks(newticks)\n",
      "/home/ctroupin/Projects/SOCIB_plots/Missions/Alborex/plot_chloro_L2.py:    cbar.set_ticklabels(newlabels)\n",
      "/home/ctroupin/Projects/SOCIB_plots/Missions/Alborex/plot_scatter3D.py:    cbar = fig.colorbar(scat3D, cmap=cmap, orientation='vertical', pad=0.05,\n",
      "/home/ctroupin/Projects/SOCIB_plots/Missions/Alborex/plot_scatter3D.py:    cbar.set_label('$^{\\circ}$C', fontname='Times New Roman',\n",
      "/home/ctroupin/Projects/SOCIB_plots/Missions/Alborex/plot_scatter3D.py:    cbar.set_clim(tempCTDmin, tempCTDmax)\n",
      "/home/ctroupin/Projects/SOCIB_plots/Missions/Alborex/plot_scatter3D.py:    cbar.set_ticks(boundsCTDtemp)\n",
      "/home/ctroupin/Projects/SOCIB_plots/Missions/Alborex/plot_scatter3D.py:    cbar = fig.colorbar(scat3D, cmap=cmap, orientation='vertical', pad=0.05,\n",
      "/home/ctroupin/Projects/SOCIB_plots/Missions/Alborex/plot_scatter3D.py:    cbar.set_label('$^{\\circ}$C', fontname='Times New Roman', fontsize=18)\n",
      "/home/ctroupin/Projects/SOCIB_plots/Missions/Alborex/plot_scatter3D.py:    cbar.set_clim(tempCTDmin, tempCTDmax)\n",
      "/home/ctroupin/Projects/SOCIB_plots/Missions/Alborex/plot_scatter3D.py:    cbar = fig.colorbar(scat3D, cmap=cmap, orientation='vertical', pad=0.05, aspect=15, shrink=0.8,\n"
     ]
    },
    {
     "name": "stdout",
     "output_type": "stream",
     "text": [
      "/home/ctroupin/Projects/SOCIB_plots/Missions/Alborex/plot_scatter3D.py:    cbar.set_label('$^{\\circ}$C', fontname='Times New Roman', fontsize=18)\n",
      "/home/ctroupin/Projects/SOCIB_plots/Missions/Alborex/plot_scatter3D.py:    cbar.set_clim(tempCTDmin, tempCTDmax)\n",
      "/home/ctroupin/Projects/SOCIB_plots/Missions/Alborex/plot_scatter3D.py:    cbar.set_ticks(boundsCTDtemp)\n",
      "/home/ctroupin/Projects/SOCIB_plots/Missions/Alborex/plot_scatter3D.py:    cbar.ax.set_xticklabels(boundsCTDtemp, fontname='Times New Roman', fontsize=16)\n",
      "/home/ctroupin/Projects/SOCIB_plots/Missions/Alborex/plot_scatter3D.py:    cbar = fig.colorbar(scat3Dglider1, cmap=cmapCTDpsal, orientation='vertical', pad=0.05, aspect=15, shrink=0.8, norm=normCTDpsal,\n",
      "/home/ctroupin/Projects/SOCIB_plots/Missions/Alborex/plot_scatter3D.py:    cbar.set_clim(psalCTDmin, psalCTDmax)\n",
      "/home/ctroupin/Projects/SOCIB_plots/Missions/Alborex/plot_scatter3D.py:    cbar.set_ticks(boundsCTDpsal)\n",
      "/home/ctroupin/Projects/SOCIB_plots/Missions/Alborex/plot_scatter3D.py:    cbar.ax.set_yticklabels(boundsCTDpsal, fontname='Times New Roman', fontsize=16)\n",
      "/home/ctroupin/Projects/SOCIB_plots/Missions/Alborex/plot_scatter3D.py:    cbar = fig.colorbar(scat3D, cmap=cmap, orientation='vertical', pad=0.05, aspect=15, shrink=0.8,\n",
      "/home/ctroupin/Projects/SOCIB_plots/Missions/Alborex/plot_scatter3D.py:    cbar.set_clim(psalCTDmin, psalCTDmax)\n",
      "/home/ctroupin/Projects/SOCIB_plots/Missions/Alborex/plot_scatter3D.py:    cbar.set_ticks(boundsCTDpsal)\n",
      "/home/ctroupin/Projects/SOCIB_plots/Missions/Alborex/plot_scatter3D.py:    cbar.ax.set_yticklabels(boundsCTDpsal, fontname='Times New Roman', fontsize=16)\n",
      "/home/ctroupin/Projects/SOCIB_plots/Missions/Alborex/plot_scatter3D.py:    cbar = fig.colorbar(scat3D, cmap=cmapCTDpsal, orientation='vertical', pad=0.05, aspect=15, shrink=0.8,\n",
      "/home/ctroupin/Projects/SOCIB_plots/Missions/Alborex/plot_scatter3D.py:    cbar.set_clim(psalCTDmin, psalCTDmax)\n",
      "/home/ctroupin/Projects/SOCIB_plots/Missions/Alborex/plot_scatter3D.py:    cbar.set_ticks(boundsCTDpsal)\n",
      "/home/ctroupin/Projects/SOCIB_plots/Missions/Alborex/plot_scatter3D.py:    cbar.ax.set_yticklabels(boundsCTDpsal, fontname='Times New Roman', fontsize=16)\n",
      "/home/ctroupin/Projects/SOCIB_plots/Missions/Alborex/plot_scatter3D.py:    cbar = fig.colorbar(scat3D, cmap=cmap, orientation='vertical', pad=0.05, aspect=15, shrink=0.8, norm=normCTDchloro,\n",
      "/home/ctroupin/Projects/SOCIB_plots/Missions/Alborex/plot_scatter3D.py:    cbar.set_label('$mg\\,m^{-3}$', fontname='Times New Roman', fontsize=18)\n",
      "/home/ctroupin/Projects/SOCIB_plots/Missions/Alborex/plot_scatter3D.py:    cbar.set_clim(chloroCTDmin, chloroCTDmax)\n",
      "/home/ctroupin/Projects/SOCIB_plots/Missions/Alborex/plot_scatter3D.py:    cbar.set_ticks(boundsCTDchloro)\n",
      "/home/ctroupin/Projects/SOCIB_plots/Missions/Alborex/plot_scatter3D.py:    cbar.ax.set_yticklabels(boundsCTDchloro, fontname='Times New Roman', fontsize=16)\n",
      "/home/ctroupin/Projects/SOCIB_plots/Missions/Alborex/plot_scatter3D.py:    cbar = fig.colorbar(scat3D, cmap=cmap, orientation='vertical', pad=0.05, aspect=15, shrink=0.8, norm=normCTD,\n",
      "/home/ctroupin/Projects/SOCIB_plots/Missions/Alborex/plot_scatter3D.py:    cbar.set_label('$mg\\,m^{-3}$', fontname='Times New Roman', fontsize=18)\n",
      "/home/ctroupin/Projects/SOCIB_plots/Missions/Alborex/plot_scatter3D.py:    cbar.set_clim(chloroCTDmin, chloroCTDmax)\n",
      "/home/ctroupin/Projects/SOCIB_plots/Missions/Alborex/plot_scatter3D.py:    cbar.set_ticks(boundsCTDchloro)\n",
      "/home/ctroupin/Projects/SOCIB_plots/Missions/Alborex/plot_scatter3D.py:    cbar.ax.set_yticklabels(boundsCTDchloro, fontname='Times New Roman', fontsize=16)\n",
      "/home/ctroupin/Projects/SOCIB_plots/Missions/Alborex/plot_scatter3D.py:    cbar = fig.colorbar(scat3D, cmap=cmap, orientation='vertical', pad=0.05, aspect=15, shrink=0.8, norm=normCTD,\n",
      "/home/ctroupin/Projects/SOCIB_plots/Missions/Alborex/plot_scatter3D.py:    cbar.set_label('$mg\\,m^{-3}$', fontname='Times New Roman', fontsize=18)\n",
      "/home/ctroupin/Projects/SOCIB_plots/Missions/Alborex/plot_scatter3D.py:    cbar.set_clim(chloroCTDmin, chloroCTDmax)\n",
      "/home/ctroupin/Projects/SOCIB_plots/Missions/Alborex/plot_scatter3D.py:    cbar.set_ticks(boundsCTDchloro)\n",
      "/home/ctroupin/Projects/SOCIB_plots/Missions/Alborex/plot_scatter3D.py:    cbar.ax.set_yticklabels(boundsCTDchloro, fontname='Times New Roman', fontsize=16)\n",
      "/home/ctroupin/Projects/SOCIB_plots/Missions/Alborex/plot_scatter3D_contour.py:    cbar = fig.colorbar(scat3D, cmap=cmap, orientation='vertical', pad=0.05,\n",
      "/home/ctroupin/Projects/SOCIB_plots/Missions/Alborex/plot_scatter3D_contour.py:    cbar.set_label('$^{\\circ}$C', fontname='Times New Roman',\n",
      "/home/ctroupin/Projects/SOCIB_plots/Missions/Alborex/plot_scatter3D_contour.py:    cbar.set_clim(tempCTDmin, tempCTDmax)\n",
      "/home/ctroupin/Projects/SOCIB_plots/Missions/Alborex/plot_scatter3D_contour.py:    cbar.set_ticks(boundsCTDtemp)\n",
      "/home/ctroupin/Projects/SOCIB_plots/Missions/Alborex/plot_scatter3D_contour.py:    cbar = fig.colorbar(scat3D, cmap=cmap, orientation='vertical', pad=0.05,\n",
      "/home/ctroupin/Projects/SOCIB_plots/Missions/Alborex/plot_scatter3D_contour.py:    cbar.set_label('$^{\\circ}$C', fontname='Times New Roman', fontsize=18)\n",
      "/home/ctroupin/Projects/SOCIB_plots/Missions/Alborex/plot_scatter3D_contour.py:    cbar.set_clim(tempCTDmin, tempCTDmax)\n",
      "/home/ctroupin/Projects/SOCIB_plots/Missions/Alborex/plot_scatter3D_contour.py:    cbar = fig.colorbar(scat3D, cmap=cmap, orientation='vertical', pad=0.05, aspect=15, shrink=0.8,\n",
      "/home/ctroupin/Projects/SOCIB_plots/Missions/Alborex/plot_scatter3D_contour.py:    cbar.set_label('$^{\\circ}$C', fontname='Times New Roman', fontsize=18)\n",
      "/home/ctroupin/Projects/SOCIB_plots/Missions/Alborex/plot_scatter3D_contour.py:    cbar.set_clim(tempCTDmin, tempCTDmax)\n",
      "/home/ctroupin/Projects/SOCIB_plots/Missions/Alborex/plot_scatter3D_contour.py:    cbar.set_ticks(boundsCTDtemp)\n",
      "/home/ctroupin/Projects/SOCIB_plots/Missions/Alborex/plot_scatter3D_contour.py:    cbar.ax.set_xticklabels(boundsCTDtemp, fontname='Times New Roman', fontsize=16)\n",
      "/home/ctroupin/Projects/SOCIB_plots/Missions/Alborex/plot_scatter3D_contour.py:    cbar = fig.colorbar(scat3D, cmap=cmapCTDpsal, orientation='vertical', pad=0.05, aspect=15, shrink=0.8, norm=normCTDpsal,\n",
      "/home/ctroupin/Projects/SOCIB_plots/Missions/Alborex/plot_scatter3D_contour.py:    cbar.set_clim(psalCTDmin, psalCTDmax)\n",
      "/home/ctroupin/Projects/SOCIB_plots/Missions/Alborex/plot_scatter3D_contour.py:    cbar.set_ticks(boundsCTDpsal)\n",
      "/home/ctroupin/Projects/SOCIB_plots/Missions/Alborex/plot_scatter3D_contour.py:    cbar.ax.set_yticklabels(boundsCTDpsal, fontname='Times New Roman', fontsize=16)\n",
      "/home/ctroupin/Projects/SOCIB_plots/Missions/Alborex/plot_scatter3D_contour.py:    cbar = fig.colorbar(scat3D, cmap=cmap, orientation='vertical', pad=0.05, aspect=15, shrink=0.8,\n",
      "/home/ctroupin/Projects/SOCIB_plots/Missions/Alborex/plot_scatter3D_contour.py:    cbar.set_clim(psalCTDmin, psalCTDmax)\n",
      "/home/ctroupin/Projects/SOCIB_plots/Missions/Alborex/plot_scatter3D_contour.py:    cbar.set_ticks(boundsCTDpsal)\n",
      "/home/ctroupin/Projects/SOCIB_plots/Missions/Alborex/plot_scatter3D_contour.py:    cbar.ax.set_yticklabels(boundsCTDpsal, fontname='Times New Roman', fontsize=16)\n",
      "/home/ctroupin/Projects/SOCIB_plots/Missions/Alborex/plot_scatter3D_contour.py:    cbar = fig.colorbar(scat3D, cmap=cmapCTDpsal, orientation='vertical', pad=0.05, aspect=15, shrink=0.8,\n",
      "/home/ctroupin/Projects/SOCIB_plots/Missions/Alborex/plot_scatter3D_contour.py:    cbar.set_clim(psalCTDmin, psalCTDmax)\n",
      "/home/ctroupin/Projects/SOCIB_plots/Missions/Alborex/plot_scatter3D_contour.py:    cbar.set_ticks(boundsCTDpsal)\n",
      "/home/ctroupin/Projects/SOCIB_plots/Missions/Alborex/plot_scatter3D_contour.py:    cbar.ax.set_yticklabels(boundsCTDpsal, fontname='Times New Roman', fontsize=16)\n",
      "/home/ctroupin/Projects/SOCIB_plots/Missions/Alborex/plot_scatter3D_contour.py:    cbar = fig.colorbar(scat3D, cmap=cmap, orientation='vertical', pad=0.05, aspect=15, shrink=0.8, norm=normCTDchloro,\n",
      "/home/ctroupin/Projects/SOCIB_plots/Missions/Alborex/plot_scatter3D_contour.py:    cbar.set_label('$mg\\,m^{-3}$', fontname='Times New Roman', fontsize=18)\n",
      "/home/ctroupin/Projects/SOCIB_plots/Missions/Alborex/plot_scatter3D_contour.py:    cbar.set_clim(chloroCTDmin, chloroCTDmax)\n"
     ]
    },
    {
     "name": "stdout",
     "output_type": "stream",
     "text": [
      "/home/ctroupin/Projects/SOCIB_plots/Missions/Alborex/plot_scatter3D_contour.py:    cbar.set_ticks(boundsCTDchloro)\n",
      "/home/ctroupin/Projects/SOCIB_plots/Missions/Alborex/plot_scatter3D_contour.py:    cbar.ax.set_yticklabels(boundsCTDchloro, fontname='Times New Roman', fontsize=16)\n",
      "/home/ctroupin/Projects/SOCIB_plots/Missions/Alborex/plot_scatter3D_contour.py:    cbar = fig.colorbar(scat3D, cmap=cmap, orientation='vertical', pad=0.05, aspect=15, shrink=0.8, norm=normCTD,\n",
      "/home/ctroupin/Projects/SOCIB_plots/Missions/Alborex/plot_scatter3D_contour.py:    cbar.set_label('$mg\\,m^{-3}$', fontname='Times New Roman', fontsize=18)\n",
      "/home/ctroupin/Projects/SOCIB_plots/Missions/Alborex/plot_scatter3D_contour.py:    cbar.set_clim(chloroCTDmin, chloroCTDmax)\n",
      "/home/ctroupin/Projects/SOCIB_plots/Missions/Alborex/plot_scatter3D_contour.py:    cbar.set_ticks(boundsCTDchloro)\n",
      "/home/ctroupin/Projects/SOCIB_plots/Missions/Alborex/plot_scatter3D_contour.py:    cbar.ax.set_yticklabels(boundsCTDchloro, fontname='Times New Roman', fontsize=16)\n",
      "/home/ctroupin/Projects/SOCIB_plots/Missions/Alborex/plot_scatter3D_contour.py:    cbar = fig.colorbar(scat3D, cmap=cmap, orientation='vertical', pad=0.05, aspect=15, shrink=0.8, norm=normCTD,\n",
      "/home/ctroupin/Projects/SOCIB_plots/Missions/Alborex/plot_scatter3D_contour.py:    cbar.set_label('$mg\\,m^{-3}$', fontname='Times New Roman', fontsize=18)\n",
      "/home/ctroupin/Projects/SOCIB_plots/Missions/Alborex/plot_scatter3D_contour.py:    cbar.set_clim(chloroCTDmin, chloroCTDmax)\n",
      "/home/ctroupin/Projects/SOCIB_plots/Missions/Alborex/plot_scatter3D_contour.py:    cbar.set_ticks(boundsCTDchloro)\n",
      "/home/ctroupin/Projects/SOCIB_plots/Missions/Alborex/plot_scatter3D_contour.py:    cbar.ax.set_yticklabels(boundsCTDchloro, fontname='Times New Roman', fontsize=16)\n",
      "/home/ctroupin/Projects/SOCIB_plots/Missions/Alborex/plot_2months_drifter_sst.py:cbar=fig.colorbar(pp,cmap=cmapsst, norm=normsst, orientation='vertical',\n",
      "/home/ctroupin/Projects/SOCIB_plots/Missions/Alborex/plot_2months_drifter_sst.py:cbar.set_ticks(boundsst)\n",
      "/home/ctroupin/Projects/SOCIB_plots/Missions/Alborex/plot_2months_drifter_sst.py:cbar.set_label(r'$^{\\circ}$C', fontsize=14, rotation=0, ha='left')\n",
      "/home/ctroupin/Projects/SOCIB_plots/Missions/Alborex/plot_Alborex_experiment.py:    cbar = fig.colorbar(sstpcm, cmap=cmapsst, norm=normsst, orientation='vertical', pad=-0.11, aspect=15,\n",
      "/home/ctroupin/Projects/SOCIB_plots/Missions/Alborex/plot_Alborex_experiment.py:    cbar.set_ticks(boundsst)\n",
      "/home/ctroupin/Projects/SOCIB_plots/Missions/Alborex/plot_Alborex_experiment.py:    cbar.set_label(r'$^{\\circ}$C', fontsize=16, rotation=0)\n",
      "/home/ctroupin/Projects/SOCIB_plots/Missions/GlidingTurtles/plot_turtle_altimetry.py:    cbar = fig.colorbar(sstpcm, cmap=cmapsst, norm=normsst, orientation='vertical', pad=-0.11, aspect=15,\n",
      "/home/ctroupin/Projects/SOCIB_plots/Missions/GlidingTurtles/plot_turtle_altimetry.py:    cbar.set_ticks(boundsst)\n",
      "/home/ctroupin/Projects/SOCIB_plots/Missions/GlidingTurtles/plot_turtle_altimetry.py:    cbar.set_label(r'$^{\\circ}$C', fontsize=16, rotation=0)\n",
      "/home/ctroupin/Projects/SOCIB_plots/Missions/GlidingTurtles/plot_turtle_altimetry.py:cbar = plt.colorbar(pcm, norm=norm, cmap=cmap, orientation='vertical', pad=0.05, aspect=15,\n",
      "/home/ctroupin/Projects/SOCIB_plots/Missions/GlidingTurtles/plot_turtle_altimetry.py:cbar.set_ticks(bounds)\n",
      "/home/ctroupin/Projects/SOCIB_plots/ResearchVessel/plot_SST_L2_ALMOcruise.py:    cbar = fig.colorbar(sstpcm, cmap=cmapsst, norm=normsst, orientation='vertical', pad=0.025,\n",
      "/home/ctroupin/Projects/SOCIB_plots/ResearchVessel/plot_SST_L2_ALMOcruise.py:    cbar.set_ticks(boundsst)\n",
      "/home/ctroupin/Projects/SOCIB_plots/ResearchVessel/plot_ABACUS_experiment.py:        cbar = fig.colorbar(sstpcm, cmap=cmapsst, norm=normsst, orientation='vertical', pad=-0.11, aspect=15,\n",
      "/home/ctroupin/Projects/SOCIB_plots/ResearchVessel/plot_ABACUS_experiment.py:        cbar.set_ticks(boundsst)\n",
      "/home/ctroupin/Projects/SOCIB_plots/ResearchVessel/plot_ABACUS_experiment.py:        cbar.set_label(r'$^{\\circ}$C', fontsize=16, rotation=0)\n",
      "/home/ctroupin/Projects/SOCIB_plots/ResearchVessel/plot_ALMO_experiment.py:        cbar = fig.colorbar(sstpcm, cmap=cmapsst, norm=normsst, orientation='vertical', pad=-0.11, aspect=15,\n",
      "/home/ctroupin/Projects/SOCIB_plots/ResearchVessel/plot_ALMO_experiment.py:        cbar.set_ticks(boundsst)\n",
      "/home/ctroupin/Projects/SOCIB_plots/ResearchVessel/plot_ALMO_experiment.py:        cbar.set_label(r'$^{\\circ}$C', fontsize=16, rotation=0)\n",
      "/home/ctroupin/Projects/SOCIB_plots/Projects/CMEMS/Communication2015Q2/interp_climato_obs2_WOA_loop.py:                cbar = plt.colorbar(scat, orientation='horizontal', pad=mypad, aspect=20, extend='both', ax=ax)\n",
      "/home/ctroupin/Projects/SOCIB_plots/Projects/CMEMS/Communication2015Q2/interp_climato_obs2_WOA_loop.py:                cbar.set_label('$^{\\circ}$C')\n",
      "/home/ctroupin/Projects/SOCIB_plots/Projects/CMEMS/Communication2015Q2/interp_climato_obs2_WOA_loop.py:                cbar = plt.colorbar(scat, orientation='horizontal', pad=mypad, aspect=myaspect, extend='both', ax=ax)\n",
      "/home/ctroupin/Projects/SOCIB_plots/Projects/CMEMS/Communication2015Q2/interp_climato_obs2_WOA_loop.py:                cbar.set_label('$^{\\circ}$C')\n",
      "/home/ctroupin/Projects/SOCIB_plots/Projects/CMEMS/Communication2015Q2/interp_climato_obs2_WOA_loop.py:                cbar = plt.colorbar(scat, orientation='horizontal', pad=mypad, boundaries=boundsanom, aspect=myaspect, extend='both', ax=ax)\n",
      "/home/ctroupin/Projects/SOCIB_plots/Projects/CMEMS/Communication2015Q2/interp_climato_obs2_WOA_loop.py:                cbar.set_label('Temperature anomaly ($^{\\circ}$C) with respect to climatology')\n",
      "/home/ctroupin/Projects/SOCIB_plots/Projects/CMEMS/Communication2015Q2/interp_climato_obs2_WOA_loop.py:                cbar.set_ticks(boundsanom)\n",
      "/home/ctroupin/Projects/SOCIB_plots/Projects/CMEMS/Communication2015Q2/interp_climato_obs2_WOA.py:    cbar = plt.colorbar(scat, orientation='horizontal', pad=mypad, aspect=20, extend='both', ax=ax)\n",
      "/home/ctroupin/Projects/SOCIB_plots/Projects/CMEMS/Communication2015Q2/interp_climato_obs2_WOA.py:    cbar.set_label('$^{\\circ}$C')\n",
      "/home/ctroupin/Projects/SOCIB_plots/Projects/CMEMS/Communication2015Q2/interp_climato_obs2_WOA.py:    cbar = plt.colorbar(scat, orientation='horizontal', pad=mypad, aspect=myaspect, extend='both', ax=ax)\n",
      "/home/ctroupin/Projects/SOCIB_plots/Projects/CMEMS/Communication2015Q2/interp_climato_obs2_WOA.py:    cbar.set_label('$^{\\circ}$C')\n",
      "/home/ctroupin/Projects/SOCIB_plots/Projects/CMEMS/Communication2015Q2/interp_climato_obs2_WOA.py:    cbar = plt.colorbar(scat, orientation='horizontal', pad=mypad, aspect=myaspect, extend='both', ax=ax)\n",
      "/home/ctroupin/Projects/SOCIB_plots/Projects/CMEMS/Communication2015Q2/interp_climato_obs2_WOA.py:    cbar.set_label('$^{\\circ}$C')\n",
      "/home/ctroupin/Projects/SOCIB_plots/Projects/CMEMS/Communication2015Q2/interp_climato_obs2_WOA.py:    cbar.set_ticks(boundsanom)\n",
      "/home/ctroupin/Projects/SOCIB_plots/Projects/CMEMS/Communication2015Q2/plot_sst_modis_interp_mooring.py:    cbar = plt.colorbar(scat, extend='both', shrink=0.7)\n",
      "/home/ctroupin/Projects/SOCIB_plots/Projects/CMEMS/Communication2015Q2/plot_sst_modis_interp_mooring.py:    cbar.set_label('$^{\\circ}$C', rotation=0, horizontalalignment='left')\n",
      "/home/ctroupin/Projects/SOCIB_plots/Projects/CMEMS/Communication2015Q2/plot_sst_modis_interp_mooring.py:    cbar.set_ticks(bounds)\n",
      "/home/ctroupin/Projects/SOCIB_plots/Projects/CMEMS/Communication2015Q2/interp_climato_obs2.py:    cbar = plt.colorbar(scat, orientation='horizontal', pad=mypad, aspect=20, extend='both', ax=ax)\n",
      "/home/ctroupin/Projects/SOCIB_plots/Projects/CMEMS/Communication2015Q2/interp_climato_obs2.py:    cbar.set_label('$^{\\circ}$C')\n",
      "/home/ctroupin/Projects/SOCIB_plots/Projects/CMEMS/Communication2015Q2/interp_climato_obs2.py:    cbar = plt.colorbar(scat, orientation='horizontal', pad=mypad, aspect=myaspect, extend='both', ax=ax)\n",
      "/home/ctroupin/Projects/SOCIB_plots/Projects/CMEMS/Communication2015Q2/interp_climato_obs2.py:    cbar.set_label('$^{\\circ}$C')\n",
      "/home/ctroupin/Projects/SOCIB_plots/Projects/CMEMS/Communication2015Q2/interp_climato_obs2.py:    cbar = plt.colorbar(scat, orientation='horizontal', pad=mypad, aspect=myaspect, extend='both', ax=ax)\n"
     ]
    },
    {
     "name": "stdout",
     "output_type": "stream",
     "text": [
      "/home/ctroupin/Projects/SOCIB_plots/Projects/CMEMS/Communication2015Q2/interp_climato_obs2.py:    cbar.set_label('$^{\\circ}$C')\n",
      "/home/ctroupin/Projects/SOCIB_plots/Projects/CMEMS/Communication2015Q2/interp_climato_obs2.py:    cbar.set_ticks(boundsanom)\n",
      "/home/ctroupin/Projects/SOCIB_plots/Projects/CMEMS/Communication2015Q2/animation_drifter_eddy_visible.py:cbar = fig.colorbar(p1, cmap=cmapsst, norm=normsst, orientation='vertical', pad=0.025, aspect=15, shrink=0.75,\n",
      "/home/ctroupin/Projects/SOCIB_plots/Projects/CMEMS/Communication2015Q2/animation_drifter_eddy_visible.py:cbar.set_ticks(boundsst)\n",
      "/home/ctroupin/Projects/SOCIB_plots/Projects/CMEMS/Communication2015Q2/animation_drifter_eddy_visible.py:cbar.set_label(r'$^{\\circ}$C', fontsize=16, rotation=0, ha='left')\n",
      "/home/ctroupin/Projects/SOCIB_plots/Projects/CMEMS/Communication2015Q2/animation_drifter_eddy.py:    cbar = fig.colorbar(p1, cmap=cmapsst, norm=normsst, orientation='vertical', pad=0.025, aspect=15, shrink=0.99,\n",
      "/home/ctroupin/Projects/SOCIB_plots/Projects/CMEMS/Communication2015Q2/animation_drifter_eddy.py:    cbar.set_ticks(boundsst)\n",
      "/home/ctroupin/Projects/SOCIB_plots/Projects/CMEMS/Communication2015Q2/animation_drifter_eddy.py:    cbar.set_label(r'$^{\\circ}$C', fontsize=16, rotation=0, ha='left')\n",
      "/home/ctroupin/Projects/SOCIB_plots/Projects/CMEMS/Communication2015Q2/animation_drifter.py:    cbar = fig.colorbar(p1, cmap=cmapsst, norm=normsst, orientation='vertical', pad=0.025, aspect=15, shrink=0.95,\n",
      "/home/ctroupin/Projects/SOCIB_plots/Projects/CMEMS/Communication2015Q2/animation_drifter.py:    cbar.set_ticks(boundsst)\n",
      "/home/ctroupin/Projects/SOCIB_plots/Projects/CMEMS/Communication2015Q2/animation_drifter.py:    cbar.set_label(r'$^{\\circ}$C', fontsize=16, rotation=0, ha='left')\n",
      "/home/ctroupin/Projects/SOCIB_plots/Projects/CMEMS/Communication2015Q2/animation_drifter.py:    fig, ax, m, cbar = prepare_plot()\n",
      "/home/ctroupin/Projects/SOCIB_plots/Projects/CMEMS/Communication2016Q1/plot_TS_diagram_all.py:    cbar = plt.colorbar(extend='max')\n",
      "/home/ctroupin/Projects/SOCIB_plots/Projects/CMEMS/Communication2016Q1/plot_TS_diagram_all.py:    cbar.set_label('Depth\\n(m)', rotation=0, ha='left')\n",
      "/home/ctroupin/Projects/SOCIB_plots/Projects/CMEMS/Communication2016Q1/Argo_functions.py:    cbar = plt.colorbar()\n",
      "/home/ctroupin/Projects/SOCIB_plots/Projects/CMEMS/Communication2016Q1/Argo_functions.py:    cbar.set_label('Depth\\n(m)', rotation=0, ha='left')\n",
      "/home/ctroupin/Projects/SOCIB_plots/Projects/CMEMS/Communication2016Q1/plot_MLD_profilers.py:    cbar = plt.colorbar(extend='max', shrink=0.55)\n",
      "/home/ctroupin/Projects/SOCIB_plots/Projects/CMEMS/Communication2016Q1/plot_MLD_profilers.py:    cbar.set_label('MLD\\n(m)', rotation=0, ha='left')\n",
      "/home/ctroupin/Projects/SOCIB_plots/Projects/CMEMS/Communication2016Q1/plot_MLD_profilers.py:    cbar.solids.set(alpha=1)\n",
      "/home/ctroupin/Projects/SOCIB_plots/Projects/CMEMS/Communication2016Q1/plot_MLD_profilers.py:    cbar.set_ticks(range(0, 151, 25))\n",
      "/home/ctroupin/Projects/SOCIB_plots/Projects/CMEMS/DataPlots/plot_drifter_global_interp.py:cbar = plt.colorbar(scat, cmap=cmapsst, norm=normsst, extend='both', shrink=0.7)\n",
      "/home/ctroupin/Projects/SOCIB_plots/Projects/CMEMS/DataPlots/plot_drifter_global_interp.py:cbar.set_label('$^{\\circ}$C', rotation=0, ha='left')\n",
      "/home/ctroupin/Projects/SOCIB_plots/Projects/CMEMS/DataPlots/plot_drifter_global_bin.py:    cbar = plt.colorbar(pcm, cmap=cmapsst, norm=normsst, extend='both', shrink=0.7)\n",
      "/home/ctroupin/Projects/SOCIB_plots/Projects/CMEMS/DataPlots/plot_drifter_global_bin.py:    cbar.set_label('$^{\\circ}$C', rotation=0, ha='left')\n",
      "/home/ctroupin/Projects/SOCIB_plots/Projects/CMEMS/DataPlots/plot_drifter_global.py:    cbar = plt.colorbar(scat, cmap=cmapsst, norm=normsst, extend='both', shrink=0.7)\n",
      "/home/ctroupin/Projects/SOCIB_plots/Projects/CMEMS/DataPlots/plot_drifter_global.py:    cbar.set_label('$^{\\circ}$C', rotation=0, ha='left')\n",
      "/home/ctroupin/Projects/SOCIB_plots/test/test_animation_WMPO.py:cbar = plt.colorbar(pcm, norm=normvort, cmap=cmapvort, orientation='vertical', pad=0.05, aspect=15,\n",
      "/home/ctroupin/Projects/SOCIB_plots/test/test_animation_WMPO.py:    #cbar = plt.colorbar(pcm, norm=normvort, cmap=cmapvort, orientation='vertical', pad=0.05, aspect=15,\n",
      "/home/ctroupin/Projects/SOCIB_plots/Drifters/plot_drifter_temperature.py:cbar = plt.colorbar(scat, extend='both', pad=0.05, cmap=cmap, norm=norm, orientation='horizontal')\n",
      "/home/ctroupin/Projects/SOCIB_plots/Drifters/plot_drifter_temperature.py:cbar.set_ticks(bounds)\n",
      "/home/ctroupin/Projects/SOCIB_plots/Drifters/plot_drifter_temperature.py:cbar.set_label('$^{\\circ}$C')\n",
      "/home/ctroupin/Projects/SOCIB_plots/Drifters/plot_canary_drifters_visible.py:    cbar=fig.colorbar(contoursst,orientation='horizontal',\\\n",
      "/home/ctroupin/Projects/SOCIB_plots/Drifters/plot_canary_drifters_visible.py:    cbar.set_label(r'($^{\\circ}$C)',fontname='Times New Roman',fontsize=16,rotation=0)\n",
      "/home/ctroupin/Projects/SOCIB_plots/Drifters/plot_canary_drifters_visible.py:    cbar.set_ticks(newticks)\n",
      "/home/ctroupin/Projects/SOCIB_plots/Drifters/plot_all_drifter_positions.py:cbar = fig.colorbar(p1, cmap=cmapsst, norm=normsst, orientation='vertical', pad=0.025, aspect=15, shrink=0.9,\n",
      "/home/ctroupin/Projects/SOCIB_plots/Drifters/plot_all_drifter_positions.py:cbar.set_ticks(boundsst)\n",
      "/home/ctroupin/Projects/SOCIB_plots/Drifters/plot_all_drifter_positions.py:cbar.set_label(r'$^{\\circ}$C', fontsize=16, rotation=0, ha='left')\n",
      "/home/ctroupin/Projects/SOCIB_plots/Animations/animation_drifter_alborex_visible.py:cbar = fig.colorbar(p1, cmap=cmapsst, norm=normsst, orientation='vertical', pad=0.025, aspect=15, shrink=0.75,\n",
      "/home/ctroupin/Projects/SOCIB_plots/Animations/animation_drifter_alborex_visible.py:cbar.set_ticks(boundsst)\n",
      "/home/ctroupin/Projects/SOCIB_plots/Animations/animation_drifter_alborex_visible.py:cbar.set_label(r'$^{\\circ}$C', fontsize=16, rotation=0, ha='left')\n",
      "/home/ctroupin/Projects/SOCIB_plots/Animations/plot_anim_wmop.py:#    cbar = plt.colorbar(pcm, norm=norm, cmap=cmap, orientation='vertical', pad=0.05, aspect=15,\n",
      "/home/ctroupin/Projects/SOCIB_plots/Animations/plot_anim_wmop.py:#    cbar.set_ticks(bounds)\n",
      "/home/ctroupin/Projects/SOCIB_plots/Animations/animation_drifter_alborex_visible_game.py:cbar = fig.colorbar(p1, cmap=cmapsst, norm=normsst, orientation='vertical', pad=0.025, aspect=15, shrink=0.75,\n",
      "/home/ctroupin/Projects/SOCIB_plots/Animations/animation_drifter_alborex_visible_game.py:cbar.set_ticks(boundsst)\n",
      "/home/ctroupin/Projects/SOCIB_plots/Animations/animation_drifter_alborex_visible_game.py:cbar.set_label(r'$^{\\circ}$C', fontsize=16, rotation=0, ha='left')\n",
      "/home/ctroupin/Projects/SOCIB_plots/Animations/plot_anim_wmop_black.py:#    cbar = plt.colorbar(pcm, norm=norm, cmap=cmap, orientation='vertical', pad=0.05, aspect=15,\n",
      "/home/ctroupin/Projects/SOCIB_plots/Animations/plot_anim_wmop_black.py:#    cbar.set_ticks(bounds)\n",
      "/home/ctroupin/Projects/SOCIB_plots/Animations/animation_drifter_alborex_visible2.py:cbar = fig.colorbar(p1, cmap=cmapsst, norm=normsst, orientation='vertical', pad=0.025, aspect=15, shrink=0.75,\n",
      "/home/ctroupin/Projects/SOCIB_plots/Animations/animation_drifter_alborex_visible2.py:cbar.set_ticks(boundsst)\n",
      "/home/ctroupin/Projects/SOCIB_plots/Animations/animation_drifter_alborex_visible2.py:cbar.set_label(r'$^{\\circ}$C', fontsize=16, rotation=0, ha='left')\n",
      "/home/ctroupin/Projects/SOCIB_plots/Animations/plot_anim_wmop_latest.py:#    cbar = plt.colorbar(pcm, norm=norm, cmap=cmap, orientation='vertical', pad=0.05, aspect=15,\n",
      "/home/ctroupin/Projects/SOCIB_plots/Animations/plot_anim_wmop_latest.py:#    cbar.set_ticks(bounds)\n",
      "/home/ctroupin/Projects/SOCIB_plots/plot_functions.py:    cbar = plt.colorbar(pcm, extend='both', cax=cax)\n",
      "/home/ctroupin/Projects/SOCIB_plots/plot_functions.py:    cbar.set_label('^{\\circ}C', rotation=0, horizontalalignement='left')\n",
      "/home/ctroupin/Projects/SOCIB_plots/HFradar/plot_radar_velocity_vorticity_netcdf.py:            cbar=fig.colorbar(Q,cmap=cmap,norm=norm2,orientation='vertical',pad=0.025,aspect=15,extend='both')\n",
      "/home/ctroupin/Projects/SOCIB_plots/HFradar/plot_radar_velocity_vorticity_netcdf.py:            cbar.set_label(r'$\\xi/f$',fontname='Times New Roman',fontsize=18,rotation=0)\n"
     ]
    },
    {
     "name": "stdout",
     "output_type": "stream",
     "text": [
      "/home/ctroupin/Projects/SOCIB_plots/HFradar/plot_radar_velocity_vorticity_netcdf.py:            cbar.set_ticks(bounds2)\n",
      "/home/ctroupin/Projects/SOCIB_plots/HFradar/plot_radar_velocity_vorticity_netcdf.py:            cbar.set_clim((vmin,vmax,))\n",
      "/home/ctroupin/Projects/SOCIB_plots/HFradar/plot_radar_velocity_vorticity_netcdf.py:            cbar.ax.set_yticklabels(bounds2,fontname='Times New Roman',fontsize=16)\n",
      "/home/ctroupin/Projects/SOCIB_plots/HFradar/plot_radar_velocity_vorticity_netcdf.py:            cbar.set_cmap(plt.cm.spectral)\n",
      "/home/ctroupin/Projects/SOCIB_plots/HFradar/plot_radar_velocity_vorticity_netcdf.py:            cbar.set_norm(norm2)\n",
      "/home/ctroupin/Projects/SOCIB_plots/HFradar/plot_radar_velocity_visible.py:            cbar=fig.colorbar(pcm,cmap=cmap,orientation='vertical',pad=0.025,aspect=15)\n",
      "/home/ctroupin/Projects/SOCIB_plots/HFradar/plot_radar_velocity_visible.py:            cbar.set_label(r'$\\xi/f$',fontname='Times New Roman',fontsize=18)\n",
      "/home/ctroupin/Projects/SOCIB_plots/HFradar/plot_radar_velocity_visible.py:            cbar.set_ticks(bounds2)\n",
      "/home/ctroupin/Projects/SOCIB_plots/HFradar/plot_radar_velocity_visible.py:            cbar.set_clim((vmin,vmax,))\n",
      "/home/ctroupin/Projects/SOCIB_plots/HFradar/plot_radar_velocity_visible.py:            cbar.ax.set_yticklabels(bounds2,fontname='Times New Roman',fontsize=16)\n",
      "/home/ctroupin/Projects/SOCIB_plots/HFradar/plot_radar_velocity_visible.py:            cbar.set_cmap(plt.cm.spectral)\n",
      "/home/ctroupin/Projects/SOCIB_plots/HFradar/plot_radar_velocity_visible.py:            cbar.set_norm(norm2)\n",
      "grep: /home/ctroupin/Projects/divand-WPS/divand.py: Is a directory\n",
      "/home/ctroupin/Projects/Altimetry-Interpolation/python/divaaltimetry.py:        cbar = plt.colorbar(pcm, shrink=.5, extend='both')\n",
      "/home/ctroupin/Projects/Altimetry-Interpolation/python/divaaltimetry.py:        cbar.set_label(\"m\", fontsize=12, rotation=0)\n",
      "/home/ctroupin/Projects/Altimetry-Interpolation/python/divaaltimetry.py:            cbar_ax = fig.add_axes([0.875, 0.15, 0.05, 0.7])\n",
      "/home/ctroupin/Projects/Altimetry-Interpolation/python/divaaltimetry.py:            plt.colorbar(pcm, cax=cbar_ax, extend=\"both\")\n",
      "/home/ctroupin/Projects/Altimetry-Interpolation/python/divaaltimetry.py:    cbar = plt.colorbar(shrink=.5, extend='both')\n",
      "/home/ctroupin/Projects/Altimetry-Interpolation/python/divaaltimetry.py:    cbar.set_label(\"m\", fontsize=12, rotation=0)\n"
     ]
    },
    {
     "ename": "",
     "evalue": "1",
     "output_type": "error",
     "traceback": []
    }
   ],
   "source": [
    "find /home/ctroupin/Projects -name '*.py' -exec grep -i 'cbar.' {} +"
   ]
  },
  {
   "cell_type": "markdown",
   "metadata": {},
   "source": [
    "## Find most recent file by extension"
   ]
  },
  {
   "cell_type": "code",
   "execution_count": null,
   "metadata": {
    "collapsed": true
   },
   "outputs": [],
   "source": [
    "find . -name '*' -printf \"%T+\\t%p\\n\" | sort -r | head -5"
   ]
  },
  {
   "cell_type": "markdown",
   "metadata": {
    "collapsed": true
   },
   "source": [
    "## Files not containing given string"
   ]
  },
  {
   "cell_type": "code",
   "execution_count": null,
   "metadata": {
    "collapsed": true
   },
   "outputs": [],
   "source": [
    "grep -L \"foo\" *html"
   ]
  },
  {
   "cell_type": "markdown",
   "metadata": {},
   "source": [
    "## Files bigger than..."
   ]
  },
  {
   "cell_type": "code",
   "execution_count": null,
   "metadata": {
    "collapsed": true
   },
   "outputs": [],
   "source": [
    "find /home/ctroupin -type f -size +100M -exec ls -sh {} \\;"
   ]
  },
  {
   "cell_type": "markdown",
   "metadata": {
    "collapsed": true
   },
   "source": [
    "## ODV spreadsheet processing\n",
    "Specific commands to process the Ocean Data View spreadsheets."
   ]
  },
  {
   "cell_type": "markdown",
   "metadata": {},
   "source": [
    "### Remove lines starting with a \"/\""
   ]
  },
  {
   "cell_type": "code",
   "execution_count": null,
   "metadata": {
    "collapsed": true
   },
   "outputs": [],
   "source": [
    "sed -i '/^\\/\\//d' filename"
   ]
  },
  {
   "cell_type": "markdown",
   "metadata": {},
   "source": [
    "### Remove lines with number of columns lower than ..."
   ]
  },
  {
   "cell_type": "code",
   "execution_count": null,
   "metadata": {
    "collapsed": true
   },
   "outputs": [],
   "source": [
    "awk 'NF>=12' filename"
   ]
  },
  {
   "cell_type": "markdown",
   "metadata": {},
   "source": [
    "### Print columns, given field separator"
   ]
  },
  {
   "cell_type": "code",
   "execution_count": null,
   "metadata": {
    "collapsed": true
   },
   "outputs": [],
   "source": [
    "awk 'BEGIN { FS=\"\\t\" } { print $5, $6 }' filename"
   ]
  },
  {
   "cell_type": "markdown",
   "metadata": {},
   "source": [
    "### Remove duplicate lines"
   ]
  },
  {
   "cell_type": "code",
   "execution_count": null,
   "metadata": {
    "collapsed": true
   },
   "outputs": [],
   "source": [
    "awk '!a[$0]++' filename"
   ]
  },
  {
   "cell_type": "markdown",
   "metadata": {},
   "source": [
    "## PDF processing\n",
    "Use [pdftk](https://www.pdflabs.com/docs/pdftk-cli-examples/)"
   ]
  },
  {
   "cell_type": "code",
   "execution_count": null,
   "metadata": {
    "collapsed": true
   },
   "outputs": [],
   "source": [
    "pdftk input.pdf cat 14 output output.pdf"
   ]
  },
  {
   "cell_type": "markdown",
   "metadata": {},
   "source": [
    "# Images \n",
    "## From svg to png\n",
    "Use [inkscape](https://inkscape.org/en/)"
   ]
  },
  {
   "cell_type": "code",
   "execution_count": null,
   "metadata": {
    "collapsed": true
   },
   "outputs": [],
   "source": [
    "inkscape -z input.svg -e output.png"
   ]
  },
  {
   "cell_type": "markdown",
   "metadata": {},
   "source": [
    "## svg to pdf"
   ]
  },
  {
   "cell_type": "code",
   "execution_count": null,
   "metadata": {
    "collapsed": true
   },
   "outputs": [],
   "source": [
    "inkscape --file=mySVGinputFile.svg --export-area-drawing --without-gui --export-pdf=output.pdf"
   ]
  },
  {
   "cell_type": "markdown",
   "metadata": {},
   "source": [
    "## From pdf to jpg"
   ]
  },
  {
   "cell_type": "code",
   "execution_count": null,
   "metadata": {
    "collapsed": true
   },
   "outputs": [],
   "source": [
    "convert -colorspace RGB -interlace none -density 300x300 -quality 100 in.pdf out.jpg"
   ]
  },
  {
   "cell_type": "markdown",
   "metadata": {},
   "source": [
    "## Montage"
   ]
  },
  {
   "cell_type": "code",
   "execution_count": null,
   "metadata": {
    "collapsed": true
   },
   "outputs": [],
   "source": [
    "montage -tile 2x2 -geometry 1900x2600+5+5  *jpg out2.JPG "
   ]
  },
  {
   "cell_type": "markdown",
   "metadata": {},
   "source": [
    "## Mosaic\n",
    "Use `metapixel` tool.\n",
    "1. Prepare the tiles: indicate directory storing the images, the ouput directory and optionaly the size of the tiles.\n",
    "2. Apply the tool by indicating the *background image* and optionaly the scale factor."
   ]
  },
  {
   "cell_type": "code",
   "execution_count": null,
   "metadata": {
    "collapsed": true
   },
   "outputs": [],
   "source": [
    "metapixel-prepare -r ../CLQ49/ 7-Mosaic/ --width 128 --height 85\n",
    "metapixel --library 7-Mosaic/ --metapixel ./colloquium_logo3.png --scale 4 5.jpg"
   ]
  },
  {
   "cell_type": "markdown",
   "metadata": {},
   "source": [
    "# Movies\n",
    "## MP4 from image sequence"
   ]
  },
  {
   "cell_type": "code",
   "execution_count": null,
   "metadata": {
    "collapsed": true
   },
   "outputs": [],
   "source": [
    "ffmpeg -framerate 12 -i img_%06d.JPG -c:v libx264 -crf 20 output1.mp4"
   ]
  },
  {
   "cell_type": "markdown",
   "metadata": {},
   "source": [
    "## Merge two (or more) video files"
   ]
  },
  {
   "cell_type": "code",
   "execution_count": null,
   "metadata": {
    "collapsed": true
   },
   "outputs": [],
   "source": [
    "mkvmerge -o 12.mp4 output1.mp4 \\+ output2.mp4"
   ]
  },
  {
   "cell_type": "markdown",
   "metadata": {},
   "source": [
    "# O.S. information"
   ]
  },
  {
   "cell_type": "markdown",
   "metadata": {},
   "source": [
    "Get kernel version"
   ]
  },
  {
   "cell_type": "code",
   "execution_count": 1,
   "metadata": {},
   "outputs": [
    {
     "name": "stdout",
     "output_type": "stream",
     "text": [
      "Release:\t16.04\n"
     ]
    }
   ],
   "source": [
    "lsb_release -r"
   ]
  },
  {
   "cell_type": "code",
   "execution_count": 4,
   "metadata": {},
   "outputs": [
    {
     "name": "stdout",
     "output_type": "stream",
     "text": [
      "#44~16.04.1-Ubuntu SMP Thu Apr 5 16:43:10 UTC 2018\n"
     ]
    }
   ],
   "source": [
    "uname -v"
   ]
  },
  {
   "cell_type": "markdown",
   "metadata": {
    "collapsed": true
   },
   "source": [
    "# File transfer\n",
    "## Secure Copy (scp)\n",
    "Escape white spaces in file path (https://stackoverflow.com/questions/19858176/how-to-escape-spaces-in-path-during-scp-copy-in-linux)"
   ]
  },
  {
   "cell_type": "code",
   "execution_count": null,
   "metadata": {
    "collapsed": true
   },
   "outputs": [],
   "source": [
    "scp foo@bar:\"\\\"apath/with spaces in it/\\\"\""
   ]
  },
  {
   "cell_type": "markdown",
   "metadata": {},
   "source": [
    "# GPS file conversion\n",
    "Use tool [gpsbabel](https://www.gpsbabel.org)"
   ]
  },
  {
   "cell_type": "code",
   "execution_count": null,
   "metadata": {
    "collapsed": true
   },
   "outputs": [],
   "source": [
    "gpsbabel -i tcx -f filein.tcx -o gpx -F fileout.gpx"
   ]
  }
 ],
 "metadata": {
  "kernelspec": {
   "display_name": "Bash",
   "language": "bash",
   "name": "bash"
  },
  "language_info": {
   "codemirror_mode": "shell",
   "file_extension": ".sh",
   "mimetype": "text/x-sh",
   "name": "bash"
  }
 },
 "nbformat": 4,
 "nbformat_minor": 2
}
