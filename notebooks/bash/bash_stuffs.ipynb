{
 "cells": [
  {
   "cell_type": "markdown",
   "metadata": {},
   "source": [
    "Some useful commands in bash that I never manage to remember\n",
    "# Strings\n",
    "## Remove file extension"
   ]
  },
  {
   "cell_type": "code",
   "execution_count": 2,
   "metadata": {},
   "outputs": [
    {
     "name": "stdout",
     "output_type": "stream",
     "text": [
      "Angleur_SartTilman_2017_06_28_07_23_49_Running_noextensions\n"
     ]
    }
   ],
   "source": [
    "a=\"Angleur_SartTilman_2017_06_28_07_23_49_Running_noextensions.gpx\"\n",
    "echo $(basename $a .gpx)"
   ]
  },
  {
   "cell_type": "markdown",
   "metadata": {},
   "source": [
    "or like this:"
   ]
  },
  {
   "cell_type": "code",
   "execution_count": 3,
   "metadata": {},
   "outputs": [
    {
     "name": "stdout",
     "output_type": "stream",
     "text": [
      "Angleur_SartTilman_2017_06_28_07_23_49_Running_noextensions\n"
     ]
    }
   ],
   "source": [
    "y=${a%.*}\n",
    "echo $y"
   ]
  },
  {
   "cell_type": "markdown",
   "metadata": {},
   "source": [
    "## Concatenation"
   ]
  },
  {
   "cell_type": "code",
   "execution_count": 4,
   "metadata": {},
   "outputs": [
    {
     "name": "stdout",
     "output_type": "stream",
     "text": [
      "goodnight\n"
     ]
    }
   ],
   "source": [
    "a='good'\n",
    "b='night'\n",
    "a+=$b\n",
    "echo $a"
   ]
  },
  {
   "cell_type": "markdown",
   "metadata": {},
   "source": [
    "## Change name"
   ]
  },
  {
   "cell_type": "code",
   "execution_count": 12,
   "metadata": {},
   "outputs": [
    {
     "name": "stdout",
     "output_type": "stream",
     "text": [
      "Before:\n",
      "OldFileName2018.dat\n",
      "After:\n",
      "NewFileName2018.dat\n"
     ]
    }
   ],
   "source": [
    "touch OldFileName2018.dat\n",
    "echo \"Before:\"\n",
    "ls *dat\n",
    "rename 's/OldFileName/NewFileName/g' *dat\n",
    "echo \"After:\"\n",
    "ls *dat\n",
    "rm NewFileName2018.dat"
   ]
  },
  {
   "cell_type": "markdown",
   "metadata": {},
   "source": [
    "# File processing\n",
    "## Create a temporaty file"
   ]
  },
  {
   "cell_type": "code",
   "execution_count": 13,
   "metadata": {},
   "outputs": [
    {
     "name": "stdout",
     "output_type": "stream",
     "text": [
      "/tmp/tmp.pNxr7og8jk\n"
     ]
    }
   ],
   "source": [
    "mktemp"
   ]
  },
  {
   "cell_type": "markdown",
   "metadata": {},
   "source": [
    "## Remove lines containing pattern"
   ]
  },
  {
   "cell_type": "code",
   "execution_count": null,
   "metadata": {
    "collapsed": true
   },
   "outputs": [],
   "source": [
    "mytmpfile=$(mktemp)\n",
    "echo \"This is the 1st line\" > ${mytmpfile}\n",
    "echo \"And this is a 2nd line\" >> ${mytmpfile}\n",
    "cat ${mytmpfile}\n",
    "echo \" \"\n",
    "sed -i '/2nd/d' ${mytmpfile}\n",
    "cat ${mytmpfile}"
   ]
  },
  {
   "cell_type": "markdown",
   "metadata": {
    "collapsed": true
   },
   "source": [
    "# List files\n",
    "## Find files containing a given string"
   ]
  },
  {
   "cell_type": "code",
   "execution_count": null,
   "metadata": {
    "collapsed": true
   },
   "outputs": [],
   "source": [
    "find /home/ctroupin/ -name '*' -type f -exec grep -i 'product_id,old_product_id' {} +"
   ]
  },
  {
   "cell_type": "code",
   "execution_count": null,
   "metadata": {},
   "outputs": [
    {
     "name": "stdout",
     "output_type": "stream",
     "text": [
      "find: ‘/home/ctroupin/.cache/dconf’: Permission denied\n",
      "find: ‘/home/ctroupin/.dbus’: Permission denied\n",
      "/home/ctroupin/Projects/Diva-Workshops/notebooks/5-AdvancedTopics/.ipynb_checkpoints/Heatmaps-checkpoint.ipynb:    \"    joinpath(figdir, \\\"heatmap01.png\\\")) \"\n",
      "/home/ctroupin/Projects/Diva-Workshops/notebooks/5-AdvancedTopics/Heatmaps.ipynb:    \"    joinpath(figdir, \\\"heatmap01.png\\\")) \"\n"
     ]
    }
   ],
   "source": [
    "find /home/ctroupin/ -name '*.ipynb' -exec grep -i 'heatmap01' {} +"
   ]
  },
  {
   "cell_type": "code",
   "execution_count": 4,
   "metadata": {},
   "outputs": [
    {
     "name": "stdout",
     "output_type": "stream",
     "text": [
      "/home/ctroupin/Projects/Diva_python_tools/diva_plot_results.py:cbar = fig.colorbar(contour, cmap=cmap, orientation='horizontal', fraction=0.1, pad=0.02)\n",
      "/home/ctroupin/Projects/Diva_python_tools/diva_plot_results.py:cbar.set_label(unitname, fontsize=18)\n",
      "/home/ctroupin/Projects/Diva_python_tools/diva_plot_results.py:cbar.set_ticks(newticks)\n",
      "/home/ctroupin/Projects/Diva_python_tools/diva_plot_data.py:cbar = fig.colorbar(scat, cmap=cmap, orientation='horizontal', fraction=0.1, pad=0.02)\n",
      "/home/ctroupin/Projects/Diva_python_tools/diva_plot_data.py:cbar.set_label(unitname, fontsize=18, fontname='Times New Roman')\n",
      "/home/ctroupin/Projects/Diva-EMODnetPhysics/divaemodnet.py:        cbar = plt.colorbar(scat, shrink=.4, extend='both')\n",
      "/home/ctroupin/Projects/Diva-EMODnetPhysics/divaemodnet.py:        cbar.ax.tick_params(labelsize=14)\n",
      "/home/ctroupin/Projects/20150714_CMEMS/Communication2015Q2/interp_climato_obs2_WOA_loop.py:                cbar = plt.colorbar(scat, orientation='horizontal', pad=mypad, aspect=20, extend='both', ax=ax)\n",
      "/home/ctroupin/Projects/20150714_CMEMS/Communication2015Q2/interp_climato_obs2_WOA_loop.py:                cbar.set_label('$^{\\circ}$C')\n",
      "/home/ctroupin/Projects/20150714_CMEMS/Communication2015Q2/interp_climato_obs2_WOA_loop.py:                cbar = plt.colorbar(scat, orientation='horizontal', pad=mypad, aspect=myaspect, extend='both', ax=ax)\n",
      "/home/ctroupin/Projects/20150714_CMEMS/Communication2015Q2/interp_climato_obs2_WOA_loop.py:                cbar.set_label('$^{\\circ}$C')\n",
      "/home/ctroupin/Projects/20150714_CMEMS/Communication2015Q2/interp_climato_obs2_WOA_loop.py:                cbar = plt.colorbar(scat, orientation='horizontal', pad=mypad, boundaries=boundsanom, aspect=myaspect, extend='both', ax=ax)\n",
      "/home/ctroupin/Projects/20150714_CMEMS/Communication2015Q2/interp_climato_obs2_WOA_loop.py:                cbar.set_label('Temperature anomaly ($^{\\circ}$C) with respect to climatology')\n",
      "/home/ctroupin/Projects/20150714_CMEMS/Communication2015Q2/interp_climato_obs2_WOA_loop.py:                cbar.set_ticks(boundsanom)\n",
      "/home/ctroupin/Projects/20150714_CMEMS/Communication2015Q2/animation_drifter_alborex_visible.py:cbar = fig.colorbar(p1, cmap=cmapsst, norm=normsst, orientation='vertical', pad=0.025, aspect=15, shrink=0.75,\n",
      "/home/ctroupin/Projects/20150714_CMEMS/Communication2015Q2/animation_drifter_alborex_visible.py:cbar.set_ticks(boundsst)\n",
      "/home/ctroupin/Projects/20150714_CMEMS/Communication2015Q2/animation_drifter_alborex_visible.py:cbar.set_label(r'$^{\\circ}$C', fontsize=16, rotation=0, ha='left')\n",
      "/home/ctroupin/Projects/20150714_CMEMS/Communication2015Q2/interp_climato_obs2_WOA.py:    cbar = plt.colorbar(scat, orientation='horizontal', pad=mypad, aspect=20, extend='both', ax=ax)\n",
      "/home/ctroupin/Projects/20150714_CMEMS/Communication2015Q2/interp_climato_obs2_WOA.py:    cbar.set_label('$^{\\circ}$C')\n",
      "/home/ctroupin/Projects/20150714_CMEMS/Communication2015Q2/interp_climato_obs2_WOA.py:    cbar = plt.colorbar(scat, orientation='horizontal', pad=mypad, aspect=myaspect, extend='both', ax=ax)\n",
      "/home/ctroupin/Projects/20150714_CMEMS/Communication2015Q2/interp_climato_obs2_WOA.py:    cbar.set_label('$^{\\circ}$C')\n",
      "/home/ctroupin/Projects/20150714_CMEMS/Communication2015Q2/interp_climato_obs2_WOA.py:    cbar = plt.colorbar(scat, orientation='horizontal', pad=mypad, aspect=myaspect, extend='both', ax=ax)\n",
      "/home/ctroupin/Projects/20150714_CMEMS/Communication2015Q2/interp_climato_obs2_WOA.py:    cbar.set_label('$^{\\circ}$C')\n",
      "/home/ctroupin/Projects/20150714_CMEMS/Communication2015Q2/interp_climato_obs2_WOA.py:    cbar.set_ticks(boundsanom)\n",
      "/home/ctroupin/Projects/20150714_CMEMS/Communication2015Q2/interp_climato_obs2.py:    cbar = plt.colorbar(scat, orientation='horizontal', pad=mypad, aspect=20, extend='both', ax=ax)\n",
      "/home/ctroupin/Projects/20150714_CMEMS/Communication2015Q2/interp_climato_obs2.py:    cbar.set_label('$^{\\circ}$C')\n",
      "/home/ctroupin/Projects/20150714_CMEMS/Communication2015Q2/interp_climato_obs2.py:    cbar = plt.colorbar(scat, orientation='horizontal', pad=mypad, aspect=myaspect, extend='both', ax=ax)\n",
      "/home/ctroupin/Projects/20150714_CMEMS/Communication2015Q2/interp_climato_obs2.py:    cbar.set_label('$^{\\circ}$C')\n",
      "/home/ctroupin/Projects/20150714_CMEMS/Communication2015Q2/interp_climato_obs2.py:    cbar = plt.colorbar(scat, orientation='horizontal', pad=mypad, aspect=myaspect, extend='both', ax=ax)\n",
      "/home/ctroupin/Projects/20150714_CMEMS/Communication2015Q2/interp_climato_obs2.py:    cbar.set_label('$^{\\circ}$C')\n",
      "/home/ctroupin/Projects/20150714_CMEMS/Communication2015Q2/interp_climato_obs2.py:    cbar.set_ticks(boundsanom)\n",
      "/home/ctroupin/Projects/20150714_CMEMS/Communication2015Q2/test_discrete_colorbar.py:ax2.set_ylabel('Very custom cbar [-]', size=12)\n",
      "/home/ctroupin/Projects/20150714_CMEMS/Communication2015Q2/animation_drifter_eddy_visible.py:cbar = fig.colorbar(p1, cmap=cmapsst, norm=normsst, orientation='vertical', pad=0.025, aspect=15, shrink=0.75,\n",
      "/home/ctroupin/Projects/20150714_CMEMS/Communication2015Q2/animation_drifter_eddy_visible.py:cbar.set_ticks(boundsst)\n",
      "/home/ctroupin/Projects/20150714_CMEMS/Communication2015Q2/animation_drifter_eddy_visible.py:cbar.set_label(r'$^{\\circ}$C', fontsize=16, rotation=0, ha='left')\n",
      "/home/ctroupin/Projects/20150714_CMEMS/Communication2015Q2/plot_sst_modis_daily.py:    cbar = plt.colorbar(scat, extend='both', shrink=0.7)\n",
      "/home/ctroupin/Projects/20150714_CMEMS/Communication2015Q2/plot_sst_modis_daily.py:    cbar.set_label('$^{\\circ}$C', rotation=0, horizontalalignment='left')\n",
      "/home/ctroupin/Projects/20150714_CMEMS/Communication2015Q2/plot_sst_modis_daily.py:    cbar.set_ticks(bounds)\n",
      "/home/ctroupin/Projects/20150714_CMEMS/Communication2015Q2/animation_drifter_eddy.py:    cbar = fig.colorbar(p1, cmap=cmapsst, norm=normsst, orientation='vertical', pad=0.025, aspect=15, shrink=0.99,\n",
      "/home/ctroupin/Projects/20150714_CMEMS/Communication2015Q2/animation_drifter_eddy.py:    cbar.set_ticks(boundsst)\n",
      "/home/ctroupin/Projects/20150714_CMEMS/Communication2015Q2/animation_drifter_eddy.py:    cbar.set_label(r'$^{\\circ}$C', fontsize=16, rotation=0, ha='left')\n",
      "/home/ctroupin/Projects/20150714_CMEMS/Communication2015Q2/animation_drifter_alborex_visible2.py:cbar = fig.colorbar(p1, cmap=cmapsst, norm=normsst, orientation='vertical', pad=0.025, aspect=15, shrink=0.75,\n",
      "/home/ctroupin/Projects/20150714_CMEMS/Communication2015Q2/animation_drifter_alborex_visible2.py:cbar.set_ticks(boundsst)\n",
      "/home/ctroupin/Projects/20150714_CMEMS/Communication2015Q2/animation_drifter_alborex_visible2.py:cbar.set_label(r'$^{\\circ}$C', fontsize=16, rotation=0, ha='left')\n",
      "/home/ctroupin/Projects/20150714_CMEMS/Communication2015Q2/animation_drifter.py:    cbar = fig.colorbar(p1, cmap=cmapsst, norm=normsst, orientation='vertical', pad=0.025, aspect=15, shrink=0.95,\n",
      "/home/ctroupin/Projects/20150714_CMEMS/Communication2015Q2/animation_drifter.py:    cbar.set_ticks(boundsst)\n",
      "/home/ctroupin/Projects/20150714_CMEMS/Communication2015Q2/animation_drifter.py:    cbar.set_label(r'$^{\\circ}$C', fontsize=16, rotation=0, ha='left')\n",
      "/home/ctroupin/Projects/20150714_CMEMS/Communication2015Q2/animation_drifter.py:    fig, ax, m, cbar = prepare_plot()\n",
      "/home/ctroupin/Projects/20150714_CMEMS/plot_drifter_global_interp.py:cbar = plt.colorbar(scat, cmap=cmapsst, norm=normsst, extend='both', shrink=0.7)\n",
      "/home/ctroupin/Projects/20150714_CMEMS/plot_drifter_global_interp.py:cbar.set_label('$^{\\circ}$C', rotation=0, ha='left')\n",
      "/home/ctroupin/Projects/20150714_CMEMS/plot_drifter_global_bin.py:    cbar = plt.colorbar(pcm, cmap=cmapsst, norm=normsst, extend='both', shrink=0.7)\n",
      "/home/ctroupin/Projects/20150714_CMEMS/plot_drifter_global_bin.py:    cbar.set_label('$^{\\circ}$C', rotation=0, ha='left')\n",
      "/home/ctroupin/Projects/20150714_CMEMS/plot_drifter_global.py:    cbar = plt.colorbar(scat, cmap=cmapsst, norm=normsst, extend='both', shrink=0.7)\n",
      "/home/ctroupin/Projects/20150714_CMEMS/plot_drifter_global.py:    cbar.set_label('$^{\\circ}$C', rotation=0, ha='left')\n",
      "/home/ctroupin/Projects/SOCIB_plots/Satellite/plot_wind_metopa.py:                    cbar=fig.colorbar(Q,cmap=cmap,orientation='vertical',\n",
      "/home/ctroupin/Projects/SOCIB_plots/Satellite/plot_wind_metopa.py:                    cbar.set_label(r'$ms^{-1}$',fontname='Times New Roman',fontsize=18)\n"
     ]
    },
    {
     "name": "stdout",
     "output_type": "stream",
     "text": [
      "/home/ctroupin/Projects/SOCIB_plots/Satellite/plot_wind_metopa.py:                    cbar.set_ticks(bounds)\n",
      "/home/ctroupin/Projects/SOCIB_plots/Satellite/plot_wind_metopa.py:                    cbar.ax.set_yticklabels(bounds,fontname='Times New Roman',fontsize=16)\n",
      "/home/ctroupin/Projects/SOCIB_plots/Satellite/plot_wind_metopa.py:    ##        cbar=fig.colorbar(contour2,cmap=cmap2,orientation='vertical',pad=0.025,aspect=15)\n",
      "/home/ctroupin/Projects/SOCIB_plots/Satellite/plot_wind_metopa.py:    ##        cbar.set_label(r'$\\xi/f$',fontname='Times New Roman',fontsize=18)\n",
      "/home/ctroupin/Projects/SOCIB_plots/Satellite/plot_wind_metopa.py:    ##        cbar.set_ticks(bounds2)\n",
      "/home/ctroupin/Projects/SOCIB_plots/Satellite/plot_wind_metopa.py:    ##        cbar.ax.set_yticklabels(bounds2,fontname='Times New Roman',fontsize=16)\n",
      "/home/ctroupin/Projects/SOCIB_plots/Satellite/plot_chlorophyll_myocean.py:        cbar=fig.colorbar(contour,cmap=cmap,orientation='vertical',\n",
      "/home/ctroupin/Projects/SOCIB_plots/Satellite/plot_chlorophyll_myocean.py:        cbar.set_label(r'$mg\\,m^{-3}$',fontname='Times New Roman',fontsize=18)\n",
      "/home/ctroupin/Projects/SOCIB_plots/Satellite/plot_chlorophyll_myocean.py:        cbar.set_ticks(bounds)\n",
      "/home/ctroupin/Projects/SOCIB_plots/Satellite/plot_chlorophyll_myocean.py:        cbar.ax.set_yticklabels(bounds,fontname='Times New Roman',fontsize=16)\n",
      "/home/ctroupin/Projects/SOCIB_plots/Satellite/plot_SSS_global.py:    cbar=fig.colorbar(pcm,cmap=cmap,orientation='horizontal',fraction=0.1,pad=0.02)\n",
      "/home/ctroupin/Projects/SOCIB_plots/Satellite/plot_wind_metopb.py:                    cbar=fig.colorbar(Q,cmap=cmap,orientation='vertical',\n",
      "/home/ctroupin/Projects/SOCIB_plots/Satellite/plot_wind_metopb.py:                    cbar.set_label(r'$ms^{-1}$',fontname='Times New Roman',fontsize=18)\n",
      "/home/ctroupin/Projects/SOCIB_plots/Satellite/plot_wind_metopb.py:                    cbar.set_ticks(bounds)\n",
      "/home/ctroupin/Projects/SOCIB_plots/Satellite/plot_wind_metopb.py:                    cbar.ax.set_yticklabels(bounds,fontname='Times New Roman',fontsize=16)\n",
      "/home/ctroupin/Projects/SOCIB_plots/Satellite/plot_wind_metopb.py:    ##        cbar=fig.colorbar(contour2,cmap=cmap2,orientation='vertical',pad=0.025,aspect=15)\n",
      "/home/ctroupin/Projects/SOCIB_plots/Satellite/plot_wind_metopb.py:    ##        cbar.set_label(r'$\\xi/f$',fontname='Times New Roman',fontsize=18)\n",
      "/home/ctroupin/Projects/SOCIB_plots/Satellite/plot_wind_metopb.py:    ##        cbar.set_ticks(bounds2)\n",
      "/home/ctroupin/Projects/SOCIB_plots/Satellite/plot_wind_metopb.py:    ##        cbar.ax.set_yticklabels(bounds2,fontname='Times New Roman',fontsize=16)\n",
      "/home/ctroupin/Projects/SOCIB_plots/Satellite/plot_chlorophyll_hdf.py:##                cbar=fig.colorbar(Q,cmap=cmap,orientation='vertical',\n",
      "/home/ctroupin/Projects/SOCIB_plots/Satellite/plot_chlorophyll_hdf.py:##                cbar.set_label(r'$ms^{-1}$',fontname='Times New Roman',fontsize=18)\n",
      "/home/ctroupin/Projects/SOCIB_plots/Satellite/plot_chlorophyll_hdf.py:##                cbar.set_ticks(bounds)\n",
      "/home/ctroupin/Projects/SOCIB_plots/Satellite/plot_chlorophyll_hdf.py:##                cbar.ax.set_yticklabels(bounds,fontname='Times New Roman',fontsize=16)\n",
      "/home/ctroupin/Projects/SOCIB_plots/Satellite/plot_wind_oceansat.py:                    cbar=fig.colorbar(Q,cmap=cmap,orientation='vertical',\n",
      "/home/ctroupin/Projects/SOCIB_plots/Satellite/plot_wind_oceansat.py:                    cbar.set_label(r'$ms^{-1}$',fontname='Times New Roman',fontsize=18)\n",
      "/home/ctroupin/Projects/SOCIB_plots/Satellite/plot_wind_oceansat.py:                    cbar.set_ticks(bounds)\n",
      "/home/ctroupin/Projects/SOCIB_plots/Satellite/plot_wind_oceansat.py:                    cbar.ax.set_yticklabels(bounds,fontname='Times New Roman',fontsize=16)\n",
      "/home/ctroupin/Projects/SOCIB_plots/Satellite/plot_wind_oceansat.py:    ##        cbar=fig.colorbar(contour2,cmap=cmap2,orientation='vertical',pad=0.025,aspect=15)\n",
      "/home/ctroupin/Projects/SOCIB_plots/Satellite/plot_wind_oceansat.py:    ##        cbar.set_label(r'$\\xi/f$',fontname='Times New Roman',fontsize=18)\n",
      "/home/ctroupin/Projects/SOCIB_plots/Satellite/plot_wind_oceansat.py:    ##        cbar.set_ticks(bounds2)\n",
      "/home/ctroupin/Projects/SOCIB_plots/Satellite/plot_wind_oceansat.py:    ##        cbar.ax.set_yticklabels(bounds2,fontname='Times New Roman',fontsize=16)\n",
      "/home/ctroupin/Projects/SOCIB_plots/Satellite/plot_chloroL2_Papagayo.py:    cbar = fig.colorbar(sstpcm, cmap=cmapchloro, norm=normchloro, orientation='vertical', pad=0.025,\n",
      "/home/ctroupin/Projects/SOCIB_plots/Satellite/plot_chloroL2_Papagayo.py:    cbar.set_ticks(newticks)\n",
      "/home/ctroupin/Projects/SOCIB_plots/Satellite/plot_wind_vectores_metop.py:                cbar=fig.colorbar(Q,cmap=cmap,orientation='vertical',\n",
      "/home/ctroupin/Projects/SOCIB_plots/Satellite/plot_wind_vectores_metop.py:                cbar.set_label(r'$ms^{-1}$',fontname='Times New Roman',fontsize=18)\n",
      "/home/ctroupin/Projects/SOCIB_plots/Satellite/plot_wind_vectores_metop.py:                cbar.set_ticks(bounds)\n",
      "/home/ctroupin/Projects/SOCIB_plots/Satellite/plot_wind_vectores_metop.py:                cbar.ax.set_yticklabels(bounds,fontname='Times New Roman',fontsize=16)\n",
      "/home/ctroupin/Projects/SOCIB_plots/Satellite/wind_plot_functions.py:    cbar = fig.colorbar(Q, cmap=cmap, orientation='vertical',\n",
      "/home/ctroupin/Projects/SOCIB_plots/Satellite/wind_plot_functions.py:    cbar.set_ticks(bounds)\n",
      "/home/ctroupin/Projects/SOCIB_plots/Satellite/wind_plot_functions.py:    cbar.ax.set_yticklabels(bounds, fontsize=16)\n",
      "/home/ctroupin/Projects/SOCIB_plots/Satellite/wind_plot_functions.py:    cbar = fig.colorbar(Q, cmap=cmapvort, orientation='vertical',\n",
      "/home/ctroupin/Projects/SOCIB_plots/Satellite/wind_plot_functions.py:    cbar.set_ticks(bounds)\n",
      "/home/ctroupin/Projects/SOCIB_plots/Satellite/wind_plot_functions.py:    cbar.ax.set_yticklabels(bounds, fontsize=16)\n",
      "/home/ctroupin/Projects/SOCIB_plots/Satellite/wind_plot_functions.py:    cbar=fig.colorbar(Q,cmap=cmap, orientation='vertical',\n",
      "/home/ctroupin/Projects/SOCIB_plots/Satellite/wind_plot_functions.py:    cbar.set_ticks(bounds)\n",
      "/home/ctroupin/Projects/SOCIB_plots/Satellite/wind_plot_functions.py:    cbar.ax.set_yticklabels(bounds,fontsize=16)\n",
      "/home/ctroupin/Projects/SOCIB_plots/Satellite/plot_L2wind_medsea.py:    cbar=fig.colorbar(pcm)\n",
      "/home/ctroupin/Projects/SOCIB_plots/Satellite/plot_L2wind_medsea.py:    cbar.drawedges\n",
      "/home/ctroupin/Projects/SOCIB_plots/Satellite/plot_chloro_L2_centralAmerica.py:cbar=fig.colorbar(chloropcm,cmap=cmapchloro,norm=normchloro,orientation='vertical',pad=0.025,aspect=15,shrink=1,extend='both')\n",
      "/home/ctroupin/Projects/SOCIB_plots/Satellite/plot_chloro_L2_centralAmerica.py:cbar.set_ticks(newticks)\n",
      "/home/ctroupin/Projects/SOCIB_plots/Satellite/plot_chloro_L2_centralAmerica.py:#cbar.set_ticklabels(newlabels)\n",
      "/home/ctroupin/Projects/SOCIB_plots/Modelling/plot_salinity_eddy201508.py:cbar = plt.colorbar(pcm, norm=norm, cmap=cmap, orientation='vertical', pad=0.05, aspect=15,\n",
      "/home/ctroupin/Projects/SOCIB_plots/Modelling/plot_salinity_eddy201508.py:cbar.set_ticks(bounds)\n",
      "/home/ctroupin/Projects/SOCIB_plots/Modelling/plot_salinity_model.py:# cbar = plt.colorbar(pcm, norm=norm, cmap=cmap, orientation='vertical', pad=0.05, aspect=15,\n",
      "/home/ctroupin/Projects/SOCIB_plots/Modelling/plot_salinity_model.py:# cbar.set_ticks(bounds)\n",
      "/home/ctroupin/Projects/SOCIB_plots/Missions/MedGib/load_data_drifters.py:        cbar = fig.colorbar(sstscat, cmap=cmapsst, norm=normsst,\n",
      "/home/ctroupin/Projects/SOCIB_plots/Missions/MedGib/load_data_drifters.py:        cbar.set_ticks(boundsst)\n",
      "/home/ctroupin/Projects/SOCIB_plots/Missions/MedGib/load_data_drifters.py:        cbar.set_label(r'$^{\\circ}$C', fontsize=16, rotation=0)\n",
      "/home/ctroupin/Projects/SOCIB_plots/Missions/MedGib/load_data_drifters.py:    cbar = fig.colorbar(sstscat, cmap=cmapsst, norm=normsst, orientation='horizontal', pad=0.025, aspect=20, shrink=1,\n",
      "/home/ctroupin/Projects/SOCIB_plots/Missions/MedGib/load_data_drifters.py:    cbar.set_ticks(boundsst)\n",
      "/home/ctroupin/Projects/SOCIB_plots/Missions/MedGib/load_data_drifters.py:    cbar.set_label(r'$^{\\circ}$C', fontsize=16, rotation=0)\n",
      "/home/ctroupin/Projects/SOCIB_plots/Missions/MedGib/load_data_drifters.py:    cbar = fig.colorbar(sstscat, cmap=cmapsst, norm=normsst, orientation='horizontal', pad=0.025, aspect=20, shrink=1,\n"
     ]
    },
    {
     "name": "stdout",
     "output_type": "stream",
     "text": [
      "/home/ctroupin/Projects/SOCIB_plots/Missions/MedGib/load_data_drifters.py:    cbar.set_ticks(boundsst)\n",
      "/home/ctroupin/Projects/SOCIB_plots/Missions/MedGib/load_data_drifters.py:    cbar.set_label(r'$^{\\circ}$C', fontsize=16, rotation=0)\n",
      "/home/ctroupin/Projects/SOCIB_plots/Missions/Caibex/plot_interpolated_depth_isotherm_nocolor.py:#cbar2=plt.colorbar(cont1,orientation='horizontal',pad=0.02,shrink=0.95,aspect=20)\n",
      "/home/ctroupin/Projects/SOCIB_plots/Missions/Caibex/plot_interpolated_depth_isotherm_nocolor.py:##cbar2=plt.colorbar(cont,orientation='horizontal',pad=0.02,shrink=0.95,aspect=20)\n",
      "/home/ctroupin/Projects/SOCIB_plots/Missions/Caibex/plot_interpolated_depth_isotherm_nocolor.py:##cbar2.set_label('(m)')\n",
      "/home/ctroupin/Projects/SOCIB_plots/Missions/Caibex/plot_quikscat_L2b12v3.py:                    cbar=fig.colorbar(Q,orientation='vertical',pad=0.025,aspect=15,norm=norm,extend='both')\n",
      "/home/ctroupin/Projects/SOCIB_plots/Missions/Caibex/plot_quikscat_L2b12v3.py:                    #cbar.set_label(r'$ms^{-1}$',fontname='Times New Roman',fontsize=18)\n",
      "/home/ctroupin/Projects/SOCIB_plots/Missions/Caibex/plot_quikscat_L2b12v3.py:                    cbar.set_ticks(bounds)\n",
      "/home/ctroupin/Projects/SOCIB_plots/Missions/Caibex/plot_quikscat_L2b12v3.py:                    cbar.ax.set_yticklabels(bounds,fontname='Times New Roman',fontsize=16)\n",
      "/home/ctroupin/Projects/SOCIB_plots/Missions/Caibex/plot_quikscat_L2b12v3.py:                    cbar=fig.colorbar(contour2,cmap=cmap2,orientation='vertical',pad=0.025,aspect=15)\n",
      "/home/ctroupin/Projects/SOCIB_plots/Missions/Caibex/plot_quikscat_L2b12v3.py:                    #cbar.set_label(r'$\\xi/f$',fontname='Times New Roman',fontsize=18)\n",
      "/home/ctroupin/Projects/SOCIB_plots/Missions/Caibex/plot_quikscat_L2b12v3.py:                    cbar.set_ticks(bounds2)\n",
      "/home/ctroupin/Projects/SOCIB_plots/Missions/Caibex/plot_quikscat_L2b12v3.py:                    cbar.ax.set_yticklabels(bounds2,fontname='Times New Roman',fontsize=16)\n",
      "/home/ctroupin/Projects/SOCIB_plots/Missions/Caibex/plot_sst_avhrr_wind_qscat_caibex.py:cbar=fig.colorbar(pcm,cmap=cmap1,orientation='vertical',fraction=0.1,pad=0.02)\n",
      "/home/ctroupin/Projects/SOCIB_plots/Missions/Caibex/plot_sst_avhrr_wind_qscat_caibex.py:cbar.set_ticks(newticks1)\n",
      "/home/ctroupin/Projects/SOCIB_plots/Missions/Caibex/plot_sst_avhrr_caibex.py:    cbar=fig.colorbar(pcm,cmap=cmap,orientation='vertical',fraction=0.1,pad=0.02)\n",
      "/home/ctroupin/Projects/SOCIB_plots/Missions/Caibex/plot_sst_avhrr_caibex.py:    cbar.set_ticks(newticks)\n",
      "/home/ctroupin/Projects/SOCIB_plots/Missions/Caibex/CapeGhir_plot_mean_ADT.py:cbar=fig.colorbar(contour,cmap=cmap,orientation='vertical',fraction=0.1,pad=0.02)\n",
      "/home/ctroupin/Projects/SOCIB_plots/Missions/Caibex/CapeGhir_plot_mean_ADT.py:cbar.set_label('(cm)',fontname='Times New Roman',fontsize=18)\n",
      "/home/ctroupin/Projects/SOCIB_plots/Missions/Caibex/CapeGhir_plot_mean_ADT.py:cbar.set_ticks(bounds2)\n",
      "/home/ctroupin/Projects/SOCIB_plots/Missions/Caibex/CapeGhir_plot_mean_ADT.py:cbar.ax.set_yticklabels(bounds2,fontname='Times New Roman',fontsize=16)\n",
      "/home/ctroupin/Projects/SOCIB_plots/Missions/Caibex/plot_domain_caibex2014.py:cbar=fig.colorbar(contour1,orientation='horizontal',pad=0.02,aspect=15)\n",
      "/home/ctroupin/Projects/SOCIB_plots/Missions/Caibex/plot_domain_caibex2014.py:cbar.set_ticks([])\n",
      "/home/ctroupin/Projects/SOCIB_plots/Missions/Caibex/plot_domain_caibex2014.py:cbar.set_ticks(np.arange(-5000,0,1000))\n",
      "/home/ctroupin/Projects/SOCIB_plots/Missions/Caibex/plot_domain_caibex2014.py:cbar.set_label('(m)')\n",
      "/home/ctroupin/Projects/SOCIB_plots/Missions/Caibex/plot_domain_caibex2014.py:cbar2=fig.colorbar(contourf2,orientation='horizontal',pad=0.02,aspect=15)\n",
      "/home/ctroupin/Projects/SOCIB_plots/Missions/Caibex/plot_domain_caibex2014.py:cbar2.set_ticks([])\n",
      "/home/ctroupin/Projects/SOCIB_plots/Missions/Caibex/plot_domain_caibex2014.py:cbar2.set_ticks(np.arange(-3000,0,500))\n",
      "/home/ctroupin/Projects/SOCIB_plots/Missions/Caibex/plot_domain_caibex2014.py:cbar2.set_label('(m)')\n",
      "/home/ctroupin/Projects/SOCIB_plots/Missions/Caibex/plot_chloro_caibex_CTD_track_capes.py:        cbar=fig.colorbar(pcm,cmap=cmap,orientation='vertical',fraction=0.1,pad=0.02)\n",
      "/home/ctroupin/Projects/SOCIB_plots/Missions/Caibex/plot_chloro_caibex_CTD_track_capes.py:#        cbar.set_ticks(newticks)\n",
      "/home/ctroupin/Projects/SOCIB_plots/Missions/Caibex/plot_chloro_caibex_CTD_track_capes.py:        cbar.set_ticks(newticks)\n",
      "/home/ctroupin/Projects/SOCIB_plots/Missions/Caibex/plot_chloro_caibex_CTD_track_capes.py:        cbar.set_ticklabels(newlabels)\n",
      "/home/ctroupin/Projects/SOCIB_plots/Missions/Caibex/plot_wind_vorticity_ccmp.py:        cbar=fig.colorbar(contour,cmap=cmap,orientation='vertical',pad=0.025,aspect=15)\n",
      "/home/ctroupin/Projects/SOCIB_plots/Missions/Caibex/plot_wind_vorticity_ccmp.py:        cbar.set_label(r'$ms^{-1}$',fontname='Times New Roman',fontsize=18)\n",
      "/home/ctroupin/Projects/SOCIB_plots/Missions/Caibex/plot_wind_vorticity_ccmp.py:        cbar.set_ticks(bounds)\n",
      "/home/ctroupin/Projects/SOCIB_plots/Missions/Caibex/plot_wind_vorticity_ccmp.py:        cbar.ax.set_yticklabels(bounds,fontname='Times New Roman',fontsize=16)\n",
      "/home/ctroupin/Projects/SOCIB_plots/Missions/Caibex/plot_wind_vorticity_ccmp.py:        cbar=fig.colorbar(contour2,cmap=cmap2,orientation='vertical',pad=0.025,aspect=15)\n",
      "/home/ctroupin/Projects/SOCIB_plots/Missions/Caibex/plot_wind_vorticity_ccmp.py:        cbar.set_label(r'$\\xi/f$',fontname='Times New Roman',fontsize=18)\n",
      "/home/ctroupin/Projects/SOCIB_plots/Missions/Caibex/plot_wind_vorticity_ccmp.py:        cbar.set_ticks(bounds2)\n",
      "/home/ctroupin/Projects/SOCIB_plots/Missions/Caibex/plot_wind_vorticity_ccmp.py:        cbar.ax.set_yticklabels(bounds2,fontname='Times New Roman',fontsize=16)\n",
      "/home/ctroupin/Projects/SOCIB_plots/Missions/Caibex/compute_depth_isotherm.py:    cbar2=plt.colorbar(scat,orientation='horizontal',pad=0.02,shrink=0.95,aspect=20)\n",
      "/home/ctroupin/Projects/SOCIB_plots/Missions/Caibex/compute_depth_isotherm.py:    cbar2.set_label('(m)')\n",
      "/home/ctroupin/Projects/SOCIB_plots/Missions/Caibex/plot_interpolated_depth_isotherm.py:cbar2=plt.colorbar(scat,orientation='horizontal',pad=0.02,shrink=0.95,aspect=20)\n",
      "/home/ctroupin/Projects/SOCIB_plots/Missions/Caibex/plot_interpolated_depth_isotherm.py:cbar2.set_label('(m)')\n",
      "/home/ctroupin/Projects/SOCIB_plots/Missions/Caibex/plot_quikscat_L2b12v3_nonorm.py:                    cbar=fig.colorbar(Q,orientation='vertical',pad=0.025,aspect=15,norm=norm,extend='both')\n",
      "/home/ctroupin/Projects/SOCIB_plots/Missions/Caibex/plot_quikscat_L2b12v3_nonorm.py:                    #cbar.set_label(r'$ms^{-1}$',fontname='Times New Roman',fontsize=18)\n",
      "/home/ctroupin/Projects/SOCIB_plots/Missions/Caibex/plot_quikscat_L2b12v3_nonorm.py:                    cbar.set_ticks(bounds)\n",
      "/home/ctroupin/Projects/SOCIB_plots/Missions/Caibex/plot_quikscat_L2b12v3_nonorm.py:                    cbar.ax.set_yticklabels(bounds,fontname='Times New Roman',fontsize=16)\n",
      "/home/ctroupin/Projects/SOCIB_plots/Missions/Caibex/plot_quikscat_L2b12v3_nonorm.py:                    cbar=fig.colorbar(contour2,cmap=cmap2,orientation='vertical',pad=0.025,aspect=15)\n",
      "/home/ctroupin/Projects/SOCIB_plots/Missions/Caibex/plot_quikscat_L2b12v3_nonorm.py:                    #cbar.set_label(r'$\\xi/f$',fontname='Times New Roman',fontsize=18)\n",
      "/home/ctroupin/Projects/SOCIB_plots/Missions/Caibex/plot_quikscat_L2b12v3_nonorm.py:                    cbar.set_ticks(bounds2)\n",
      "/home/ctroupin/Projects/SOCIB_plots/Missions/Caibex/plot_quikscat_L2b12v3_nonorm.py:                    cbar.ax.set_yticklabels(bounds2,fontname='Times New Roman',fontsize=16)\n",
      "/home/ctroupin/Projects/SOCIB_plots/Missions/Caibex/plot_sst_avhrr_caibex_CTD_track_capes.py:    cbar=fig.colorbar(pcm,cmap=cmap,orientation='vertical',fraction=0.1,pad=0.02)\n",
      "/home/ctroupin/Projects/SOCIB_plots/Missions/Caibex/plot_sst_avhrr_caibex_CTD_track_capes.py:    cbar.set_ticks(newticks)\n",
      "/home/ctroupin/Projects/SOCIB_plots/Missions/Caibex/compute_temp50m.py:    cbar2=plt.colorbar(scat,orientation='horizontal',pad=0.02,shrink=0.95,aspect=20)\n",
      "/home/ctroupin/Projects/SOCIB_plots/Missions/Caibex/compute_temp50m.py:    cbar2.set_label(r'$(^{\\circ}C)$')\n"
     ]
    },
    {
     "name": "stdout",
     "output_type": "stream",
     "text": [
      "/home/ctroupin/Projects/SOCIB_plots/Missions/Caibex/CapeGhir_plot_ADT.py:    cbar=fig.colorbar(contour,cmap=cmap,orientation='vertical',fraction=0.1,pad=0.02)\n",
      "/home/ctroupin/Projects/SOCIB_plots/Missions/Caibex/CapeGhir_plot_ADT.py:    cbar.set_label('(cm)',fontname='Times New Roman',fontsize=18)\n",
      "/home/ctroupin/Projects/SOCIB_plots/Missions/Caibex/CapeGhir_plot_ADT.py:    cbar.set_ticks(bounds2)\n",
      "/home/ctroupin/Projects/SOCIB_plots/Missions/Caibex/CapeGhir_plot_ADT.py:    cbar.ax.set_yticklabels(bounds2,fontname='Times New Roman',fontsize=16)\n",
      "/home/ctroupin/Projects/SOCIB_plots/Missions/Caibex/plot_chloro_avg_caibex_CTD_track_capes.py:    cbar=fig.colorbar(pcm,cmap=cmap,orientation='vertical',fraction=0.1,pad=0.02)\n",
      "/home/ctroupin/Projects/SOCIB_plots/Missions/Caibex/plot_chloro_avg_caibex_CTD_track_capes.py:#        cbar.set_ticks(newticks)\n",
      "/home/ctroupin/Projects/SOCIB_plots/Missions/Caibex/plot_chloro_avg_caibex_CTD_track_capes.py:    cbar.set_ticks(newticks)\n",
      "/home/ctroupin/Projects/SOCIB_plots/Missions/Caibex/plot_chloro_avg_caibex_CTD_track_capes.py:    cbar.set_ticklabels(newlabels)\n",
      "/home/ctroupin/Projects/SOCIB_plots/Missions/Caibex/plot_sst_avhrr_caibex_seasoar_track.py:        cbar=fig.colorbar(pcm,cmap=cmap,orientation='vertical',fraction=0.1,pad=0.02,extend='both')\n",
      "/home/ctroupin/Projects/SOCIB_plots/Missions/Caibex/plot_sst_avhrr_caibex_seasoar_track.py:        cbar.set_ticks(newticks)\n",
      "/home/ctroupin/Projects/SOCIB_plots/Missions/Caibex/plot_sst_avhrr_caibex_seasoar_track.py:cbar=fig.colorbar(pcm,cmap=cmap,orientation='vertical',fraction=0.1,pad=0.02,extend='both')\n",
      "/home/ctroupin/Projects/SOCIB_plots/Missions/Caibex/plot_sst_avhrr_caibex_seasoar_track.py:cbar.set_ticks(newticks)\n",
      "/home/ctroupin/Projects/SOCIB_plots/Missions/Caibex/plot_sst_odyssea_caibex.py:    cbar=fig.colorbar(contour,cmap=cmap,orientation='vertical',fraction=0.1,pad=0.02)\n",
      "/home/ctroupin/Projects/SOCIB_plots/Missions/Caibex/plot_sst_odyssea_caibex.py:    cbar.set_label(unitname,fontsize=18)\n",
      "/home/ctroupin/Projects/SOCIB_plots/Missions/Caibex/plot_sst_odyssea_caibex.py:    cbar.set_ticks(newticks)\n",
      "/home/ctroupin/Projects/SOCIB_plots/Missions/Caibex/plot_chloro_caibex_seasoar_track_capes.py:        cbar=fig.colorbar(pcm,cmap=cmap,orientation='vertical',fraction=0.1,pad=0.02)\n",
      "/home/ctroupin/Projects/SOCIB_plots/Missions/Caibex/plot_chloro_caibex_seasoar_track_capes.py:#        cbar.set_ticks(newticks)\n",
      "/home/ctroupin/Projects/SOCIB_plots/Missions/Caibex/plot_chloro_caibex_seasoar_track_capes.py:        cbar.set_ticks(newticks)\n",
      "/home/ctroupin/Projects/SOCIB_plots/Missions/Caibex/plot_chloro_caibex_seasoar_track_capes.py:        cbar.set_ticklabels(newlabels)\n",
      "/home/ctroupin/Projects/SOCIB_plots/Missions/Caibex/plot_chloro_caibex_seasoar_track_capes.py:    cbar=fig.colorbar(pcm,cmap=cmap,orientation='vertical',fraction=0.1,pad=0.02)\n",
      "/home/ctroupin/Projects/SOCIB_plots/Missions/Caibex/plot_chloro_caibex_seasoar_track_capes.py:    #        cbar.set_ticks(newticks)\n",
      "/home/ctroupin/Projects/SOCIB_plots/Missions/Caibex/plot_chloro_caibex_seasoar_track_capes.py:    cbar.set_ticks(newticks)\n",
      "/home/ctroupin/Projects/SOCIB_plots/Missions/Caibex/plot_chloro_caibex_seasoar_track_capes.py:    cbar.set_ticklabels(newlabels)\n",
      "/home/ctroupin/Projects/SOCIB_plots/Missions/Caibex/plot_chloro_caibex_seasoar_track_capes.py:    cbar=fig.colorbar(pcm,cmap=cmap,orientation='vertical',fraction=0.1,pad=0.02)\n",
      "/home/ctroupin/Projects/SOCIB_plots/Missions/Caibex/plot_chloro_caibex_seasoar_track_capes.py:    #        cbar.set_ticks(newticks)\n",
      "/home/ctroupin/Projects/SOCIB_plots/Missions/Caibex/plot_chloro_caibex_seasoar_track_capes.py:    cbar.set_ticks(newticks)\n",
      "/home/ctroupin/Projects/SOCIB_plots/Missions/Caibex/plot_chloro_caibex_seasoar_track_capes.py:    cbar.set_ticklabels(newlabels)\n",
      "/home/ctroupin/Projects/SOCIB_plots/Missions/Caibex/plot_sst_avhrr_caibex_CTD_track.py:    cbar=fig.colorbar(pcm,cmap=cmap,orientation='vertical',fraction=0.1,pad=0.02)\n",
      "/home/ctroupin/Projects/SOCIB_plots/Missions/Caibex/plot_sst_avhrr_caibex_CTD_track.py:    cbar.set_ticks(newticks)\n",
      "/home/ctroupin/Projects/SOCIB_plots/Missions/Caibex/plot_wind_vorticity_ccmp_zoom.py:        cbar=fig.colorbar(contour,cmap=cmap,orientation='vertical',pad=0.025,aspect=15)\n",
      "/home/ctroupin/Projects/SOCIB_plots/Missions/Caibex/plot_wind_vorticity_ccmp_zoom.py:        cbar.set_label(r'$ms^{-1}$',fontname='Times New Roman',fontsize=18)\n",
      "/home/ctroupin/Projects/SOCIB_plots/Missions/Caibex/plot_wind_vorticity_ccmp_zoom.py:        cbar.set_ticks(bounds)\n",
      "/home/ctroupin/Projects/SOCIB_plots/Missions/Caibex/plot_wind_vorticity_ccmp_zoom.py:        cbar.ax.set_yticklabels(bounds,fontname='Times New Roman',fontsize=16)\n",
      "/home/ctroupin/Projects/SOCIB_plots/Missions/Caibex/plot_wind_vorticity_ccmp_zoom.py:        cbar=fig.colorbar(contour2,cmap=cmap2,orientation='vertical',pad=0.025,aspect=15)\n",
      "/home/ctroupin/Projects/SOCIB_plots/Missions/Caibex/plot_wind_vorticity_ccmp_zoom.py:        cbar.set_label(r'$\\xi/f$',fontname='Times New Roman',fontsize=18)\n",
      "/home/ctroupin/Projects/SOCIB_plots/Missions/Caibex/plot_wind_vorticity_ccmp_zoom.py:        cbar.set_ticks(bounds2)\n",
      "/home/ctroupin/Projects/SOCIB_plots/Missions/Caibex/plot_wind_vorticity_ccmp_zoom.py:        cbar.ax.set_yticklabels(bounds2,fontname='Times New Roman',fontsize=16)\n",
      "/home/ctroupin/Projects/SOCIB_plots/Missions/Caibex/plot_wind_vorticity_quikscat.py:    cbar=fig.colorbar(pcm)\n",
      "/home/ctroupin/Projects/SOCIB_plots/Missions/Caibex/plot_wind_vorticity_quikscat.py:    cbar.drawedges\n",
      "/home/ctroupin/Projects/SOCIB_plots/Missions/Caibex/plot_sst_avg_avhrr_caibex_CTD_track_capes.py:    cbar=fig.colorbar(pcm,cmap=cmap,orientation='vertical',fraction=0.1,pad=0.02)\n",
      "/home/ctroupin/Projects/SOCIB_plots/Missions/Caibex/plot_sst_avg_avhrr_caibex_CTD_track_capes.py:    cbar.set_ticks(newticks)\n",
      "/home/ctroupin/Projects/SOCIB_plots/Missions/Caibex/CapeGhir_plot_SLA.py:    cbar=fig.colorbar(contour,cmap=cmap,orientation='vertical',fraction=0.1,pad=0.02)\n",
      "/home/ctroupin/Projects/SOCIB_plots/Missions/Caibex/CapeGhir_plot_SLA.py:    cbar.set_label('(cm)',fontname='Times New Roman',fontsize=18)\n",
      "/home/ctroupin/Projects/SOCIB_plots/Missions/Caibex/CapeGhir_plot_SLA.py:    cbar.set_ticks(bounds2)\n",
      "/home/ctroupin/Projects/SOCIB_plots/Missions/Caibex/CapeGhir_plot_SLA.py:    cbar.ax.set_yticklabels(bounds2,fontname='Times New Roman',fontsize=16)\n",
      "/home/ctroupin/Projects/SOCIB_plots/Missions/ALMO/plot_chloro_L2_ALMOcruise.py:        cbar = fig.colorbar(chloropcm, cmap=cmapchloro, norm=normchloro, orientation='vertical', pad=0.025, aspect=15,\n",
      "/home/ctroupin/Projects/SOCIB_plots/Missions/Alborex/plot_thermosal_data_TS_diagram.py:cbar = fig.colorbar(scat, cmap=cmapsalt, orientation='horizontal', pad=0.025, aspect=15, shrink=1., extend='both')\n",
      "/home/ctroupin/Projects/SOCIB_plots/Missions/Alborex/plot_thermosal_data_TS_diagram.py:cbar.set_ticks(boundsalt)\n",
      "/home/ctroupin/Projects/SOCIB_plots/Missions/Alborex/plot_chloro_L2.py:    cbar=fig.colorbar(chloropcm, cmap=cmapchloro ,norm=normchloro,\n",
      "/home/ctroupin/Projects/SOCIB_plots/Missions/Alborex/plot_chloro_L2.py:    cbar.set_ticks(newticks)\n",
      "/home/ctroupin/Projects/SOCIB_plots/Missions/Alborex/plot_chloro_L2.py:    cbar.set_ticklabels(newlabels)\n",
      "/home/ctroupin/Projects/SOCIB_plots/Missions/Alborex/plot_scatter3D.py:    cbar = fig.colorbar(scat3D, cmap=cmap, orientation='vertical', pad=0.05,\n",
      "/home/ctroupin/Projects/SOCIB_plots/Missions/Alborex/plot_scatter3D.py:    cbar.set_label('$^{\\circ}$C', fontname='Times New Roman',\n",
      "/home/ctroupin/Projects/SOCIB_plots/Missions/Alborex/plot_scatter3D.py:    cbar.set_clim(tempCTDmin, tempCTDmax)\n",
      "/home/ctroupin/Projects/SOCIB_plots/Missions/Alborex/plot_scatter3D.py:    cbar.set_ticks(boundsCTDtemp)\n",
      "/home/ctroupin/Projects/SOCIB_plots/Missions/Alborex/plot_scatter3D.py:    cbar = fig.colorbar(scat3D, cmap=cmap, orientation='vertical', pad=0.05,\n",
      "/home/ctroupin/Projects/SOCIB_plots/Missions/Alborex/plot_scatter3D.py:    cbar.set_label('$^{\\circ}$C', fontname='Times New Roman', fontsize=18)\n",
      "/home/ctroupin/Projects/SOCIB_plots/Missions/Alborex/plot_scatter3D.py:    cbar.set_clim(tempCTDmin, tempCTDmax)\n",
      "/home/ctroupin/Projects/SOCIB_plots/Missions/Alborex/plot_scatter3D.py:    cbar = fig.colorbar(scat3D, cmap=cmap, orientation='vertical', pad=0.05, aspect=15, shrink=0.8,\n"
     ]
    },
    {
     "name": "stdout",
     "output_type": "stream",
     "text": [
      "/home/ctroupin/Projects/SOCIB_plots/Missions/Alborex/plot_scatter3D.py:    cbar.set_label('$^{\\circ}$C', fontname='Times New Roman', fontsize=18)\n",
      "/home/ctroupin/Projects/SOCIB_plots/Missions/Alborex/plot_scatter3D.py:    cbar.set_clim(tempCTDmin, tempCTDmax)\n",
      "/home/ctroupin/Projects/SOCIB_plots/Missions/Alborex/plot_scatter3D.py:    cbar.set_ticks(boundsCTDtemp)\n",
      "/home/ctroupin/Projects/SOCIB_plots/Missions/Alborex/plot_scatter3D.py:    cbar.ax.set_xticklabels(boundsCTDtemp, fontname='Times New Roman', fontsize=16)\n",
      "/home/ctroupin/Projects/SOCIB_plots/Missions/Alborex/plot_scatter3D.py:    cbar = fig.colorbar(scat3Dglider1, cmap=cmapCTDpsal, orientation='vertical', pad=0.05, aspect=15, shrink=0.8, norm=normCTDpsal,\n",
      "/home/ctroupin/Projects/SOCIB_plots/Missions/Alborex/plot_scatter3D.py:    cbar.set_clim(psalCTDmin, psalCTDmax)\n",
      "/home/ctroupin/Projects/SOCIB_plots/Missions/Alborex/plot_scatter3D.py:    cbar.set_ticks(boundsCTDpsal)\n",
      "/home/ctroupin/Projects/SOCIB_plots/Missions/Alborex/plot_scatter3D.py:    cbar.ax.set_yticklabels(boundsCTDpsal, fontname='Times New Roman', fontsize=16)\n",
      "/home/ctroupin/Projects/SOCIB_plots/Missions/Alborex/plot_scatter3D.py:    cbar = fig.colorbar(scat3D, cmap=cmap, orientation='vertical', pad=0.05, aspect=15, shrink=0.8,\n",
      "/home/ctroupin/Projects/SOCIB_plots/Missions/Alborex/plot_scatter3D.py:    cbar.set_clim(psalCTDmin, psalCTDmax)\n",
      "/home/ctroupin/Projects/SOCIB_plots/Missions/Alborex/plot_scatter3D.py:    cbar.set_ticks(boundsCTDpsal)\n",
      "/home/ctroupin/Projects/SOCIB_plots/Missions/Alborex/plot_scatter3D.py:    cbar.ax.set_yticklabels(boundsCTDpsal, fontname='Times New Roman', fontsize=16)\n",
      "/home/ctroupin/Projects/SOCIB_plots/Missions/Alborex/plot_scatter3D.py:    cbar = fig.colorbar(scat3D, cmap=cmapCTDpsal, orientation='vertical', pad=0.05, aspect=15, shrink=0.8,\n",
      "/home/ctroupin/Projects/SOCIB_plots/Missions/Alborex/plot_scatter3D.py:    cbar.set_clim(psalCTDmin, psalCTDmax)\n",
      "/home/ctroupin/Projects/SOCIB_plots/Missions/Alborex/plot_scatter3D.py:    cbar.set_ticks(boundsCTDpsal)\n",
      "/home/ctroupin/Projects/SOCIB_plots/Missions/Alborex/plot_scatter3D.py:    cbar.ax.set_yticklabels(boundsCTDpsal, fontname='Times New Roman', fontsize=16)\n",
      "/home/ctroupin/Projects/SOCIB_plots/Missions/Alborex/plot_scatter3D.py:    cbar = fig.colorbar(scat3D, cmap=cmap, orientation='vertical', pad=0.05, aspect=15, shrink=0.8, norm=normCTDchloro,\n",
      "/home/ctroupin/Projects/SOCIB_plots/Missions/Alborex/plot_scatter3D.py:    cbar.set_label('$mg\\,m^{-3}$', fontname='Times New Roman', fontsize=18)\n",
      "/home/ctroupin/Projects/SOCIB_plots/Missions/Alborex/plot_scatter3D.py:    cbar.set_clim(chloroCTDmin, chloroCTDmax)\n",
      "/home/ctroupin/Projects/SOCIB_plots/Missions/Alborex/plot_scatter3D.py:    cbar.set_ticks(boundsCTDchloro)\n",
      "/home/ctroupin/Projects/SOCIB_plots/Missions/Alborex/plot_scatter3D.py:    cbar.ax.set_yticklabels(boundsCTDchloro, fontname='Times New Roman', fontsize=16)\n",
      "/home/ctroupin/Projects/SOCIB_plots/Missions/Alborex/plot_scatter3D.py:    cbar = fig.colorbar(scat3D, cmap=cmap, orientation='vertical', pad=0.05, aspect=15, shrink=0.8, norm=normCTD,\n",
      "/home/ctroupin/Projects/SOCIB_plots/Missions/Alborex/plot_scatter3D.py:    cbar.set_label('$mg\\,m^{-3}$', fontname='Times New Roman', fontsize=18)\n",
      "/home/ctroupin/Projects/SOCIB_plots/Missions/Alborex/plot_scatter3D.py:    cbar.set_clim(chloroCTDmin, chloroCTDmax)\n",
      "/home/ctroupin/Projects/SOCIB_plots/Missions/Alborex/plot_scatter3D.py:    cbar.set_ticks(boundsCTDchloro)\n",
      "/home/ctroupin/Projects/SOCIB_plots/Missions/Alborex/plot_scatter3D.py:    cbar.ax.set_yticklabels(boundsCTDchloro, fontname='Times New Roman', fontsize=16)\n",
      "/home/ctroupin/Projects/SOCIB_plots/Missions/Alborex/plot_scatter3D.py:    cbar = fig.colorbar(scat3D, cmap=cmap, orientation='vertical', pad=0.05, aspect=15, shrink=0.8, norm=normCTD,\n",
      "/home/ctroupin/Projects/SOCIB_plots/Missions/Alborex/plot_scatter3D.py:    cbar.set_label('$mg\\,m^{-3}$', fontname='Times New Roman', fontsize=18)\n",
      "/home/ctroupin/Projects/SOCIB_plots/Missions/Alborex/plot_scatter3D.py:    cbar.set_clim(chloroCTDmin, chloroCTDmax)\n",
      "/home/ctroupin/Projects/SOCIB_plots/Missions/Alborex/plot_scatter3D.py:    cbar.set_ticks(boundsCTDchloro)\n",
      "/home/ctroupin/Projects/SOCIB_plots/Missions/Alborex/plot_scatter3D.py:    cbar.ax.set_yticklabels(boundsCTDchloro, fontname='Times New Roman', fontsize=16)\n",
      "/home/ctroupin/Projects/SOCIB_plots/Missions/Alborex/plot_scatter3D_contour.py:    cbar = fig.colorbar(scat3D, cmap=cmap, orientation='vertical', pad=0.05,\n",
      "/home/ctroupin/Projects/SOCIB_plots/Missions/Alborex/plot_scatter3D_contour.py:    cbar.set_label('$^{\\circ}$C', fontname='Times New Roman',\n",
      "/home/ctroupin/Projects/SOCIB_plots/Missions/Alborex/plot_scatter3D_contour.py:    cbar.set_clim(tempCTDmin, tempCTDmax)\n",
      "/home/ctroupin/Projects/SOCIB_plots/Missions/Alborex/plot_scatter3D_contour.py:    cbar.set_ticks(boundsCTDtemp)\n",
      "/home/ctroupin/Projects/SOCIB_plots/Missions/Alborex/plot_scatter3D_contour.py:    cbar = fig.colorbar(scat3D, cmap=cmap, orientation='vertical', pad=0.05,\n",
      "/home/ctroupin/Projects/SOCIB_plots/Missions/Alborex/plot_scatter3D_contour.py:    cbar.set_label('$^{\\circ}$C', fontname='Times New Roman', fontsize=18)\n",
      "/home/ctroupin/Projects/SOCIB_plots/Missions/Alborex/plot_scatter3D_contour.py:    cbar.set_clim(tempCTDmin, tempCTDmax)\n",
      "/home/ctroupin/Projects/SOCIB_plots/Missions/Alborex/plot_scatter3D_contour.py:    cbar = fig.colorbar(scat3D, cmap=cmap, orientation='vertical', pad=0.05, aspect=15, shrink=0.8,\n",
      "/home/ctroupin/Projects/SOCIB_plots/Missions/Alborex/plot_scatter3D_contour.py:    cbar.set_label('$^{\\circ}$C', fontname='Times New Roman', fontsize=18)\n",
      "/home/ctroupin/Projects/SOCIB_plots/Missions/Alborex/plot_scatter3D_contour.py:    cbar.set_clim(tempCTDmin, tempCTDmax)\n",
      "/home/ctroupin/Projects/SOCIB_plots/Missions/Alborex/plot_scatter3D_contour.py:    cbar.set_ticks(boundsCTDtemp)\n",
      "/home/ctroupin/Projects/SOCIB_plots/Missions/Alborex/plot_scatter3D_contour.py:    cbar.ax.set_xticklabels(boundsCTDtemp, fontname='Times New Roman', fontsize=16)\n",
      "/home/ctroupin/Projects/SOCIB_plots/Missions/Alborex/plot_scatter3D_contour.py:    cbar = fig.colorbar(scat3D, cmap=cmapCTDpsal, orientation='vertical', pad=0.05, aspect=15, shrink=0.8, norm=normCTDpsal,\n",
      "/home/ctroupin/Projects/SOCIB_plots/Missions/Alborex/plot_scatter3D_contour.py:    cbar.set_clim(psalCTDmin, psalCTDmax)\n",
      "/home/ctroupin/Projects/SOCIB_plots/Missions/Alborex/plot_scatter3D_contour.py:    cbar.set_ticks(boundsCTDpsal)\n",
      "/home/ctroupin/Projects/SOCIB_plots/Missions/Alborex/plot_scatter3D_contour.py:    cbar.ax.set_yticklabels(boundsCTDpsal, fontname='Times New Roman', fontsize=16)\n",
      "/home/ctroupin/Projects/SOCIB_plots/Missions/Alborex/plot_scatter3D_contour.py:    cbar = fig.colorbar(scat3D, cmap=cmap, orientation='vertical', pad=0.05, aspect=15, shrink=0.8,\n",
      "/home/ctroupin/Projects/SOCIB_plots/Missions/Alborex/plot_scatter3D_contour.py:    cbar.set_clim(psalCTDmin, psalCTDmax)\n",
      "/home/ctroupin/Projects/SOCIB_plots/Missions/Alborex/plot_scatter3D_contour.py:    cbar.set_ticks(boundsCTDpsal)\n",
      "/home/ctroupin/Projects/SOCIB_plots/Missions/Alborex/plot_scatter3D_contour.py:    cbar.ax.set_yticklabels(boundsCTDpsal, fontname='Times New Roman', fontsize=16)\n",
      "/home/ctroupin/Projects/SOCIB_plots/Missions/Alborex/plot_scatter3D_contour.py:    cbar = fig.colorbar(scat3D, cmap=cmapCTDpsal, orientation='vertical', pad=0.05, aspect=15, shrink=0.8,\n",
      "/home/ctroupin/Projects/SOCIB_plots/Missions/Alborex/plot_scatter3D_contour.py:    cbar.set_clim(psalCTDmin, psalCTDmax)\n",
      "/home/ctroupin/Projects/SOCIB_plots/Missions/Alborex/plot_scatter3D_contour.py:    cbar.set_ticks(boundsCTDpsal)\n",
      "/home/ctroupin/Projects/SOCIB_plots/Missions/Alborex/plot_scatter3D_contour.py:    cbar.ax.set_yticklabels(boundsCTDpsal, fontname='Times New Roman', fontsize=16)\n",
      "/home/ctroupin/Projects/SOCIB_plots/Missions/Alborex/plot_scatter3D_contour.py:    cbar = fig.colorbar(scat3D, cmap=cmap, orientation='vertical', pad=0.05, aspect=15, shrink=0.8, norm=normCTDchloro,\n",
      "/home/ctroupin/Projects/SOCIB_plots/Missions/Alborex/plot_scatter3D_contour.py:    cbar.set_label('$mg\\,m^{-3}$', fontname='Times New Roman', fontsize=18)\n",
      "/home/ctroupin/Projects/SOCIB_plots/Missions/Alborex/plot_scatter3D_contour.py:    cbar.set_clim(chloroCTDmin, chloroCTDmax)\n"
     ]
    },
    {
     "name": "stdout",
     "output_type": "stream",
     "text": [
      "/home/ctroupin/Projects/SOCIB_plots/Missions/Alborex/plot_scatter3D_contour.py:    cbar.set_ticks(boundsCTDchloro)\n",
      "/home/ctroupin/Projects/SOCIB_plots/Missions/Alborex/plot_scatter3D_contour.py:    cbar.ax.set_yticklabels(boundsCTDchloro, fontname='Times New Roman', fontsize=16)\n",
      "/home/ctroupin/Projects/SOCIB_plots/Missions/Alborex/plot_scatter3D_contour.py:    cbar = fig.colorbar(scat3D, cmap=cmap, orientation='vertical', pad=0.05, aspect=15, shrink=0.8, norm=normCTD,\n",
      "/home/ctroupin/Projects/SOCIB_plots/Missions/Alborex/plot_scatter3D_contour.py:    cbar.set_label('$mg\\,m^{-3}$', fontname='Times New Roman', fontsize=18)\n",
      "/home/ctroupin/Projects/SOCIB_plots/Missions/Alborex/plot_scatter3D_contour.py:    cbar.set_clim(chloroCTDmin, chloroCTDmax)\n",
      "/home/ctroupin/Projects/SOCIB_plots/Missions/Alborex/plot_scatter3D_contour.py:    cbar.set_ticks(boundsCTDchloro)\n",
      "/home/ctroupin/Projects/SOCIB_plots/Missions/Alborex/plot_scatter3D_contour.py:    cbar.ax.set_yticklabels(boundsCTDchloro, fontname='Times New Roman', fontsize=16)\n",
      "/home/ctroupin/Projects/SOCIB_plots/Missions/Alborex/plot_scatter3D_contour.py:    cbar = fig.colorbar(scat3D, cmap=cmap, orientation='vertical', pad=0.05, aspect=15, shrink=0.8, norm=normCTD,\n",
      "/home/ctroupin/Projects/SOCIB_plots/Missions/Alborex/plot_scatter3D_contour.py:    cbar.set_label('$mg\\,m^{-3}$', fontname='Times New Roman', fontsize=18)\n",
      "/home/ctroupin/Projects/SOCIB_plots/Missions/Alborex/plot_scatter3D_contour.py:    cbar.set_clim(chloroCTDmin, chloroCTDmax)\n",
      "/home/ctroupin/Projects/SOCIB_plots/Missions/Alborex/plot_scatter3D_contour.py:    cbar.set_ticks(boundsCTDchloro)\n",
      "/home/ctroupin/Projects/SOCIB_plots/Missions/Alborex/plot_scatter3D_contour.py:    cbar.ax.set_yticklabels(boundsCTDchloro, fontname='Times New Roman', fontsize=16)\n",
      "/home/ctroupin/Projects/SOCIB_plots/Missions/Alborex/plot_2months_drifter_sst.py:cbar=fig.colorbar(pp,cmap=cmapsst, norm=normsst, orientation='vertical',\n",
      "/home/ctroupin/Projects/SOCIB_plots/Missions/Alborex/plot_2months_drifter_sst.py:cbar.set_ticks(boundsst)\n",
      "/home/ctroupin/Projects/SOCIB_plots/Missions/Alborex/plot_2months_drifter_sst.py:cbar.set_label(r'$^{\\circ}$C', fontsize=14, rotation=0, ha='left')\n",
      "/home/ctroupin/Projects/SOCIB_plots/Missions/Alborex/plot_Alborex_experiment.py:    cbar = fig.colorbar(sstpcm, cmap=cmapsst, norm=normsst, orientation='vertical', pad=-0.11, aspect=15,\n",
      "/home/ctroupin/Projects/SOCIB_plots/Missions/Alborex/plot_Alborex_experiment.py:    cbar.set_ticks(boundsst)\n",
      "/home/ctroupin/Projects/SOCIB_plots/Missions/Alborex/plot_Alborex_experiment.py:    cbar.set_label(r'$^{\\circ}$C', fontsize=16, rotation=0)\n",
      "/home/ctroupin/Projects/SOCIB_plots/Missions/GlidingTurtles/plot_turtle_altimetry.py:    cbar = fig.colorbar(sstpcm, cmap=cmapsst, norm=normsst, orientation='vertical', pad=-0.11, aspect=15,\n",
      "/home/ctroupin/Projects/SOCIB_plots/Missions/GlidingTurtles/plot_turtle_altimetry.py:    cbar.set_ticks(boundsst)\n",
      "/home/ctroupin/Projects/SOCIB_plots/Missions/GlidingTurtles/plot_turtle_altimetry.py:    cbar.set_label(r'$^{\\circ}$C', fontsize=16, rotation=0)\n",
      "/home/ctroupin/Projects/SOCIB_plots/Missions/GlidingTurtles/plot_turtle_altimetry.py:cbar = plt.colorbar(pcm, norm=norm, cmap=cmap, orientation='vertical', pad=0.05, aspect=15,\n",
      "/home/ctroupin/Projects/SOCIB_plots/Missions/GlidingTurtles/plot_turtle_altimetry.py:cbar.set_ticks(bounds)\n",
      "/home/ctroupin/Projects/SOCIB_plots/ResearchVessel/plot_SST_L2_ALMOcruise.py:    cbar = fig.colorbar(sstpcm, cmap=cmapsst, norm=normsst, orientation='vertical', pad=0.025,\n",
      "/home/ctroupin/Projects/SOCIB_plots/ResearchVessel/plot_SST_L2_ALMOcruise.py:    cbar.set_ticks(boundsst)\n",
      "/home/ctroupin/Projects/SOCIB_plots/ResearchVessel/plot_ABACUS_experiment.py:        cbar = fig.colorbar(sstpcm, cmap=cmapsst, norm=normsst, orientation='vertical', pad=-0.11, aspect=15,\n",
      "/home/ctroupin/Projects/SOCIB_plots/ResearchVessel/plot_ABACUS_experiment.py:        cbar.set_ticks(boundsst)\n",
      "/home/ctroupin/Projects/SOCIB_plots/ResearchVessel/plot_ABACUS_experiment.py:        cbar.set_label(r'$^{\\circ}$C', fontsize=16, rotation=0)\n",
      "/home/ctroupin/Projects/SOCIB_plots/ResearchVessel/plot_ALMO_experiment.py:        cbar = fig.colorbar(sstpcm, cmap=cmapsst, norm=normsst, orientation='vertical', pad=-0.11, aspect=15,\n",
      "/home/ctroupin/Projects/SOCIB_plots/ResearchVessel/plot_ALMO_experiment.py:        cbar.set_ticks(boundsst)\n",
      "/home/ctroupin/Projects/SOCIB_plots/ResearchVessel/plot_ALMO_experiment.py:        cbar.set_label(r'$^{\\circ}$C', fontsize=16, rotation=0)\n",
      "/home/ctroupin/Projects/SOCIB_plots/Projects/CMEMS/Communication2015Q2/interp_climato_obs2_WOA_loop.py:                cbar = plt.colorbar(scat, orientation='horizontal', pad=mypad, aspect=20, extend='both', ax=ax)\n",
      "/home/ctroupin/Projects/SOCIB_plots/Projects/CMEMS/Communication2015Q2/interp_climato_obs2_WOA_loop.py:                cbar.set_label('$^{\\circ}$C')\n",
      "/home/ctroupin/Projects/SOCIB_plots/Projects/CMEMS/Communication2015Q2/interp_climato_obs2_WOA_loop.py:                cbar = plt.colorbar(scat, orientation='horizontal', pad=mypad, aspect=myaspect, extend='both', ax=ax)\n",
      "/home/ctroupin/Projects/SOCIB_plots/Projects/CMEMS/Communication2015Q2/interp_climato_obs2_WOA_loop.py:                cbar.set_label('$^{\\circ}$C')\n",
      "/home/ctroupin/Projects/SOCIB_plots/Projects/CMEMS/Communication2015Q2/interp_climato_obs2_WOA_loop.py:                cbar = plt.colorbar(scat, orientation='horizontal', pad=mypad, boundaries=boundsanom, aspect=myaspect, extend='both', ax=ax)\n",
      "/home/ctroupin/Projects/SOCIB_plots/Projects/CMEMS/Communication2015Q2/interp_climato_obs2_WOA_loop.py:                cbar.set_label('Temperature anomaly ($^{\\circ}$C) with respect to climatology')\n",
      "/home/ctroupin/Projects/SOCIB_plots/Projects/CMEMS/Communication2015Q2/interp_climato_obs2_WOA_loop.py:                cbar.set_ticks(boundsanom)\n",
      "/home/ctroupin/Projects/SOCIB_plots/Projects/CMEMS/Communication2015Q2/interp_climato_obs2_WOA.py:    cbar = plt.colorbar(scat, orientation='horizontal', pad=mypad, aspect=20, extend='both', ax=ax)\n",
      "/home/ctroupin/Projects/SOCIB_plots/Projects/CMEMS/Communication2015Q2/interp_climato_obs2_WOA.py:    cbar.set_label('$^{\\circ}$C')\n",
      "/home/ctroupin/Projects/SOCIB_plots/Projects/CMEMS/Communication2015Q2/interp_climato_obs2_WOA.py:    cbar = plt.colorbar(scat, orientation='horizontal', pad=mypad, aspect=myaspect, extend='both', ax=ax)\n",
      "/home/ctroupin/Projects/SOCIB_plots/Projects/CMEMS/Communication2015Q2/interp_climato_obs2_WOA.py:    cbar.set_label('$^{\\circ}$C')\n",
      "/home/ctroupin/Projects/SOCIB_plots/Projects/CMEMS/Communication2015Q2/interp_climato_obs2_WOA.py:    cbar = plt.colorbar(scat, orientation='horizontal', pad=mypad, aspect=myaspect, extend='both', ax=ax)\n",
      "/home/ctroupin/Projects/SOCIB_plots/Projects/CMEMS/Communication2015Q2/interp_climato_obs2_WOA.py:    cbar.set_label('$^{\\circ}$C')\n",
      "/home/ctroupin/Projects/SOCIB_plots/Projects/CMEMS/Communication2015Q2/interp_climato_obs2_WOA.py:    cbar.set_ticks(boundsanom)\n",
      "/home/ctroupin/Projects/SOCIB_plots/Projects/CMEMS/Communication2015Q2/plot_sst_modis_interp_mooring.py:    cbar = plt.colorbar(scat, extend='both', shrink=0.7)\n",
      "/home/ctroupin/Projects/SOCIB_plots/Projects/CMEMS/Communication2015Q2/plot_sst_modis_interp_mooring.py:    cbar.set_label('$^{\\circ}$C', rotation=0, horizontalalignment='left')\n",
      "/home/ctroupin/Projects/SOCIB_plots/Projects/CMEMS/Communication2015Q2/plot_sst_modis_interp_mooring.py:    cbar.set_ticks(bounds)\n",
      "/home/ctroupin/Projects/SOCIB_plots/Projects/CMEMS/Communication2015Q2/interp_climato_obs2.py:    cbar = plt.colorbar(scat, orientation='horizontal', pad=mypad, aspect=20, extend='both', ax=ax)\n",
      "/home/ctroupin/Projects/SOCIB_plots/Projects/CMEMS/Communication2015Q2/interp_climato_obs2.py:    cbar.set_label('$^{\\circ}$C')\n",
      "/home/ctroupin/Projects/SOCIB_plots/Projects/CMEMS/Communication2015Q2/interp_climato_obs2.py:    cbar = plt.colorbar(scat, orientation='horizontal', pad=mypad, aspect=myaspect, extend='both', ax=ax)\n",
      "/home/ctroupin/Projects/SOCIB_plots/Projects/CMEMS/Communication2015Q2/interp_climato_obs2.py:    cbar.set_label('$^{\\circ}$C')\n",
      "/home/ctroupin/Projects/SOCIB_plots/Projects/CMEMS/Communication2015Q2/interp_climato_obs2.py:    cbar = plt.colorbar(scat, orientation='horizontal', pad=mypad, aspect=myaspect, extend='both', ax=ax)\n"
     ]
    },
    {
     "name": "stdout",
     "output_type": "stream",
     "text": [
      "/home/ctroupin/Projects/SOCIB_plots/Projects/CMEMS/Communication2015Q2/interp_climato_obs2.py:    cbar.set_label('$^{\\circ}$C')\n",
      "/home/ctroupin/Projects/SOCIB_plots/Projects/CMEMS/Communication2015Q2/interp_climato_obs2.py:    cbar.set_ticks(boundsanom)\n",
      "/home/ctroupin/Projects/SOCIB_plots/Projects/CMEMS/Communication2015Q2/animation_drifter_eddy_visible.py:cbar = fig.colorbar(p1, cmap=cmapsst, norm=normsst, orientation='vertical', pad=0.025, aspect=15, shrink=0.75,\n",
      "/home/ctroupin/Projects/SOCIB_plots/Projects/CMEMS/Communication2015Q2/animation_drifter_eddy_visible.py:cbar.set_ticks(boundsst)\n",
      "/home/ctroupin/Projects/SOCIB_plots/Projects/CMEMS/Communication2015Q2/animation_drifter_eddy_visible.py:cbar.set_label(r'$^{\\circ}$C', fontsize=16, rotation=0, ha='left')\n",
      "/home/ctroupin/Projects/SOCIB_plots/Projects/CMEMS/Communication2015Q2/animation_drifter_eddy.py:    cbar = fig.colorbar(p1, cmap=cmapsst, norm=normsst, orientation='vertical', pad=0.025, aspect=15, shrink=0.99,\n",
      "/home/ctroupin/Projects/SOCIB_plots/Projects/CMEMS/Communication2015Q2/animation_drifter_eddy.py:    cbar.set_ticks(boundsst)\n",
      "/home/ctroupin/Projects/SOCIB_plots/Projects/CMEMS/Communication2015Q2/animation_drifter_eddy.py:    cbar.set_label(r'$^{\\circ}$C', fontsize=16, rotation=0, ha='left')\n",
      "/home/ctroupin/Projects/SOCIB_plots/Projects/CMEMS/Communication2015Q2/animation_drifter.py:    cbar = fig.colorbar(p1, cmap=cmapsst, norm=normsst, orientation='vertical', pad=0.025, aspect=15, shrink=0.95,\n",
      "/home/ctroupin/Projects/SOCIB_plots/Projects/CMEMS/Communication2015Q2/animation_drifter.py:    cbar.set_ticks(boundsst)\n",
      "/home/ctroupin/Projects/SOCIB_plots/Projects/CMEMS/Communication2015Q2/animation_drifter.py:    cbar.set_label(r'$^{\\circ}$C', fontsize=16, rotation=0, ha='left')\n",
      "/home/ctroupin/Projects/SOCIB_plots/Projects/CMEMS/Communication2015Q2/animation_drifter.py:    fig, ax, m, cbar = prepare_plot()\n",
      "/home/ctroupin/Projects/SOCIB_plots/Projects/CMEMS/Communication2016Q1/plot_TS_diagram_all.py:    cbar = plt.colorbar(extend='max')\n",
      "/home/ctroupin/Projects/SOCIB_plots/Projects/CMEMS/Communication2016Q1/plot_TS_diagram_all.py:    cbar.set_label('Depth\\n(m)', rotation=0, ha='left')\n",
      "/home/ctroupin/Projects/SOCIB_plots/Projects/CMEMS/Communication2016Q1/Argo_functions.py:    cbar = plt.colorbar()\n",
      "/home/ctroupin/Projects/SOCIB_plots/Projects/CMEMS/Communication2016Q1/Argo_functions.py:    cbar.set_label('Depth\\n(m)', rotation=0, ha='left')\n",
      "/home/ctroupin/Projects/SOCIB_plots/Projects/CMEMS/Communication2016Q1/plot_MLD_profilers.py:    cbar = plt.colorbar(extend='max', shrink=0.55)\n",
      "/home/ctroupin/Projects/SOCIB_plots/Projects/CMEMS/Communication2016Q1/plot_MLD_profilers.py:    cbar.set_label('MLD\\n(m)', rotation=0, ha='left')\n",
      "/home/ctroupin/Projects/SOCIB_plots/Projects/CMEMS/Communication2016Q1/plot_MLD_profilers.py:    cbar.solids.set(alpha=1)\n",
      "/home/ctroupin/Projects/SOCIB_plots/Projects/CMEMS/Communication2016Q1/plot_MLD_profilers.py:    cbar.set_ticks(range(0, 151, 25))\n",
      "/home/ctroupin/Projects/SOCIB_plots/Projects/CMEMS/DataPlots/plot_drifter_global_interp.py:cbar = plt.colorbar(scat, cmap=cmapsst, norm=normsst, extend='both', shrink=0.7)\n",
      "/home/ctroupin/Projects/SOCIB_plots/Projects/CMEMS/DataPlots/plot_drifter_global_interp.py:cbar.set_label('$^{\\circ}$C', rotation=0, ha='left')\n",
      "/home/ctroupin/Projects/SOCIB_plots/Projects/CMEMS/DataPlots/plot_drifter_global_bin.py:    cbar = plt.colorbar(pcm, cmap=cmapsst, norm=normsst, extend='both', shrink=0.7)\n",
      "/home/ctroupin/Projects/SOCIB_plots/Projects/CMEMS/DataPlots/plot_drifter_global_bin.py:    cbar.set_label('$^{\\circ}$C', rotation=0, ha='left')\n",
      "/home/ctroupin/Projects/SOCIB_plots/Projects/CMEMS/DataPlots/plot_drifter_global.py:    cbar = plt.colorbar(scat, cmap=cmapsst, norm=normsst, extend='both', shrink=0.7)\n",
      "/home/ctroupin/Projects/SOCIB_plots/Projects/CMEMS/DataPlots/plot_drifter_global.py:    cbar.set_label('$^{\\circ}$C', rotation=0, ha='left')\n",
      "/home/ctroupin/Projects/SOCIB_plots/test/test_animation_WMPO.py:cbar = plt.colorbar(pcm, norm=normvort, cmap=cmapvort, orientation='vertical', pad=0.05, aspect=15,\n",
      "/home/ctroupin/Projects/SOCIB_plots/test/test_animation_WMPO.py:    #cbar = plt.colorbar(pcm, norm=normvort, cmap=cmapvort, orientation='vertical', pad=0.05, aspect=15,\n",
      "/home/ctroupin/Projects/SOCIB_plots/Drifters/plot_drifter_temperature.py:cbar = plt.colorbar(scat, extend='both', pad=0.05, cmap=cmap, norm=norm, orientation='horizontal')\n",
      "/home/ctroupin/Projects/SOCIB_plots/Drifters/plot_drifter_temperature.py:cbar.set_ticks(bounds)\n",
      "/home/ctroupin/Projects/SOCIB_plots/Drifters/plot_drifter_temperature.py:cbar.set_label('$^{\\circ}$C')\n",
      "/home/ctroupin/Projects/SOCIB_plots/Drifters/plot_canary_drifters_visible.py:    cbar=fig.colorbar(contoursst,orientation='horizontal',\\\n",
      "/home/ctroupin/Projects/SOCIB_plots/Drifters/plot_canary_drifters_visible.py:    cbar.set_label(r'($^{\\circ}$C)',fontname='Times New Roman',fontsize=16,rotation=0)\n",
      "/home/ctroupin/Projects/SOCIB_plots/Drifters/plot_canary_drifters_visible.py:    cbar.set_ticks(newticks)\n",
      "/home/ctroupin/Projects/SOCIB_plots/Drifters/plot_all_drifter_positions.py:cbar = fig.colorbar(p1, cmap=cmapsst, norm=normsst, orientation='vertical', pad=0.025, aspect=15, shrink=0.9,\n",
      "/home/ctroupin/Projects/SOCIB_plots/Drifters/plot_all_drifter_positions.py:cbar.set_ticks(boundsst)\n",
      "/home/ctroupin/Projects/SOCIB_plots/Drifters/plot_all_drifter_positions.py:cbar.set_label(r'$^{\\circ}$C', fontsize=16, rotation=0, ha='left')\n",
      "/home/ctroupin/Projects/SOCIB_plots/Animations/animation_drifter_alborex_visible.py:cbar = fig.colorbar(p1, cmap=cmapsst, norm=normsst, orientation='vertical', pad=0.025, aspect=15, shrink=0.75,\n",
      "/home/ctroupin/Projects/SOCIB_plots/Animations/animation_drifter_alborex_visible.py:cbar.set_ticks(boundsst)\n",
      "/home/ctroupin/Projects/SOCIB_plots/Animations/animation_drifter_alborex_visible.py:cbar.set_label(r'$^{\\circ}$C', fontsize=16, rotation=0, ha='left')\n",
      "/home/ctroupin/Projects/SOCIB_plots/Animations/plot_anim_wmop.py:#    cbar = plt.colorbar(pcm, norm=norm, cmap=cmap, orientation='vertical', pad=0.05, aspect=15,\n",
      "/home/ctroupin/Projects/SOCIB_plots/Animations/plot_anim_wmop.py:#    cbar.set_ticks(bounds)\n",
      "/home/ctroupin/Projects/SOCIB_plots/Animations/animation_drifter_alborex_visible_game.py:cbar = fig.colorbar(p1, cmap=cmapsst, norm=normsst, orientation='vertical', pad=0.025, aspect=15, shrink=0.75,\n",
      "/home/ctroupin/Projects/SOCIB_plots/Animations/animation_drifter_alborex_visible_game.py:cbar.set_ticks(boundsst)\n",
      "/home/ctroupin/Projects/SOCIB_plots/Animations/animation_drifter_alborex_visible_game.py:cbar.set_label(r'$^{\\circ}$C', fontsize=16, rotation=0, ha='left')\n",
      "/home/ctroupin/Projects/SOCIB_plots/Animations/plot_anim_wmop_black.py:#    cbar = plt.colorbar(pcm, norm=norm, cmap=cmap, orientation='vertical', pad=0.05, aspect=15,\n",
      "/home/ctroupin/Projects/SOCIB_plots/Animations/plot_anim_wmop_black.py:#    cbar.set_ticks(bounds)\n",
      "/home/ctroupin/Projects/SOCIB_plots/Animations/animation_drifter_alborex_visible2.py:cbar = fig.colorbar(p1, cmap=cmapsst, norm=normsst, orientation='vertical', pad=0.025, aspect=15, shrink=0.75,\n",
      "/home/ctroupin/Projects/SOCIB_plots/Animations/animation_drifter_alborex_visible2.py:cbar.set_ticks(boundsst)\n",
      "/home/ctroupin/Projects/SOCIB_plots/Animations/animation_drifter_alborex_visible2.py:cbar.set_label(r'$^{\\circ}$C', fontsize=16, rotation=0, ha='left')\n",
      "/home/ctroupin/Projects/SOCIB_plots/Animations/plot_anim_wmop_latest.py:#    cbar = plt.colorbar(pcm, norm=norm, cmap=cmap, orientation='vertical', pad=0.05, aspect=15,\n",
      "/home/ctroupin/Projects/SOCIB_plots/Animations/plot_anim_wmop_latest.py:#    cbar.set_ticks(bounds)\n",
      "/home/ctroupin/Projects/SOCIB_plots/plot_functions.py:    cbar = plt.colorbar(pcm, extend='both', cax=cax)\n",
      "/home/ctroupin/Projects/SOCIB_plots/plot_functions.py:    cbar.set_label('^{\\circ}C', rotation=0, horizontalalignement='left')\n",
      "/home/ctroupin/Projects/SOCIB_plots/HFradar/plot_radar_velocity_vorticity_netcdf.py:            cbar=fig.colorbar(Q,cmap=cmap,norm=norm2,orientation='vertical',pad=0.025,aspect=15,extend='both')\n",
      "/home/ctroupin/Projects/SOCIB_plots/HFradar/plot_radar_velocity_vorticity_netcdf.py:            cbar.set_label(r'$\\xi/f$',fontname='Times New Roman',fontsize=18,rotation=0)\n"
     ]
    },
    {
     "name": "stdout",
     "output_type": "stream",
     "text": [
      "/home/ctroupin/Projects/SOCIB_plots/HFradar/plot_radar_velocity_vorticity_netcdf.py:            cbar.set_ticks(bounds2)\n",
      "/home/ctroupin/Projects/SOCIB_plots/HFradar/plot_radar_velocity_vorticity_netcdf.py:            cbar.set_clim((vmin,vmax,))\n",
      "/home/ctroupin/Projects/SOCIB_plots/HFradar/plot_radar_velocity_vorticity_netcdf.py:            cbar.ax.set_yticklabels(bounds2,fontname='Times New Roman',fontsize=16)\n",
      "/home/ctroupin/Projects/SOCIB_plots/HFradar/plot_radar_velocity_vorticity_netcdf.py:            cbar.set_cmap(plt.cm.spectral)\n",
      "/home/ctroupin/Projects/SOCIB_plots/HFradar/plot_radar_velocity_vorticity_netcdf.py:            cbar.set_norm(norm2)\n",
      "/home/ctroupin/Projects/SOCIB_plots/HFradar/plot_radar_velocity_visible.py:            cbar=fig.colorbar(pcm,cmap=cmap,orientation='vertical',pad=0.025,aspect=15)\n",
      "/home/ctroupin/Projects/SOCIB_plots/HFradar/plot_radar_velocity_visible.py:            cbar.set_label(r'$\\xi/f$',fontname='Times New Roman',fontsize=18)\n",
      "/home/ctroupin/Projects/SOCIB_plots/HFradar/plot_radar_velocity_visible.py:            cbar.set_ticks(bounds2)\n",
      "/home/ctroupin/Projects/SOCIB_plots/HFradar/plot_radar_velocity_visible.py:            cbar.set_clim((vmin,vmax,))\n",
      "/home/ctroupin/Projects/SOCIB_plots/HFradar/plot_radar_velocity_visible.py:            cbar.ax.set_yticklabels(bounds2,fontname='Times New Roman',fontsize=16)\n",
      "/home/ctroupin/Projects/SOCIB_plots/HFradar/plot_radar_velocity_visible.py:            cbar.set_cmap(plt.cm.spectral)\n",
      "/home/ctroupin/Projects/SOCIB_plots/HFradar/plot_radar_velocity_visible.py:            cbar.set_norm(norm2)\n",
      "grep: /home/ctroupin/Projects/divand-WPS/divand.py: Is a directory\n",
      "/home/ctroupin/Projects/Altimetry-Interpolation/python/divaaltimetry.py:        cbar = plt.colorbar(pcm, shrink=.5, extend='both')\n",
      "/home/ctroupin/Projects/Altimetry-Interpolation/python/divaaltimetry.py:        cbar.set_label(\"m\", fontsize=12, rotation=0)\n",
      "/home/ctroupin/Projects/Altimetry-Interpolation/python/divaaltimetry.py:            cbar_ax = fig.add_axes([0.875, 0.15, 0.05, 0.7])\n",
      "/home/ctroupin/Projects/Altimetry-Interpolation/python/divaaltimetry.py:            plt.colorbar(pcm, cax=cbar_ax, extend=\"both\")\n",
      "/home/ctroupin/Projects/Altimetry-Interpolation/python/divaaltimetry.py:    cbar = plt.colorbar(shrink=.5, extend='both')\n",
      "/home/ctroupin/Projects/Altimetry-Interpolation/python/divaaltimetry.py:    cbar.set_label(\"m\", fontsize=12, rotation=0)\n"
     ]
    },
    {
     "ename": "",
     "evalue": "1",
     "output_type": "error",
     "traceback": []
    }
   ],
   "source": [
    "find /home/ctroupin/Projects -name '*.py' -exec grep -i 'cbar.' {} +"
   ]
  },
  {
   "cell_type": "code",
   "execution_count": 3,
   "metadata": {},
   "outputs": [
    {
     "name": "stdout",
     "output_type": "stream",
     "text": [
      "find: ‘/home/ctroupin/.cache/dconf’: Permission denied\n",
      "/home/ctroupin/.julia/v0.6/Conda/deps/usr/pkgs/scipy-0.19.1-np113py27_0/lib/python2.7/site-packages/scipy/interpolate/interpolate.py:    Contrary to LinearNDInterpolator and NearestNDInterpolator, this class\n",
      "/home/ctroupin/.julia/v0.6/Conda/deps/usr/pkgs/scipy-0.19.1-np113py27_0/lib/python2.7/site-packages/scipy/interpolate/interpolate.py:    LinearNDInterpolator : Piecewise linear interpolant on unstructured data\n",
      "/home/ctroupin/.julia/v0.6/Conda/deps/usr/pkgs/scipy-0.19.1-np113py27_0/lib/python2.7/site-packages/scipy/interpolate/interpolate.py:    LinearNDInterpolator : Piecewise linear interpolant on unstructured data\n",
      "/home/ctroupin/.julia/v0.6/Conda/deps/usr/pkgs/scipy-0.19.1-np113py27_0/lib/python2.7/site-packages/scipy/interpolate/__init__.py:   LinearNDInterpolator\n",
      "/home/ctroupin/.julia/v0.6/Conda/deps/usr/pkgs/scipy-0.19.1-np113py27_0/lib/python2.7/site-packages/scipy/interpolate/ndgriddata.py:from .interpnd import LinearNDInterpolator, NDInterpolatorBase, \\\n",
      "/home/ctroupin/.julia/v0.6/Conda/deps/usr/pkgs/scipy-0.19.1-np113py27_0/lib/python2.7/site-packages/scipy/interpolate/ndgriddata.py:__all__ = ['griddata', 'NearestNDInterpolator', 'LinearNDInterpolator',\n",
      "/home/ctroupin/.julia/v0.6/Conda/deps/usr/pkgs/scipy-0.19.1-np113py27_0/lib/python2.7/site-packages/scipy/interpolate/ndgriddata.py:          `LinearNDInterpolator` for more details.\n",
      "/home/ctroupin/.julia/v0.6/Conda/deps/usr/pkgs/scipy-0.19.1-np113py27_0/lib/python2.7/site-packages/scipy/interpolate/ndgriddata.py:        ip = LinearNDInterpolator(points, values, fill_value=fill_value,\n",
      "/home/ctroupin/.julia/v0.6/Conda/deps/usr/pkgs/scipy-0.19.1-np113py27_0/lib/python2.7/site-packages/scipy/interpolate/tests/test_interpnd.py:        yi = interpnd.LinearNDInterpolator(x, y)(x)\n",
      "/home/ctroupin/.julia/v0.6/Conda/deps/usr/pkgs/scipy-0.19.1-np113py27_0/lib/python2.7/site-packages/scipy/interpolate/tests/test_interpnd.py:        yi = interpnd.LinearNDInterpolator((x[:,0], x[:,1]), y)(x[:,0], x[:,1])\n",
      "/home/ctroupin/.julia/v0.6/Conda/deps/usr/pkgs/scipy-0.19.1-np113py27_0/lib/python2.7/site-packages/scipy/interpolate/tests/test_interpnd.py:        yi = interpnd.LinearNDInterpolator(x, y)(x)\n",
      "/home/ctroupin/.julia/v0.6/Conda/deps/usr/pkgs/scipy-0.19.1-np113py27_0/lib/python2.7/site-packages/scipy/interpolate/tests/test_interpnd.py:        yi = interpnd.LinearNDInterpolator(tri, y)(x)\n",
      "/home/ctroupin/.julia/v0.6/Conda/deps/usr/pkgs/scipy-0.19.1-np113py27_0/lib/python2.7/site-packages/scipy/interpolate/tests/test_interpnd.py:        zi = interpnd.LinearNDInterpolator(points, values)(xi)\n",
      "/home/ctroupin/.julia/v0.6/Conda/deps/usr/pkgs/scipy-0.19.1-np113py27_0/lib/python2.7/site-packages/scipy/interpolate/tests/test_interpnd.py:        yi = interpnd.LinearNDInterpolator(x, y, rescale=True)(x)\n",
      "/home/ctroupin/.julia/v0.6/Conda/deps/usr/pkgs/scipy-0.19.1-np113py27_0/lib/python2.7/site-packages/scipy/interpolate/tests/test_interpnd.py:        zi = interpnd.LinearNDInterpolator(points, values)(xi)\n",
      "/home/ctroupin/.julia/v0.6/Conda/deps/usr/pkgs/scipy-0.19.1-np113py27_0/lib/python2.7/site-packages/scipy/interpolate/tests/test_interpnd.py:        zi_rescaled = interpnd.LinearNDInterpolator(points, values,\n",
      "/home/ctroupin/.julia/v0.6/Conda/deps/usr/pkgs/scipy-0.19.1-np113py27_0/lib/python2.7/site-packages/scipy/interpolate/tests/test_interpnd.py:        yi = interpnd.LinearNDInterpolator(tri.points, y)(x)\n",
      "/home/ctroupin/.julia/v0.6/Conda/deps/usr/pkgs/scipy-0.19.1-np113py27_0/lib/python2.7/site-packages/scipy/interpolate/tests/test_interpnd.py:        yi_rescale = interpnd.LinearNDInterpolator(tri.points, y,\n",
      "/home/ctroupin/.julia/v0.6/Conda/deps/usr/pkgs/scipy-0.19.1-np113py27_0/lib/python2.7/site-packages/scipy/interpolate/tests/test_interpnd.py:            interpnd.LinearNDInterpolator(tri, y, rescale=True)(x)\n",
      "/home/ctroupin/.julia/v0.6/Conda/deps/usr/pkgs/scipy-0.19.1-np113py27_0/lib/python2.7/site-packages/scipy/interpolate/tests/test_interpnd.py:        ip = interpnd.LinearNDInterpolator(x, y)\n",
      "/home/ctroupin/.julia/v0.6/Conda/deps/usr/pkgs/scipy-0.19.1-np113py27_0/lib/python2.7/site-packages/scipy/interpolate/tests/test_interpolate.py:         RegularGridInterpolator, LinearNDInterpolator, NearestNDInterpolator,\n",
      "/home/ctroupin/.julia/v0.6/Conda/deps/usr/pkgs/scipy-0.19.1-np113py27_0/lib/python2.7/site-packages/scipy/interpolate/tests/test_interpolate.py:        interp_qhull = LinearNDInterpolator(points_qhull, values_qhull)\n",
      "/home/ctroupin/.julia/v0.6/Conda/deps/usr/pkgs/scipy-1.0.0-py27hf5f0f52_0/lib/python2.7/site-packages/scipy/interpolate/interpolate.py:    Contrary to LinearNDInterpolator and NearestNDInterpolator, this class\n",
      "/home/ctroupin/.julia/v0.6/Conda/deps/usr/pkgs/scipy-1.0.0-py27hf5f0f52_0/lib/python2.7/site-packages/scipy/interpolate/interpolate.py:    LinearNDInterpolator : Piecewise linear interpolant on unstructured data\n",
      "/home/ctroupin/.julia/v0.6/Conda/deps/usr/pkgs/scipy-1.0.0-py27hf5f0f52_0/lib/python2.7/site-packages/scipy/interpolate/interpolate.py:    LinearNDInterpolator : Piecewise linear interpolant on unstructured data\n",
      "/home/ctroupin/.julia/v0.6/Conda/deps/usr/pkgs/scipy-1.0.0-py27hf5f0f52_0/lib/python2.7/site-packages/scipy/interpolate/__init__.py:   LinearNDInterpolator\n",
      "/home/ctroupin/.julia/v0.6/Conda/deps/usr/pkgs/scipy-1.0.0-py27hf5f0f52_0/lib/python2.7/site-packages/scipy/interpolate/ndgriddata.py:from .interpnd import LinearNDInterpolator, NDInterpolatorBase, \\\n",
      "/home/ctroupin/.julia/v0.6/Conda/deps/usr/pkgs/scipy-1.0.0-py27hf5f0f52_0/lib/python2.7/site-packages/scipy/interpolate/ndgriddata.py:__all__ = ['griddata', 'NearestNDInterpolator', 'LinearNDInterpolator',\n",
      "/home/ctroupin/.julia/v0.6/Conda/deps/usr/pkgs/scipy-1.0.0-py27hf5f0f52_0/lib/python2.7/site-packages/scipy/interpolate/ndgriddata.py:          `LinearNDInterpolator` for more details.\n",
      "/home/ctroupin/.julia/v0.6/Conda/deps/usr/pkgs/scipy-1.0.0-py27hf5f0f52_0/lib/python2.7/site-packages/scipy/interpolate/ndgriddata.py:        ip = LinearNDInterpolator(points, values, fill_value=fill_value,\n",
      "/home/ctroupin/.julia/v0.6/Conda/deps/usr/pkgs/scipy-1.0.0-py27hf5f0f52_0/lib/python2.7/site-packages/scipy/interpolate/tests/test_interpnd.py:        yi = interpnd.LinearNDInterpolator(x, y)(x)\n",
      "/home/ctroupin/.julia/v0.6/Conda/deps/usr/pkgs/scipy-1.0.0-py27hf5f0f52_0/lib/python2.7/site-packages/scipy/interpolate/tests/test_interpnd.py:        yi = interpnd.LinearNDInterpolator((x[:,0], x[:,1]), y)(x[:,0], x[:,1])\n",
      "/home/ctroupin/.julia/v0.6/Conda/deps/usr/pkgs/scipy-1.0.0-py27hf5f0f52_0/lib/python2.7/site-packages/scipy/interpolate/tests/test_interpnd.py:        yi = interpnd.LinearNDInterpolator(x, y)(x)\n",
      "/home/ctroupin/.julia/v0.6/Conda/deps/usr/pkgs/scipy-1.0.0-py27hf5f0f52_0/lib/python2.7/site-packages/scipy/interpolate/tests/test_interpnd.py:        yi = interpnd.LinearNDInterpolator(tri, y)(x)\n",
      "/home/ctroupin/.julia/v0.6/Conda/deps/usr/pkgs/scipy-1.0.0-py27hf5f0f52_0/lib/python2.7/site-packages/scipy/interpolate/tests/test_interpnd.py:        zi = interpnd.LinearNDInterpolator(points, values)(xi)\n",
      "/home/ctroupin/.julia/v0.6/Conda/deps/usr/pkgs/scipy-1.0.0-py27hf5f0f52_0/lib/python2.7/site-packages/scipy/interpolate/tests/test_interpnd.py:        yi = interpnd.LinearNDInterpolator(x, y, rescale=True)(x)\n",
      "/home/ctroupin/.julia/v0.6/Conda/deps/usr/pkgs/scipy-1.0.0-py27hf5f0f52_0/lib/python2.7/site-packages/scipy/interpolate/tests/test_interpnd.py:        zi = interpnd.LinearNDInterpolator(points, values)(xi)\n",
      "/home/ctroupin/.julia/v0.6/Conda/deps/usr/pkgs/scipy-1.0.0-py27hf5f0f52_0/lib/python2.7/site-packages/scipy/interpolate/tests/test_interpnd.py:        zi_rescaled = interpnd.LinearNDInterpolator(points, values,\n",
      "/home/ctroupin/.julia/v0.6/Conda/deps/usr/pkgs/scipy-1.0.0-py27hf5f0f52_0/lib/python2.7/site-packages/scipy/interpolate/tests/test_interpnd.py:        yi = interpnd.LinearNDInterpolator(tri.points, y)(x)\n",
      "/home/ctroupin/.julia/v0.6/Conda/deps/usr/pkgs/scipy-1.0.0-py27hf5f0f52_0/lib/python2.7/site-packages/scipy/interpolate/tests/test_interpnd.py:        yi_rescale = interpnd.LinearNDInterpolator(tri.points, y,\n",
      "/home/ctroupin/.julia/v0.6/Conda/deps/usr/pkgs/scipy-1.0.0-py27hf5f0f52_0/lib/python2.7/site-packages/scipy/interpolate/tests/test_interpnd.py:            interpnd.LinearNDInterpolator(tri, y, rescale=True)(x)\n"
     ]
    },
    {
     "name": "stdout",
     "output_type": "stream",
     "text": [
      "/home/ctroupin/.julia/v0.6/Conda/deps/usr/pkgs/scipy-1.0.0-py27hf5f0f52_0/lib/python2.7/site-packages/scipy/interpolate/tests/test_interpnd.py:        ip = interpnd.LinearNDInterpolator(x, y)\n",
      "/home/ctroupin/.julia/v0.6/Conda/deps/usr/pkgs/scipy-1.0.0-py27hf5f0f52_0/lib/python2.7/site-packages/scipy/interpolate/tests/test_interpolate.py:         RegularGridInterpolator, LinearNDInterpolator, NearestNDInterpolator,\n",
      "/home/ctroupin/.julia/v0.6/Conda/deps/usr/pkgs/scipy-1.0.0-py27hf5f0f52_0/lib/python2.7/site-packages/scipy/interpolate/tests/test_interpolate.py:        interp_qhull = LinearNDInterpolator(points_qhull, values_qhull)\n",
      "/home/ctroupin/.julia/v0.6/Conda/deps/usr/lib/python2.7/site-packages/scipy/interpolate/interpolate.py:    Contrary to LinearNDInterpolator and NearestNDInterpolator, this class\n",
      "/home/ctroupin/.julia/v0.6/Conda/deps/usr/lib/python2.7/site-packages/scipy/interpolate/interpolate.py:    LinearNDInterpolator : Piecewise linear interpolant on unstructured data\n",
      "/home/ctroupin/.julia/v0.6/Conda/deps/usr/lib/python2.7/site-packages/scipy/interpolate/interpolate.py:    LinearNDInterpolator : Piecewise linear interpolant on unstructured data\n",
      "/home/ctroupin/.julia/v0.6/Conda/deps/usr/lib/python2.7/site-packages/scipy/interpolate/__init__.py:   LinearNDInterpolator\n",
      "/home/ctroupin/.julia/v0.6/Conda/deps/usr/lib/python2.7/site-packages/scipy/interpolate/ndgriddata.py:from .interpnd import LinearNDInterpolator, NDInterpolatorBase, \\\n",
      "/home/ctroupin/.julia/v0.6/Conda/deps/usr/lib/python2.7/site-packages/scipy/interpolate/ndgriddata.py:__all__ = ['griddata', 'NearestNDInterpolator', 'LinearNDInterpolator',\n",
      "/home/ctroupin/.julia/v0.6/Conda/deps/usr/lib/python2.7/site-packages/scipy/interpolate/ndgriddata.py:          `LinearNDInterpolator` for more details.\n",
      "/home/ctroupin/.julia/v0.6/Conda/deps/usr/lib/python2.7/site-packages/scipy/interpolate/ndgriddata.py:        ip = LinearNDInterpolator(points, values, fill_value=fill_value,\n",
      "/home/ctroupin/.julia/v0.6/Conda/deps/usr/lib/python2.7/site-packages/scipy/interpolate/tests/test_interpnd.py:        yi = interpnd.LinearNDInterpolator(x, y)(x)\n",
      "/home/ctroupin/.julia/v0.6/Conda/deps/usr/lib/python2.7/site-packages/scipy/interpolate/tests/test_interpnd.py:        yi = interpnd.LinearNDInterpolator((x[:,0], x[:,1]), y)(x[:,0], x[:,1])\n",
      "/home/ctroupin/.julia/v0.6/Conda/deps/usr/lib/python2.7/site-packages/scipy/interpolate/tests/test_interpnd.py:        yi = interpnd.LinearNDInterpolator(x, y)(x)\n",
      "/home/ctroupin/.julia/v0.6/Conda/deps/usr/lib/python2.7/site-packages/scipy/interpolate/tests/test_interpnd.py:        yi = interpnd.LinearNDInterpolator(tri, y)(x)\n",
      "/home/ctroupin/.julia/v0.6/Conda/deps/usr/lib/python2.7/site-packages/scipy/interpolate/tests/test_interpnd.py:        zi = interpnd.LinearNDInterpolator(points, values)(xi)\n",
      "/home/ctroupin/.julia/v0.6/Conda/deps/usr/lib/python2.7/site-packages/scipy/interpolate/tests/test_interpnd.py:        yi = interpnd.LinearNDInterpolator(x, y, rescale=True)(x)\n",
      "/home/ctroupin/.julia/v0.6/Conda/deps/usr/lib/python2.7/site-packages/scipy/interpolate/tests/test_interpnd.py:        zi = interpnd.LinearNDInterpolator(points, values)(xi)\n",
      "/home/ctroupin/.julia/v0.6/Conda/deps/usr/lib/python2.7/site-packages/scipy/interpolate/tests/test_interpnd.py:        zi_rescaled = interpnd.LinearNDInterpolator(points, values,\n",
      "/home/ctroupin/.julia/v0.6/Conda/deps/usr/lib/python2.7/site-packages/scipy/interpolate/tests/test_interpnd.py:        yi = interpnd.LinearNDInterpolator(tri.points, y)(x)\n",
      "/home/ctroupin/.julia/v0.6/Conda/deps/usr/lib/python2.7/site-packages/scipy/interpolate/tests/test_interpnd.py:        yi_rescale = interpnd.LinearNDInterpolator(tri.points, y,\n",
      "/home/ctroupin/.julia/v0.6/Conda/deps/usr/lib/python2.7/site-packages/scipy/interpolate/tests/test_interpnd.py:            interpnd.LinearNDInterpolator(tri, y, rescale=True)(x)\n",
      "/home/ctroupin/.julia/v0.6/Conda/deps/usr/lib/python2.7/site-packages/scipy/interpolate/tests/test_interpnd.py:        ip = interpnd.LinearNDInterpolator(x, y)\n",
      "/home/ctroupin/.julia/v0.6/Conda/deps/usr/lib/python2.7/site-packages/scipy/interpolate/tests/test_interpolate.py:         RegularGridInterpolator, LinearNDInterpolator, NearestNDInterpolator,\n",
      "/home/ctroupin/.julia/v0.6/Conda/deps/usr/lib/python2.7/site-packages/scipy/interpolate/tests/test_interpolate.py:        interp_qhull = LinearNDInterpolator(points_qhull, values_qhull)\n",
      "find: ‘/home/ctroupin/.dbus’: Permission denied\n",
      "/home/ctroupin/IMEDEA/GAltika/Python/compare_glider_altimetry.py:MDTinterpolator = interpolate.LinearNDInterpolator(np.column_stack((llonMDT.flatten(),llatMDT.flatten())),MDT.flatten())\n",
      "/home/ctroupin/IMEDEA/AltimetryReport/PythonTools/compute_alongtrack_velocity5.py:MDTinterpolator = interpolate.LinearNDInterpolator(np.column_stack((llonMDT.flatten(),llatMDT.flatten())),MDT.flatten())\n",
      "/home/ctroupin/IMEDEA/AltimetryReport/PythonTools/Filters/plot_filter_ADT_DH_altika3.py:# (use  LinearNDInterpolator)\n",
      "/home/ctroupin/IMEDEA/AltimetryReport/PythonTools/Filters/plot_filter_ADT_DH_altika3.py:u_interpolator = interpolate.LinearNDInterpolator(np.column_stack((lonradar.flatten(),latradar.flatten())),uradarmean1.flatten())\n",
      "/home/ctroupin/IMEDEA/AltimetryReport/PythonTools/Filters/plot_filter_ADT_DH_altika3.py:v_interpolator = interpolate.LinearNDInterpolator(np.column_stack((lonradar.flatten(),latradar.flatten())),vradarmean1.flatten())\n",
      "/home/ctroupin/IMEDEA/AltimetryReport/PythonTools/Filters/plot_filter_ADT_DH_altika3.py:u_interpolator = interpolate.LinearNDInterpolator(np.column_stack((lonradar.flatten(),latradar.flatten())),uradarmean2.flatten())\n",
      "/home/ctroupin/IMEDEA/AltimetryReport/PythonTools/Filters/plot_filter_ADT_DH_altika3.py:v_interpolator = interpolate.LinearNDInterpolator(np.column_stack((lonradar.flatten(),latradar.flatten())),vradarmean2.flatten())\n",
      "/home/ctroupin/IMEDEA/AltimetryReport/PythonTools/Filters/plot_filtered_radar_velocity_map.py:            u_interpolator = interpolate.LinearNDInterpolator(np.column_stack((lonradar1.flatten(),latradar1.flatten())),u2interp1.flatten())\n",
      "/home/ctroupin/IMEDEA/AltimetryReport/PythonTools/Filters/plot_filtered_radar_velocity_map.py:            v_interpolator = interpolate.LinearNDInterpolator(np.column_stack((lonradar1.flatten(),latradar1.flatten())),v2interp1.flatten())\n",
      "/home/ctroupin/IMEDEA/AltimetryReport/PythonTools/Filters/plot_filter_ADT_DH_altika6.py:# (use  LinearNDInterpolator)\n",
      "/home/ctroupin/IMEDEA/AltimetryReport/PythonTools/Filters/plot_filter_ADT_DH_altika6.py:u_interpolator = interpolate.LinearNDInterpolator(np.column_stack((lonradar.flatten(),latradar.flatten())),uradarmean1.flatten())\n",
      "/home/ctroupin/IMEDEA/AltimetryReport/PythonTools/Filters/plot_filter_ADT_DH_altika6.py:v_interpolator = interpolate.LinearNDInterpolator(np.column_stack((lonradar.flatten(),latradar.flatten())),vradarmean1.flatten())\n",
      "/home/ctroupin/IMEDEA/AltimetryReport/PythonTools/Filters/plot_filter_ADT_DH_altika6.py:u_interpolator = interpolate.LinearNDInterpolator(np.column_stack((lonradar.flatten(),latradar.flatten())),uradarmean2.flatten())\n",
      "/home/ctroupin/IMEDEA/AltimetryReport/PythonTools/Filters/plot_filter_ADT_DH_altika6.py:v_interpolator = interpolate.LinearNDInterpolator(np.column_stack((lonradar.flatten(),latradar.flatten())),vradarmean2.flatten())\n",
      "/home/ctroupin/IMEDEA/AltimetryReport/PythonTools/Filters/plot_filter_ADT_DH_altika4.py:# (use  LinearNDInterpolator)\n",
      "/home/ctroupin/IMEDEA/AltimetryReport/PythonTools/Filters/plot_filter_ADT_DH_altika4.py:u_interpolator = interpolate.LinearNDInterpolator(np.column_stack((lonradar.flatten(),latradar.flatten())),uradarmean1.flatten())\n",
      "/home/ctroupin/IMEDEA/AltimetryReport/PythonTools/Filters/plot_filter_ADT_DH_altika4.py:v_interpolator = interpolate.LinearNDInterpolator(np.column_stack((lonradar.flatten(),latradar.flatten())),vradarmean1.flatten())\n",
      "/home/ctroupin/IMEDEA/AltimetryReport/PythonTools/Filters/plot_filter_ADT_DH_altika4.py:u_interpolator = interpolate.LinearNDInterpolator(np.column_stack((lonradar.flatten(),latradar.flatten())),uradarmean2.flatten())\n",
      "/home/ctroupin/IMEDEA/AltimetryReport/PythonTools/Filters/plot_filter_ADT_DH_altika4.py:v_interpolator = interpolate.LinearNDInterpolator(np.column_stack((lonradar.flatten(),latradar.flatten())),vradarmean2.flatten())\n"
     ]
    },
    {
     "name": "stdout",
     "output_type": "stream",
     "text": [
      "/home/ctroupin/IMEDEA/AltimetryReport/PythonTools/Filters/plot_filter_ADT_DH_altika5.py:# (use  LinearNDInterpolator)\n",
      "/home/ctroupin/IMEDEA/AltimetryReport/PythonTools/Filters/plot_filter_ADT_DH_altika5.py:u_interpolator = interpolate.LinearNDInterpolator(np.column_stack((lonradar.flatten(),latradar.flatten())),uradarmean1.flatten())\n",
      "/home/ctroupin/IMEDEA/AltimetryReport/PythonTools/Filters/plot_filter_ADT_DH_altika5.py:v_interpolator = interpolate.LinearNDInterpolator(np.column_stack((lonradar.flatten(),latradar.flatten())),vradarmean1.flatten())\n",
      "/home/ctroupin/IMEDEA/AltimetryReport/PythonTools/Filters/plot_filter_ADT_DH_altika5.py:u_interpolator = interpolate.LinearNDInterpolator(np.column_stack((lonradar.flatten(),latradar.flatten())),uradarmean2.flatten())\n",
      "/home/ctroupin/IMEDEA/AltimetryReport/PythonTools/Filters/plot_filter_ADT_DH_altika5.py:v_interpolator = interpolate.LinearNDInterpolator(np.column_stack((lonradar.flatten(),latradar.flatten())),vradarmean2.flatten())\n",
      "/home/ctroupin/IMEDEA/AltimetryReport/PythonTools/Filters/plot_filter_ADT_DH_altika2.py:# (use  LinearNDInterpolator)\n",
      "/home/ctroupin/IMEDEA/AltimetryReport/PythonTools/Filters/plot_filter_ADT_DH_altika2.py:u_interpolator = interpolate.LinearNDInterpolator(np.column_stack((lonradar.flatten(),latradar.flatten())),uradarmean1.flatten())\n",
      "/home/ctroupin/IMEDEA/AltimetryReport/PythonTools/Filters/plot_filter_ADT_DH_altika2.py:v_interpolator = interpolate.LinearNDInterpolator(np.column_stack((lonradar.flatten(),latradar.flatten())),vradarmean1.flatten())\n",
      "/home/ctroupin/IMEDEA/AltimetryReport/PythonTools/Filters/plot_filter_ADT_DH_altika2.py:u_interpolator = interpolate.LinearNDInterpolator(np.column_stack((lonradar.flatten(),latradar.flatten())),uradarmean2.flatten())\n",
      "/home/ctroupin/IMEDEA/AltimetryReport/PythonTools/Filters/plot_filter_ADT_DH_altika2.py:v_interpolator = interpolate.LinearNDInterpolator(np.column_stack((lonradar.flatten(),latradar.flatten())),vradarmean2.flatten())\n",
      "/home/ctroupin/IMEDEA/AltimetryReport/PythonTools/Filters/plot_velocity_ADT_DH_altika_map.py:# (use  LinearNDInterpolator)\n",
      "/home/ctroupin/IMEDEA/AltimetryReport/PythonTools/Filters/plot_velocity_ADT_DH_altika_map.py:u_interpolator = interpolate.LinearNDInterpolator(np.column_stack((lonradar.flatten(),latradar.flatten())),uradarmean1.flatten())\n",
      "/home/ctroupin/IMEDEA/AltimetryReport/PythonTools/Filters/plot_velocity_ADT_DH_altika_map.py:v_interpolator = interpolate.LinearNDInterpolator(np.column_stack((lonradar.flatten(),latradar.flatten())),vradarmean1.flatten())\n",
      "/home/ctroupin/IMEDEA/AltimetryReport/PythonTools/Filters/plot_velocity_ADT_DH_altika_map.py:u_interpolator = interpolate.LinearNDInterpolator(np.column_stack((lonradar.flatten(),latradar.flatten())),uradarmean2.flatten())\n",
      "/home/ctroupin/IMEDEA/AltimetryReport/PythonTools/Filters/plot_velocity_ADT_DH_altika_map.py:v_interpolator = interpolate.LinearNDInterpolator(np.column_stack((lonradar.flatten(),latradar.flatten())),vradarmean2.flatten())\n",
      "/home/ctroupin/IMEDEA/AltimetryReport/PythonTools/Filters/plot_velocity_ADT_DH_altika2.py:# (use  LinearNDInterpolator)\n",
      "/home/ctroupin/IMEDEA/AltimetryReport/PythonTools/Filters/plot_velocity_ADT_DH_altika2.py:u_interpolator = interpolate.LinearNDInterpolator(np.column_stack((lonradar.flatten(),latradar.flatten())),uradarmean1.flatten())\n",
      "/home/ctroupin/IMEDEA/AltimetryReport/PythonTools/Filters/plot_velocity_ADT_DH_altika2.py:v_interpolator = interpolate.LinearNDInterpolator(np.column_stack((lonradar.flatten(),latradar.flatten())),vradarmean1.flatten())\n",
      "/home/ctroupin/IMEDEA/AltimetryReport/PythonTools/Filters/plot_velocity_ADT_DH_altika2.py:u_interpolator = interpolate.LinearNDInterpolator(np.column_stack((lonradar.flatten(),latradar.flatten())),uradarmean2.flatten())\n",
      "/home/ctroupin/IMEDEA/AltimetryReport/PythonTools/Filters/plot_velocity_ADT_DH_altika2.py:v_interpolator = interpolate.LinearNDInterpolator(np.column_stack((lonradar.flatten(),latradar.flatten())),vradarmean2.flatten())\n",
      "/home/ctroupin/IMEDEA/AltimetryReport/PythonTools/Filters/plot_filter_ADT_DH_altika7.py:# (use  LinearNDInterpolator)\n",
      "/home/ctroupin/IMEDEA/AltimetryReport/PythonTools/Filters/plot_filter_ADT_DH_altika7.py:u_interpolator = interpolate.LinearNDInterpolator(np.column_stack((lonradar.flatten(),latradar.flatten())),uradarmean1.flatten())\n",
      "/home/ctroupin/IMEDEA/AltimetryReport/PythonTools/Filters/plot_filter_ADT_DH_altika7.py:v_interpolator = interpolate.LinearNDInterpolator(np.column_stack((lonradar.flatten(),latradar.flatten())),vradarmean1.flatten())\n",
      "/home/ctroupin/IMEDEA/AltimetryReport/PythonTools/Filters/plot_filter_ADT_DH_altika7.py:u_interpolator = interpolate.LinearNDInterpolator(np.column_stack((lonradar.flatten(),latradar.flatten())),uradarmean2.flatten())\n",
      "/home/ctroupin/IMEDEA/AltimetryReport/PythonTools/Filters/plot_filter_ADT_DH_altika7.py:v_interpolator = interpolate.LinearNDInterpolator(np.column_stack((lonradar.flatten(),latradar.flatten())),vradarmean2.flatten())\n",
      "/home/ctroupin/IMEDEA/AltimetryReport/PythonTools/testing/test_interp_MDT.py:MDTinterp2 = interpolate.LinearNDInterpolator(np.column_stack((llonMDT.flatten(),llatMDT.flatten())),MDT.flatten())\n",
      "/home/ctroupin/IMEDEA/AltimetryReport/PythonTools/testing/test_interp_MDT.py:plt.title('LinearNDInterpolator',fontname='Times New Roman',fontsize=20)\n",
      "/home/ctroupin/IMEDEA/AltimetryReport/PythonTools/testing/test_interpolation_methods.py:# http://docs.scipy.org/doc/scipy/reference/generated/scipy.interpolate.LinearNDInterpolator.html\n",
      "/home/ctroupin/IMEDEA/AltimetryReport/PythonTools/testing/test_interpolation_methods.py:f3 = interpolate.LinearNDInterpolator(np.column_stack((xx.flatten(), yy.flatten() )),z.flatten())\n",
      "/home/ctroupin/IMEDEA/AltimetryReport/PythonTools/Glider/plot_glider_data.py:bathy_interpolator = interpolate.LinearNDInterpolator(np.column_stack((llonbathy.flatten(),llatbathy.flatten())),bathy.flatten())\n",
      "/home/ctroupin/IMEDEA/AltimetryReport/PythonTools/Glider/plot_glider_data2.py:bathy_interpolator = interpolate.LinearNDInterpolator(np.column_stack((lonbathy,latbathy)),bathy)\n",
      "/home/ctroupin/IMEDEA/AltimetryReport/PythonTools/compute_alongtrack_velocity3.py:MDTinterpolator = interpolate.LinearNDInterpolator(np.column_stack((llonMDT.flatten(),llatMDT.flatten())),MDT.flatten())\n",
      "/home/ctroupin/IMEDEA/AltimetryReport/PythonTools/compute_alongtrack_velocity4.py:MDTinterpolator = interpolate.LinearNDInterpolator(np.column_stack((llonMDT.flatten(),llatMDT.flatten())),MDT.flatten())\n",
      "/home/ctroupin/IMEDEA/AltimetryReport/PythonTools/radar/diva_plot_zeta_u_v_radar_ibiza4.py:    interpolator1 = interpolate.LinearNDInterpolator(np.column_stack((lonSLA2,latSLA2,)),uSLA2)\n",
      "/home/ctroupin/IMEDEA/AltimetryReport/PythonTools/radar/diva_plot_zeta_u_v_radar_ibiza4.py:    interpolator2 = interpolate.LinearNDInterpolator(np.column_stack((lonSLA2,latSLA2,)),vSLA2)\n",
      "/home/ctroupin/IMEDEA/AltimetryReport/PythonTools/radar/plot_radar_velocity_altika_track_timeseries.py:    # (use  LinearNDInterpolator)\n",
      "/home/ctroupin/IMEDEA/AltimetryReport/PythonTools/radar/plot_radar_velocity_altika_track_timeseries.py:    u_interpolator = interpolate.LinearNDInterpolator(np.column_stack((lonradar.flatten(),latradar.flatten())),uradar2plot.flatten())\n",
      "/home/ctroupin/IMEDEA/AltimetryReport/PythonTools/radar/plot_radar_velocity_altika_track_timeseries.py:    v_interpolator = interpolate.LinearNDInterpolator(np.column_stack((lonradar.flatten(),latradar.flatten())),vradar2plot.flatten())\n",
      "/home/ctroupin/IMEDEA/AltimetryReport/PythonTools/radar/plot_mean_radar_velocity_altika_track_timeseries.py:    # (use  LinearNDInterpolator)\n",
      "/home/ctroupin/IMEDEA/AltimetryReport/PythonTools/radar/plot_mean_radar_velocity_altika_track_timeseries.py:    u_interpolator = interpolate.LinearNDInterpolator(np.column_stack((lonradar.flatten(),latradar.flatten())),uradar2plot.flatten())\n",
      "/home/ctroupin/IMEDEA/AltimetryReport/PythonTools/radar/plot_mean_radar_velocity_altika_track_timeseries.py:    v_interpolator = interpolate.LinearNDInterpolator(np.column_stack((lonradar.flatten(),latradar.flatten())),vradar2plot.flatten())\n",
      "/home/ctroupin/IMEDEA/AltimetryReport/PythonTools/radar/aviso_plot_zeta_u_v_radar_ibiza.py:    interpolator1 = interpolate.LinearNDInterpolator(np.column_stack((lonSLA2,latSLA2,)),uSLA2)\n"
     ]
    },
    {
     "name": "stdout",
     "output_type": "stream",
     "text": [
      "/home/ctroupin/IMEDEA/AltimetryReport/PythonTools/radar/aviso_plot_zeta_u_v_radar_ibiza.py:    interpolator2 = interpolate.LinearNDInterpolator(np.column_stack((lonSLA2,latSLA2,)),vSLA2)\n",
      "/home/ctroupin/IMEDEA/AltimetryReport/PythonTools/radar/plot_radar_velocity_altika_track.py:# (use  LinearNDInterpolator)\n",
      "/home/ctroupin/IMEDEA/AltimetryReport/PythonTools/radar/plot_radar_velocity_altika_track.py:u_interpolator = interpolate.LinearNDInterpolator(np.column_stack((lonradar.flatten(),latradar.flatten())),uradarmean.flatten())\n",
      "/home/ctroupin/IMEDEA/AltimetryReport/PythonTools/radar/plot_radar_velocity_altika_track.py:v_interpolator = interpolate.LinearNDInterpolator(np.column_stack((lonradar.flatten(),latradar.flatten())),vradarmean.flatten())\n",
      "/home/ctroupin/IMEDEA/AltimetryReport/PythonTools/radar/plot_mean_radar_velocity_difference_altika_track_timeseries.py:# (use  LinearNDInterpolator)\n",
      "/home/ctroupin/IMEDEA/AltimetryReport/PythonTools/radar/plot_mean_radar_velocity_difference_altika_track_timeseries.py:u_interpolator = interpolate.LinearNDInterpolator(np.column_stack((lonradar.flatten(),latradar.flatten())),uradar2plot_ref.flatten())\n",
      "/home/ctroupin/IMEDEA/AltimetryReport/PythonTools/radar/plot_mean_radar_velocity_difference_altika_track_timeseries.py:v_interpolator = interpolate.LinearNDInterpolator(np.column_stack((lonradar.flatten(),latradar.flatten())),vradar2plot_ref.flatten())\n",
      "/home/ctroupin/IMEDEA/AltimetryReport/PythonTools/radar/plot_mean_radar_velocity_difference_altika_track_timeseries.py:    # (use  LinearNDInterpolator)\n",
      "/home/ctroupin/IMEDEA/AltimetryReport/PythonTools/radar/plot_mean_radar_velocity_difference_altika_track_timeseries.py:    u_interpolator = interpolate.LinearNDInterpolator(np.column_stack((lonradar.flatten(),latradar.flatten())),uradar2plot.flatten())\n",
      "/home/ctroupin/IMEDEA/AltimetryReport/PythonTools/radar/plot_mean_radar_velocity_difference_altika_track_timeseries.py:    v_interpolator = interpolate.LinearNDInterpolator(np.column_stack((lonradar.flatten(),latradar.flatten())),vradar2plot.flatten())\n",
      "/home/ctroupin/IMEDEA/AltimetryReport/PythonTools/radar/plot_radar_radials.py:# (use  LinearNDInterpolator)\n",
      "/home/ctroupin/IMEDEA/AltimetryReport/PythonTools/radar/plot_radar_radials.py:u_interpolator = interpolate.LinearNDInterpolator(np.column_stack((lonradar,latradar)),uradar)\n",
      "/home/ctroupin/IMEDEA/AltimetryReport/PythonTools/radar/plot_radar_radials.py:v_interpolator = interpolate.LinearNDInterpolator(np.column_stack((lonradar,latradar)),vradar)\n",
      "/home/ctroupin/IMEDEA/AltimetryReport/PythonTools/radar/plot_mean_radar_velocity_sst.py:    # (use  LinearNDInterpolator)\n",
      "/home/ctroupin/IMEDEA/AltimetryReport/PythonTools/radar/plot_mean_radar_velocity_sst.py:    u_interpolator = interpolate.LinearNDInterpolator(np.column_stack((lonradar.flatten(),latradar.flatten())),uradar2plot.flatten())\n",
      "/home/ctroupin/IMEDEA/AltimetryReport/PythonTools/radar/plot_mean_radar_velocity_sst.py:    v_interpolator = interpolate.LinearNDInterpolator(np.column_stack((lonradar.flatten(),latradar.flatten())),vradar2plot.flatten())\n",
      "/home/ctroupin/IMEDEA/AltimetryReport/PythonTools/radar/diva_plot_zeta_u_v_radar_ibiza3.py:    interpolator1 = interpolate.LinearNDInterpolator(np.column_stack((lonSLA2,latSLA2,)),uSLA2)\n",
      "/home/ctroupin/IMEDEA/AltimetryReport/PythonTools/radar/diva_plot_zeta_u_v_radar_ibiza3.py:    interpolator2 = interpolate.LinearNDInterpolator(np.column_stack((lonSLA2,latSLA2,)),vSLA2)\n",
      "/home/ctroupin/IMEDEA/AltimetryReport/PythonTools/radar/diva_plot_zeta_u_v_radar_ibiza2.py:    interpolator1 = interpolate.LinearNDInterpolator(np.column_stack((lonSLA2,latSLA2,)),uSLA2)\n",
      "/home/ctroupin/IMEDEA/AltimetryReport/PythonTools/radar/diva_plot_zeta_u_v_radar_ibiza2.py:    interpolator2 = interpolate.LinearNDInterpolator(np.column_stack((lonSLA2,latSLA2,)),vSLA2)\n",
      "/home/ctroupin/IMEDEA/AltimetryReport/PythonTools/drifter/plot_drifter_trajectory.py:##    MDTinterpolator = interpolate.LinearNDInterpolator(np.column_stack((llonMDT.flatten(),llatMDT.flatten())),MDT.flatten())\n",
      "/home/ctroupin/IMEDEA/AltimetryReport/PythonTools/drifter/compute_drifter_trajectory_DIVA.py:    Uinterpolator = interpolate.LinearNDInterpolator(np.column_stack((llon2.flatten(),llat2.flatten())),u2.flatten())\n",
      "/home/ctroupin/IMEDEA/AltimetryReport/PythonTools/drifter/compute_drifter_trajectory_DIVA.py:    Vinterpolator = interpolate.LinearNDInterpolator(np.column_stack((llon2.flatten(),llat2.flatten())),v2.flatten())\n",
      "/home/ctroupin/IMEDEA/AltimetryReport/PythonTools/drifter/average_drifter_velocity.py:    Uinterpolator = interpolate.LinearNDInterpolator(np.column_stack((llondiva2.flatten(),llatdiva2.flatten())),udiva2.flatten())\n",
      "/home/ctroupin/IMEDEA/AltimetryReport/PythonTools/drifter/average_drifter_velocity.py:    Vinterpolator = interpolate.LinearNDInterpolator(np.column_stack((llondiva2.flatten(),llatdiva2.flatten())),vdiva2.flatten())\n",
      "/home/ctroupin/IMEDEA/AltimetryReport/PythonTools/drifter/average_drifter_velocity.py:    Uinterpolator = interpolate.LinearNDInterpolator(np.column_stack((llonaviso2.flatten(),llataviso2.flatten())),uaviso2.flatten())\n",
      "/home/ctroupin/IMEDEA/AltimetryReport/PythonTools/drifter/average_drifter_velocity.py:    Vinterpolator = interpolate.LinearNDInterpolator(np.column_stack((llonaviso2.flatten(),llataviso2.flatten())),vaviso2.flatten())\n",
      "/home/ctroupin/IMEDEA/AltimetryReport/PythonTools/drifter/compute_drifter_trajectory_AVISO.py:    Uinterpolator = interpolate.LinearNDInterpolator(np.column_stack((llon2.flatten(),llat2.flatten())),u2.flatten())\n",
      "/home/ctroupin/IMEDEA/AltimetryReport/PythonTools/drifter/compute_drifter_trajectory_AVISO.py:    Vinterpolator = interpolate.LinearNDInterpolator(np.column_stack((llon2.flatten(),llat2.flatten())),v2.flatten())\n",
      "/home/ctroupin/IMEDEA/AltimetryReport/PythonTools/drifter/compute_drifter_trajectory_Diva_AVISO.py:    Uinterpolator = interpolate.LinearNDInterpolator(np.column_stack((llon2.flatten(),llat2.flatten())),u2.flatten())\n",
      "/home/ctroupin/IMEDEA/AltimetryReport/PythonTools/drifter/compute_drifter_trajectory_Diva_AVISO.py:    Vinterpolator = interpolate.LinearNDInterpolator(np.column_stack((llon2.flatten(),llat2.flatten())),v2.flatten())\n",
      "/home/ctroupin/IMEDEA/Alborex/Python/prepare_divafiles_glider.py:bathy_interpolator = interpolate.LinearNDInterpolator(np.column_stack((lonbathy,latbathy)),bathy)\n",
      "\n"
     ]
    }
   ],
   "source": [
    "find /home/ctroupin/ -name '*.py' -type f -exec grep -i 'LinearNDInterpolator' {} +"
   ]
  },
  {
   "cell_type": "code",
   "execution_count": 1,
   "metadata": {},
   "outputs": [
    {
     "name": "stdout",
     "output_type": "stream",
     "text": [
      "/home/ctroupin/Projects/LeafletMaps/Dineof/.ipynb_checkpoints/dineof_plot4leatlet-checkpoint.ipynb:    \"                    resolution = 'l', epsg=3857)\\n\",\n",
      "/home/ctroupin/Projects/LeafletMaps/Dineof/dineof_plot4leatlet.ipynb:    \"                    resolution = 'l', epsg=3857)\\n\",\n",
      "/home/ctroupin/Projects/DivaPythonTools/Notebooks/run_diva2D_folium.ipynb:    \"The key option to ensure the figure will fit on the map is [`epsg=3857`](https://epsg.io/3857), which states that we use the same projection as in google-maps and [OpenStreetMap](http://openstreetmap.org/).\"\n",
      "/home/ctroupin/Projects/DivaPythonTools/Notebooks/run_diva2D_folium.ipynb:    \"            resolution = 'l', epsg=3857)\\n\",\n",
      "/home/ctroupin/Projects/DivaPythonTools/Notebooks/plot_global_mesh.ipynb:    \"#            resolution = 'l', epsg=3857)\\n\",\n",
      "/home/ctroupin/Projects/DivaPythonTools/Notebooks/.ipynb_checkpoints/plot_global_mesh-checkpoint.ipynb:    \"#            resolution = 'l', epsg=3857)\\n\",\n",
      "/home/ctroupin/Projects/DivaPythonTools/Notebooks/.ipynb_checkpoints/run_diva2D_folium-checkpoint.ipynb:    \"The key option to ensure the figure will fit on the map is [`epsg=3857`](https://epsg.io/3857), which states that we use the same projection as in google-maps and [OpenStreetMap](http://openstreetmap.org/).\"\n",
      "/home/ctroupin/Projects/DivaPythonTools/Notebooks/.ipynb_checkpoints/run_diva2D_folium-checkpoint.ipynb:    \"            resolution = 'l', epsg=3857)\\n\",\n",
      "/home/ctroupin/Projects/DivaPythonTools/Notebooks/.ipynb_checkpoints/compare_icoord_mesh-checkpoint.ipynb:    \"#            resolution = 'l', epsg=3857)\\n\",\n",
      "/home/ctroupin/Projects/trail-running-maps/notebooks/GPS_hexbin.ipynb:    \"m = Basemap(epsg=4326,\\n\",\n",
      "/home/ctroupin/Projects/trail-running-maps/notebooks/.ipynb_checkpoints/GPS_hexbin-checkpoint.ipynb:    \"m = Basemap(epsg=4326,\\n\",\n",
      "/home/ctroupin/Projects/Archived/Stareso-Data-Processing/.ipynb_checkpoints/plot_stareso_SST-checkpoint.ipynb:    \"             urcrnrlat=coordinates[3], resolution = 'l', epsg=3857)\"\n",
      "/home/ctroupin/Projects/Archived/Stareso-Data-Processing/notebooks/plot_stareso_SST.ipynb:    \"             urcrnrlat=coordinates[3], resolution = 'l', epsg=3857)\"\n",
      "/home/ctroupin/Projects/Archived/Stareso-Data-Processing/notebooks/.ipynb_checkpoints/plot_stareso_SST-checkpoint.ipynb:    \"             urcrnrlat=coordinates[3], resolution = 'l', epsg=3857)\"\n",
      "/home/ctroupin/Projects/Archived/SOCIB_plots/Missions/Abacus/.ipynb_checkpoints/get_visible_image-checkpoint.ipynb:    \"       \\\"epsg=4326&\\\"\\n\",\n",
      "/home/ctroupin/Projects/Archived/SOCIB_plots/Projects/Rissaga/get_visible_image.ipynb:    \"       \\\"epsg=4326&\\\"\\n\",\n",
      "/home/ctroupin/Projects/Archived/SOCIB_plots/Projects/Rissaga/get_visible_image.ipynb:    \"       \\\"epsg=4326&\\\"\\n\",\n",
      "/home/ctroupin/Projects/Archived/SOCIB_plots/Projects/Rissaga/get_visible_image.ipynb:    \"    extent=-1.5232772478772887,35.47685181135699,6.589027439622711,42.53446899885699&epsg=4326&\\n\",\n",
      "/home/ctroupin/Projects/Archived/SOCIB_plots/Projects/Rissaga/get_visible_image.ipynb:      \"http://map2.vis.earthdata.nasa.gov/image-download?TIME=2015038&extent=-3.0847678764712523,34.724051833786476,5.669138373528748,41.017020583786476&epsg=4326&layers=VIIRS_SNPP_CorrectedReflectance_TrueColor,Coastlines&opacities=1,1&worldfile=false&format=image/jpeg&width=996&height=716\\n\",\n",
      "/home/ctroupin/Projects/Archived/SOCIB_plots/Projects/Rissaga/get_visible_image.ipynb:      \"http://map2.vis.earthdata.nasa.gov/image-download?TIME=2015038&extent=-3.0847678764712523,34.724051833786476,5.669138373528748,41.017020583786476&epsg=4326&layers=MODIS_Terra_CorrectedReflectance_TrueColor,Coastlines&opacities=1,1&worldfile=false&format=image/jpeg&width=996&height=716\\n\",\n",
      "/home/ctroupin/Projects/Archived/SOCIB_plots/Projects/Rissaga/get_visible_image.ipynb:      \"http://map2.vis.earthdata.nasa.gov/image-download?TIME=2015092&extent=-3.0847678764712523,34.724051833786476,5.669138373528748,41.017020583786476&epsg=4326&layers=VIIRS_SNPP_CorrectedReflectance_TrueColor,Coastlines&opacities=1,1&worldfile=false&format=image/jpeg&width=996&height=716\\n\",\n",
      "/home/ctroupin/Projects/Archived/SOCIB_plots/Projects/Rissaga/get_visible_image.ipynb:      \"http://map2.vis.earthdata.nasa.gov/image-download?TIME=2015092&extent=-3.0847678764712523,34.724051833786476,5.669138373528748,41.017020583786476&epsg=4326&layers=MODIS_Terra_CorrectedReflectance_TrueColor,Coastlines&opacities=1,1&worldfile=false&format=image/jpeg&width=996&height=716\\n\",\n",
      "/home/ctroupin/Projects/Archived/SOCIB_plots/Projects/Rissaga/get_visible_image.ipynb:      \"http://map2.vis.earthdata.nasa.gov/image-download?TIME=2015262&extent=-3.0847678764712523,34.724051833786476,5.669138373528748,41.017020583786476&epsg=4326&layers=VIIRS_SNPP_CorrectedReflectance_TrueColor,Coastlines&opacities=1,1&worldfile=false&format=image/jpeg&width=996&height=716\\n\",\n",
      "/home/ctroupin/Projects/Archived/SOCIB_plots/Projects/Rissaga/get_visible_image.ipynb:      \"http://map2.vis.earthdata.nasa.gov/image-download?TIME=2015262&extent=-3.0847678764712523,34.724051833786476,5.669138373528748,41.017020583786476&epsg=4326&layers=MODIS_Terra_CorrectedReflectance_TrueColor,Coastlines&opacities=1,1&worldfile=false&format=image/jpeg&width=996&height=716\\n\",\n",
      "/home/ctroupin/Projects/Archived/SOCIB_plots/Projects/Rissaga/get_visible_image.ipynb:      \"http://map2.vis.earthdata.nasa.gov/image-download?TIME=2015213&extent=-3.0847678764712523,34.724051833786476,5.669138373528748,41.017020583786476&epsg=4326&layers=VIIRS_SNPP_CorrectedReflectance_TrueColor,Coastlines&opacities=1,1&worldfile=false&format=image/jpeg&width=996&height=716\\n\",\n",
      "/home/ctroupin/Projects/Archived/SOCIB_plots/Projects/Rissaga/get_visible_image.ipynb:      \"http://map2.vis.earthdata.nasa.gov/image-download?TIME=2015213&extent=-3.0847678764712523,34.724051833786476,5.669138373528748,41.017020583786476&epsg=4326&layers=MODIS_Terra_CorrectedReflectance_TrueColor,Coastlines&opacities=1,1&worldfile=false&format=image/jpeg&width=996&height=716\\n\",\n",
      "/home/ctroupin/Projects/Archived/SOCIB_plots/Projects/Rissaga/get_visible_image.ipynb:      \"http://map2.vis.earthdata.nasa.gov/image-download?TIME=2015211&extent=-3.0847678764712523,34.724051833786476,5.669138373528748,41.017020583786476&epsg=4326&layers=VIIRS_SNPP_CorrectedReflectance_TrueColor,Coastlines&opacities=1,1&worldfile=false&format=image/jpeg&width=996&height=716\\n\",\n",
      "/home/ctroupin/Projects/Archived/SOCIB_plots/Projects/Rissaga/get_visible_image.ipynb:      \"http://map2.vis.earthdata.nasa.gov/image-download?TIME=2015211&extent=-3.0847678764712523,34.724051833786476,5.669138373528748,41.017020583786476&epsg=4326&layers=MODIS_Terra_CorrectedReflectance_TrueColor,Coastlines&opacities=1,1&worldfile=false&format=image/jpeg&width=996&height=716\\n\",\n",
      "/home/ctroupin/Projects/Archived/SOCIB_plots/Projects/Rissaga/get_visible_image.ipynb:      \"http://map2.vis.earthdata.nasa.gov/image-download?TIME=2015165&extent=-3.0847678764712523,34.724051833786476,5.669138373528748,41.017020583786476&epsg=4326&layers=VIIRS_SNPP_CorrectedReflectance_TrueColor,Coastlines&opacities=1,1&worldfile=false&format=image/jpeg&width=996&height=716\\n\",\n",
      "/home/ctroupin/Projects/Archived/SOCIB_plots/Projects/Rissaga/get_visible_image.ipynb:      \"http://map2.vis.earthdata.nasa.gov/image-download?TIME=2015165&extent=-3.0847678764712523,34.724051833786476,5.669138373528748,41.017020583786476&epsg=4326&layers=MODIS_Terra_CorrectedReflectance_TrueColor,Coastlines&opacities=1,1&worldfile=false&format=image/jpeg&width=996&height=716\\n\",\n",
      "/home/ctroupin/Projects/Archived/SOCIB_plots/Projects/Rissaga/get_visible_image.ipynb:      \"http://map2.vis.earthdata.nasa.gov/image-download?TIME=2015163&extent=-3.0847678764712523,34.724051833786476,5.669138373528748,41.017020583786476&epsg=4326&layers=VIIRS_SNPP_CorrectedReflectance_TrueColor,Coastlines&opacities=1,1&worldfile=false&format=image/jpeg&width=996&height=716\\n\",\n",
      "/home/ctroupin/Projects/Archived/SOCIB_plots/Projects/Rissaga/get_visible_image.ipynb:      \"http://map2.vis.earthdata.nasa.gov/image-download?TIME=2015163&extent=-3.0847678764712523,34.724051833786476,5.669138373528748,41.017020583786476&epsg=4326&layers=MODIS_Terra_CorrectedReflectance_TrueColor,Coastlines&opacities=1,1&worldfile=false&format=image/jpeg&width=996&height=716\\n\",\n"
     ]
    },
    {
     "name": "stdout",
     "output_type": "stream",
     "text": [
      "/home/ctroupin/Projects/Archived/SOCIB_plots/Projects/Rissaga/get_visible_image.ipynb:      \"http://map2.vis.earthdata.nasa.gov/image-download?TIME=2015126&extent=-3.0847678764712523,34.724051833786476,5.669138373528748,41.017020583786476&epsg=4326&layers=VIIRS_SNPP_CorrectedReflectance_TrueColor,Coastlines&opacities=1,1&worldfile=false&format=image/jpeg&width=996&height=716\\n\",\n",
      "/home/ctroupin/Projects/Archived/SOCIB_plots/Projects/Rissaga/get_visible_image.ipynb:      \"http://map2.vis.earthdata.nasa.gov/image-download?TIME=2015126&extent=-3.0847678764712523,34.724051833786476,5.669138373528748,41.017020583786476&epsg=4326&layers=MODIS_Terra_CorrectedReflectance_TrueColor,Coastlines&opacities=1,1&worldfile=false&format=image/jpeg&width=996&height=716\\n\",\n",
      "/home/ctroupin/Projects/Archived/SOCIB_plots/Projects/Rissaga/get_visible_image.ipynb:      \"http://map2.vis.earthdata.nasa.gov/image-download?TIME=2015125&extent=-3.0847678764712523,34.724051833786476,5.669138373528748,41.017020583786476&epsg=4326&layers=VIIRS_SNPP_CorrectedReflectance_TrueColor,Coastlines&opacities=1,1&worldfile=false&format=image/jpeg&width=996&height=716\\n\",\n",
      "/home/ctroupin/Projects/Archived/SOCIB_plots/Projects/Rissaga/get_visible_image.ipynb:      \"http://map2.vis.earthdata.nasa.gov/image-download?TIME=2015125&extent=-3.0847678764712523,34.724051833786476,5.669138373528748,41.017020583786476&epsg=4326&layers=MODIS_Terra_CorrectedReflectance_TrueColor,Coastlines&opacities=1,1&worldfile=false&format=image/jpeg&width=996&height=716\\n\",\n",
      "/home/ctroupin/Projects/Archived/SOCIB_plots/Projects/Rissaga/get_visible_image.ipynb:      \"http://map2.vis.earthdata.nasa.gov/image-download?TIME=2015112&extent=-3.0847678764712523,34.724051833786476,5.669138373528748,41.017020583786476&epsg=4326&layers=VIIRS_SNPP_CorrectedReflectance_TrueColor,Coastlines&opacities=1,1&worldfile=false&format=image/jpeg&width=996&height=716\\n\",\n",
      "/home/ctroupin/Projects/Archived/SOCIB_plots/Projects/Rissaga/get_visible_image.ipynb:      \"http://map2.vis.earthdata.nasa.gov/image-download?TIME=2015112&extent=-3.0847678764712523,34.724051833786476,5.669138373528748,41.017020583786476&epsg=4326&layers=MODIS_Terra_CorrectedReflectance_TrueColor,Coastlines&opacities=1,1&worldfile=false&format=image/jpeg&width=996&height=716\\n\",\n",
      "/home/ctroupin/Projects/Archived/SOCIB_plots/Projects/Rissaga/get_visible_image.ipynb:    \"    epsg=4326&layers=VIIRS_SNPP_CorrectedReflectance_TrueColor,Coastlines&opacities=1,1&\\n\",\n",
      "/home/ctroupin/Projects/Archived/SOCIB_plots/Projects/Rissaga/get_visible_image.ipynb:    \"    \\\"epsg=4326&layers=VIIRS_SNPP_CorrectedReflectance_TrueColor,Coastlines&opacities=1,1&\\\"\\n\",\n",
      "/home/ctroupin/Projects/Archived/SOCIB_plots/Projects/Rissaga/get_visible_image.ipynb:       \"'http://map2.vis.earthdata.nasa.gov/image-download?TIME=2015038&extent=-1.5232772478772887,35.47685181135699,6.589027439622711,42.53446899885699&epsg=4326&layers=VIIRS_SNPP_CorrectedReflectance_TrueColor,Coastlines&opacities=1,1&worldfile=false&format=image/jpeg&width=185&height=161'\"\n",
      "/home/ctroupin/Projects/FNRS-UpwellingFilaments/Filament-Submesoscale/python/plot_swot_track.ipynb:    \"            epsg=4326, resolution='i')\"\n",
      "/home/ctroupin/Projects/FNRS-UpwellingFilaments/Filament-Submesoscale/python/.ipynb_checkpoints/plot_swot_track-checkpoint.ipynb:    \"            epsg=4326, resolution='i')\"\n",
      "/home/ctroupin/Projects/FNRS-UpwellingFilaments/Filament-Submesoscale/python/.ipynb_checkpoints/plot_filament_Canary-checkpoint.ipynb:    \"            epsg=4326, resolution='h')\"\n",
      "/home/ctroupin/Projects/FNRS-UpwellingFilaments/Filament-Submesoscale/python/.ipynb_checkpoints/plot_filament_IBImodel-checkpoint.ipynb:    \"            epsg=4326, resolution='h')\"\n",
      "/home/ctroupin/Projects/FNRS-UpwellingFilaments/Filament-Submesoscale/python/plot_filament_IBImodel.ipynb:    \"            epsg=4326, resolution='h')\"\n",
      "/home/ctroupin/Projects/FNRS-UpwellingFilaments/Filament-Submesoscale/python/plot_filament_Canary.ipynb:    \"            epsg=4326, resolution='h')\"\n",
      "/home/ctroupin/Projects/EMODnet-Biology-fish-benthos-traits/notebooks/grid2json.ipynb:    \"            resolution = 'l', epsg=3857)\"\n",
      "/home/ctroupin/Projects/2017_EMODnetChemistry3/EMODnet-Chemistry/OpenSeaLab/notebooks/OpenSeaLab-EMODnet_Chemistry.ipynb:    \"Then we will create a png image. The projection has to be set to epsg=3857\\n\",\n",
      "/home/ctroupin/Projects/2017_EMODnetChemistry3/EMODnet-Chemistry/OpenSeaLab/notebooks/OpenSeaLab-EMODnet_Chemistry.ipynb:    \"            resolution = 'l', epsg=3857)\"\n",
      "/home/ctroupin/Projects/2017_EMODnetChemistry3/EMODnet-Chemistry/OpenSeaLab/notebooks/.ipynb_checkpoints/OpenSeaLab-EMODnet_Chemistry-checkpoint.ipynb:    \"Then we will create a png image. The projection has to be set to epsg=3857\\n\",\n",
      "/home/ctroupin/Projects/2017_EMODnetChemistry3/EMODnet-Chemistry/OpenSeaLab/notebooks/.ipynb_checkpoints/OpenSeaLab-EMODnet_Chemistry-checkpoint.ipynb:    \"            resolution = 'l', epsg=3857)\"\n"
     ]
    }
   ],
   "source": [
    "find /home/ctroupin/Projects -name '*.ipynb' -exec grep -i 'epsg=' {} +"
   ]
  },
  {
   "cell_type": "code",
   "execution_count": 4,
   "metadata": {},
   "outputs": [
    {
     "name": "stdout",
     "output_type": "stream",
     "text": [
      "find: ‘/home/ctroupin/.cache/dconf’: Permission denied\n",
      "find: ‘/home/ctroupin/.dbus’: Permission denied\n",
      "/home/ctroupin/Projects/ctroupin.github.io/_site/CV/python/make_map_employers.ipynb:    \"plt.savefig(\\\"employment_map.png\\\", transparent=True, dpi=300,\\n\",\n",
      "/home/ctroupin/Projects/ctroupin.github.io/CV/python/make_map_employers.ipynb:    \"plt.savefig(\\\"employment_map.png\\\", transparent=True, dpi=300,\\n\",\n",
      "/home/ctroupin/Projects/ctroupin.github.io/CV/python/.ipynb_checkpoints/make_map_employers-checkpoint.ipynb:    \"plt.savefig(\\\"employment_map.png\\\", transparent=True, dpi=300,\\n\",\n",
      "/home/ctroupin/Projects/ctroupin.github.io/notebooks/bash/bash_stuffs.ipynb:    \"find /home/ctroupin/ -name '*py*' -type f -exec grep -i 'employment_map.png' {} +\"\n",
      "\n"
     ]
    }
   ],
   "source": [
    "find /home/ctroupin/ -name '*py*' -type f -exec grep -i 'employment_map' {} +"
   ]
  },
  {
   "cell_type": "markdown",
   "metadata": {},
   "source": [
    "## Find most recent file by extension"
   ]
  },
  {
   "cell_type": "code",
   "execution_count": null,
   "metadata": {
    "collapsed": true
   },
   "outputs": [],
   "source": [
    "find . -name '*' -printf \"%T+\\t%p\\n\" | sort -r | head -5"
   ]
  },
  {
   "cell_type": "markdown",
   "metadata": {
    "collapsed": true
   },
   "source": [
    "## Files not containing given string"
   ]
  },
  {
   "cell_type": "code",
   "execution_count": null,
   "metadata": {
    "collapsed": true
   },
   "outputs": [],
   "source": [
    "grep -L \"foo\" *html"
   ]
  },
  {
   "cell_type": "markdown",
   "metadata": {},
   "source": [
    "## Files bigger than..."
   ]
  },
  {
   "cell_type": "code",
   "execution_count": null,
   "metadata": {
    "collapsed": true
   },
   "outputs": [],
   "source": [
    "find /home/ctroupin -type f -size +100M -exec ls -sh {} \\;"
   ]
  },
  {
   "cell_type": "markdown",
   "metadata": {
    "collapsed": true
   },
   "source": [
    "## ODV spreadsheet processing\n",
    "Specific commands to process the Ocean Data View spreadsheets."
   ]
  },
  {
   "cell_type": "markdown",
   "metadata": {},
   "source": [
    "### Remove lines starting with a \"/\""
   ]
  },
  {
   "cell_type": "code",
   "execution_count": null,
   "metadata": {
    "collapsed": true
   },
   "outputs": [],
   "source": [
    "sed -i '/^\\/\\//d' filename"
   ]
  },
  {
   "cell_type": "markdown",
   "metadata": {},
   "source": [
    "### Remove lines with number of columns lower than ..."
   ]
  },
  {
   "cell_type": "code",
   "execution_count": null,
   "metadata": {
    "collapsed": true
   },
   "outputs": [],
   "source": [
    "awk 'NF>=12' filename"
   ]
  },
  {
   "cell_type": "markdown",
   "metadata": {},
   "source": [
    "### Print columns, given field separator"
   ]
  },
  {
   "cell_type": "code",
   "execution_count": null,
   "metadata": {
    "collapsed": true
   },
   "outputs": [],
   "source": [
    "awk 'BEGIN { FS=\"\\t\" } { print $5, $6 }' filename"
   ]
  },
  {
   "cell_type": "markdown",
   "metadata": {},
   "source": [
    "### Remove duplicate lines"
   ]
  },
  {
   "cell_type": "code",
   "execution_count": null,
   "metadata": {
    "collapsed": true
   },
   "outputs": [],
   "source": [
    "awk '!a[$0]++' filename"
   ]
  },
  {
   "cell_type": "markdown",
   "metadata": {},
   "source": [
    "## PDF processing\n",
    "Use [pdftk](https://www.pdflabs.com/docs/pdftk-cli-examples/)"
   ]
  },
  {
   "cell_type": "code",
   "execution_count": null,
   "metadata": {
    "collapsed": true
   },
   "outputs": [],
   "source": [
    "pdftk input.pdf cat 14 output output.pdf"
   ]
  },
  {
   "cell_type": "markdown",
   "metadata": {},
   "source": [
    "# O.S. information"
   ]
  },
  {
   "cell_type": "markdown",
   "metadata": {},
   "source": [
    "Get kernel version"
   ]
  },
  {
   "cell_type": "code",
   "execution_count": 1,
   "metadata": {},
   "outputs": [
    {
     "name": "stdout",
     "output_type": "stream",
     "text": [
      "Release:\t16.04\n"
     ]
    }
   ],
   "source": [
    "lsb_release -r"
   ]
  },
  {
   "cell_type": "code",
   "execution_count": 4,
   "metadata": {},
   "outputs": [
    {
     "name": "stdout",
     "output_type": "stream",
     "text": [
      "#44~16.04.1-Ubuntu SMP Thu Apr 5 16:43:10 UTC 2018\n"
     ]
    }
   ],
   "source": [
    "uname -v"
   ]
  },
  {
   "cell_type": "markdown",
   "metadata": {
    "collapsed": true
   },
   "source": [
    "# File transfer\n",
    "## Secure Copy (scp)\n",
    "Escape white spaces in file path (https://stackoverflow.com/questions/19858176/how-to-escape-spaces-in-path-during-scp-copy-in-linux)"
   ]
  },
  {
   "cell_type": "code",
   "execution_count": null,
   "metadata": {
    "collapsed": true
   },
   "outputs": [],
   "source": [
    "scp foo@bar:\"\\\"apath/with spaces in it/\\\"\""
   ]
  },
  {
   "cell_type": "markdown",
   "metadata": {},
   "source": [
    "## rsync\n",
    "With spaces in paths:"
   ]
  },
  {
   "cell_type": "code",
   "execution_count": null,
   "metadata": {
    "collapsed": true
   },
   "outputs": [],
   "source": [
    "rsync -rv 'ctroupin@gher-diva.phys.ulg.ac.be:\"/home/seadatanet/emodnet/Black Sea\"' ."
   ]
  },
  {
   "cell_type": "markdown",
   "metadata": {},
   "source": [
    "## Checking file integrity\n",
    "First create a list of md5sum:"
   ]
  },
  {
   "cell_type": "code",
   "execution_count": null,
   "metadata": {
    "collapsed": true
   },
   "outputs": [],
   "source": [
    "find . -type f -name '*.nc' -exec md5sum \"{}\" > checklist.chk + #"
   ]
  },
  {
   "cell_type": "markdown",
   "metadata": {},
   "source": [
    "Then after the file transfer, check the integrity:"
   ]
  },
  {
   "cell_type": "code",
   "execution_count": null,
   "metadata": {
    "collapsed": true
   },
   "outputs": [],
   "source": [
    "md5sum -c checklist.chk"
   ]
  },
  {
   "cell_type": "markdown",
   "metadata": {},
   "source": [
    "# GPS file conversion\n",
    "Use tool [gpsbabel](https://www.gpsbabel.org)"
   ]
  },
  {
   "cell_type": "code",
   "execution_count": null,
   "metadata": {
    "collapsed": true
   },
   "outputs": [],
   "source": [
    "gpsbabel -i tcx -f filein.tcx -o gpx -F fileout.gpx"
   ]
  }
 ],
 "metadata": {
  "@webio": {
   "lastCommId": "87F3066FC5F94FFF93988DFBC0DAF254",
   "lastKernelId": "791d2c78-9dd2-415d-b91f-cb3a1559b943"
  },
  "kernelspec": {
   "display_name": "Bash",
   "language": "bash",
   "name": "bash"
  }
 },
 "nbformat": 4,
 "nbformat_minor": 2
}
