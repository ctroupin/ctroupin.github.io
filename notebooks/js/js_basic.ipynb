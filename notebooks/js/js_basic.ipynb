{
 "cells": [
  {
   "cell_type": "markdown",
   "metadata": {},
   "source": [
    "Get current year"
   ]
  },
  {
   "cell_type": "code",
   "execution_count": 5,
   "metadata": {},
   "outputs": [
    {
     "name": "stdout",
     "output_type": "stream",
     "text": [
      "2018\n",
      "number\n"
     ]
    }
   ],
   "source": [
    "// Return today's date and time\n",
    "var currentTime = new Date()\n",
    "var year = currentTime.getFullYear()\n",
    "console.log(year);\n",
    "console.log(typeof(year))"
   ]
  },
  {
   "cell_type": "code",
   "execution_count": 1,
   "metadata": {
    "collapsed": true
   },
   "outputs": [],
   "source": [
    "var x = 1;"
   ]
  },
  {
   "cell_type": "code",
   "execution_count": 1,
   "metadata": {
    "collapsed": true
   },
   "outputs": [],
   "source": [
    "function makeColorGradient(frequency1, frequency2, frequency3,\n",
    "                             phase1, phase2, phase3,\n",
    "                             center, width, len)\n",
    "  {\n",
    "    if (center == undefined)   center = 128;\n",
    "    if (width == undefined)    width = 127;\n",
    "    if (len == undefined)      len = 50;\n",
    "\n",
    "    for (var i = 0; i < len; ++i)\n",
    "    {\n",
    "       var red = Math.sin(frequency1*i + phase1) * width + center;\n",
    "       var grn = Math.sin(frequency2*i + phase2) * width + center;\n",
    "       var blu = Math.sin(frequency3*i + phase3) * width + center;\n",
    "       document.write( '<font color=\"' + RGB2Color(red,grn,blu) + '\">&#9608;</font>');\n",
    "    }\n",
    "  }"
   ]
  },
  {
   "cell_type": "code",
   "execution_count": 2,
   "metadata": {},
   "outputs": [
    {
     "ename": "ReferenceError",
     "evalue": "document is not defined",
     "output_type": "error",
     "traceback": [
      "ReferenceError: document is not defined",
      "    at makeColorGradient (evalmachine.<anonymous>:14:8)",
      "    at evalmachine.<anonymous>:1:5",
      "    at ContextifyScript.Script.runInThisContext (vm.js:25:33)",
      "    at Object.exports.runInThisContext (vm.js:77:17)",
      "    at run ([eval]:821:15)",
      "    at onRunRequest ([eval]:666:18)",
      "    at onMessage ([eval]:634:13)",
      "    at emitTwo (events.js:106:13)",
      "    at process.emit (events.js:191:7)",
      "    at process.nextTick (internal/child_process.js:744:12)"
     ]
    }
   ],
   "source": [
    "makeColorGradient(.3,.3,.3,0,2,4);"
   ]
  },
  {
   "cell_type": "code",
   "execution_count": null,
   "metadata": {
    "collapsed": true
   },
   "outputs": [],
   "source": []
  }
 ],
 "metadata": {
  "kernelspec": {
   "display_name": "Javascript (Node.js)",
   "language": "javascript",
   "name": "javascript"
  },
  "language_info": {
   "file_extension": ".js",
   "mimetype": "application/javascript",
   "name": "javascript",
   "version": "6.10.0"
  }
 },
 "nbformat": 4,
 "nbformat_minor": 2
}
