{
 "cells": [
  {
   "cell_type": "code",
   "execution_count": null,
   "metadata": {},
   "outputs": [],
   "source": [
    "import os\n",
    "import matplotlib.pyplot as plt\n",
    "import matplotlib\n",
    "import numpy as np\n",
    "import netCDF4\n",
    "import sys\n",
    "sys.path.insert(0, '..')\n",
    "import filament\n",
    "from matplotlib.font_manager import FontProperties\n",
    "fontfile = \"/home/ctroupin/.fonts/DS-DIGI.TTF\"\n",
    "myfont = FontProperties(fname=fontfile)\n",
    "matplotlib.rcParams.update({'font.size': 22})"
   ]
  },
  {
   "cell_type": "code",
   "execution_count": null,
   "metadata": {},
   "outputs": [],
   "source": [
    "naodir = \"/data/NAO/\"\n",
    "figdir = \"/data/NAO/figures\"\n",
    "if not os.path.exists(figdir):\n",
    "    os.makedirs(figdir)\n",
    "file1 = os.path.join(naodir, \"nao.long.data\")\n",
    "file2 = os.path.join(naodir, \"nao_station_monthly.txt\")\n",
    "file3 = os.path.join(naodir, \"norm.nao.monthly.b5001.current.ascii\")\n",
    "\n",
    "dates1, naovalues1 = filament.read_nao_esrl(file1)\n",
    "dates2, naovalues2 = filament.read_nao_ucar(file2)\n",
    "dates3, naovalues3 = filament.read_nao_noaa(file3)"
   ]
  },
  {
   "cell_type": "code",
   "execution_count": null,
   "metadata": {},
   "outputs": [],
   "source": [
    "d0 = dates.data[0]"
   ]
  },
  {
   "cell_type": "code",
   "execution_count": null,
   "metadata": {},
   "outputs": [],
   "source": [
    "with plt.style.context('seaborn-colorblind'):\n",
    "    fig = plt.figure()\n",
    "    ax = plt.subplot(111)\n",
    "    ax.plot(3, 2.)\n",
    "    plt.setp(ax.get_xticklabels(), fontproperties=myfont, fontsize=16)\n",
    "    plt.setp(ax.get_yticklabels(), fontproperties=myfont, fontsize=16)\n",
    "    ax.spines['top'].set_visible(False)\n",
    "    ax.spines['right'].set_visible(False)\n",
    "    ax.spines['left'].set_visible(False)\n",
    "    ax.spines['bottom'].set_visible(False)\n",
    "\n",
    "    plt.show()"
   ]
  },
  {
   "cell_type": "code",
   "execution_count": null,
   "metadata": {},
   "outputs": [],
   "source": [
    "style_list = ['default', 'classic'] + sorted(style for style in plt.style.available if style != 'classic')\n",
    "style_list"
   ]
  },
  {
   "cell_type": "code",
   "execution_count": null,
   "metadata": {},
   "outputs": [],
   "source": []
  }
 ],
 "metadata": {
  "@webio": {
   "lastCommId": null,
   "lastKernelId": null
  },
  "kernelspec": {
   "display_name": "Filament",
   "language": "python",
   "name": "filament3.8"
  },
  "language_info": {
   "codemirror_mode": {
    "name": "ipython",
    "version": 3
   },
   "file_extension": ".py",
   "mimetype": "text/x-python",
   "name": "python",
   "nbconvert_exporter": "python",
   "pygments_lexer": "ipython3",
   "version": "3.8.0"
  }
 },
 "nbformat": 4,
 "nbformat_minor": 2
}
